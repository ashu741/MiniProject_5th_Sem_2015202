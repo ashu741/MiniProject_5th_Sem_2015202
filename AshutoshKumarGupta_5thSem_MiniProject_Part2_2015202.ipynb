{
 "cells": [
  {
   "cell_type": "markdown",
   "id": "3f9c884d",
   "metadata": {},
   "source": [
    "# Importing Libraries"
   ]
  },
  {
   "cell_type": "code",
   "execution_count": 1,
   "id": "912ed154",
   "metadata": {},
   "outputs": [],
   "source": [
    "import pandas as pd\n",
    "import matplotlib.pyplot as plt\n",
    "import numpy as np\n",
    "import seaborn as sns\n",
    "from sklearn.model_selection import train_test_split\n",
    "from sklearn import metrics\n",
    "from sklearn.ensemble import RandomForestClassifier\n",
    "from imblearn.over_sampling import SMOTE\n",
    "from sklearn.linear_model import LogisticRegression\n",
    "from sklearn.tree import DecisionTreeClassifier\n",
    "from sklearn.ensemble import AdaBoostClassifier\n",
    "from sklearn.preprocessing import StandardScaler\n",
    "from sklearn.neighbors import KNeighborsClassifier\n",
    "from sklearn.decomposition import PCA\n",
    "from sklearn.preprocessing import LabelEncoder\n",
    "le=LabelEncoder()"
   ]
  },
  {
   "cell_type": "code",
   "execution_count": 60,
   "id": "f8a7b906",
   "metadata": {},
   "outputs": [
    {
     "data": {
      "text/html": [
       "<div>\n",
       "<style scoped>\n",
       "    .dataframe tbody tr th:only-of-type {\n",
       "        vertical-align: middle;\n",
       "    }\n",
       "\n",
       "    .dataframe tbody tr th {\n",
       "        vertical-align: top;\n",
       "    }\n",
       "\n",
       "    .dataframe thead th {\n",
       "        text-align: right;\n",
       "    }\n",
       "</style>\n",
       "<table border=\"1\" class=\"dataframe\">\n",
       "  <thead>\n",
       "    <tr style=\"text-align: right;\">\n",
       "      <th></th>\n",
       "      <th>Fever</th>\n",
       "      <th>Tiredness</th>\n",
       "      <th>Dry-Cough</th>\n",
       "      <th>Difficulty-in-Breathing</th>\n",
       "      <th>Sore-Throat</th>\n",
       "      <th>None_Sympton</th>\n",
       "      <th>Pains</th>\n",
       "      <th>Nasal-Congestion</th>\n",
       "      <th>Runny-Nose</th>\n",
       "      <th>Diarrhea</th>\n",
       "      <th>...</th>\n",
       "      <th>Gender_Female</th>\n",
       "      <th>Gender_Male</th>\n",
       "      <th>Gender_Transgender</th>\n",
       "      <th>Severity_Mild</th>\n",
       "      <th>Severity_Moderate</th>\n",
       "      <th>Severity_None</th>\n",
       "      <th>Severity_Severe</th>\n",
       "      <th>Contact_Dont-Know</th>\n",
       "      <th>Contact_No</th>\n",
       "      <th>Contact_Yes</th>\n",
       "    </tr>\n",
       "  </thead>\n",
       "  <tbody>\n",
       "    <tr>\n",
       "      <th>0</th>\n",
       "      <td>1</td>\n",
       "      <td>1</td>\n",
       "      <td>1</td>\n",
       "      <td>1</td>\n",
       "      <td>1</td>\n",
       "      <td>0</td>\n",
       "      <td>1</td>\n",
       "      <td>1</td>\n",
       "      <td>1</td>\n",
       "      <td>1</td>\n",
       "      <td>...</td>\n",
       "      <td>0</td>\n",
       "      <td>1</td>\n",
       "      <td>0</td>\n",
       "      <td>1</td>\n",
       "      <td>0</td>\n",
       "      <td>0</td>\n",
       "      <td>0</td>\n",
       "      <td>0</td>\n",
       "      <td>0</td>\n",
       "      <td>1</td>\n",
       "    </tr>\n",
       "    <tr>\n",
       "      <th>1</th>\n",
       "      <td>1</td>\n",
       "      <td>1</td>\n",
       "      <td>1</td>\n",
       "      <td>1</td>\n",
       "      <td>1</td>\n",
       "      <td>0</td>\n",
       "      <td>1</td>\n",
       "      <td>1</td>\n",
       "      <td>1</td>\n",
       "      <td>1</td>\n",
       "      <td>...</td>\n",
       "      <td>0</td>\n",
       "      <td>1</td>\n",
       "      <td>0</td>\n",
       "      <td>1</td>\n",
       "      <td>0</td>\n",
       "      <td>0</td>\n",
       "      <td>0</td>\n",
       "      <td>0</td>\n",
       "      <td>1</td>\n",
       "      <td>0</td>\n",
       "    </tr>\n",
       "    <tr>\n",
       "      <th>2</th>\n",
       "      <td>1</td>\n",
       "      <td>1</td>\n",
       "      <td>1</td>\n",
       "      <td>1</td>\n",
       "      <td>1</td>\n",
       "      <td>0</td>\n",
       "      <td>1</td>\n",
       "      <td>1</td>\n",
       "      <td>1</td>\n",
       "      <td>1</td>\n",
       "      <td>...</td>\n",
       "      <td>0</td>\n",
       "      <td>1</td>\n",
       "      <td>0</td>\n",
       "      <td>1</td>\n",
       "      <td>0</td>\n",
       "      <td>0</td>\n",
       "      <td>0</td>\n",
       "      <td>1</td>\n",
       "      <td>0</td>\n",
       "      <td>0</td>\n",
       "    </tr>\n",
       "    <tr>\n",
       "      <th>3</th>\n",
       "      <td>1</td>\n",
       "      <td>1</td>\n",
       "      <td>1</td>\n",
       "      <td>1</td>\n",
       "      <td>1</td>\n",
       "      <td>0</td>\n",
       "      <td>1</td>\n",
       "      <td>1</td>\n",
       "      <td>1</td>\n",
       "      <td>1</td>\n",
       "      <td>...</td>\n",
       "      <td>0</td>\n",
       "      <td>1</td>\n",
       "      <td>0</td>\n",
       "      <td>0</td>\n",
       "      <td>1</td>\n",
       "      <td>0</td>\n",
       "      <td>0</td>\n",
       "      <td>0</td>\n",
       "      <td>0</td>\n",
       "      <td>1</td>\n",
       "    </tr>\n",
       "    <tr>\n",
       "      <th>4</th>\n",
       "      <td>1</td>\n",
       "      <td>1</td>\n",
       "      <td>1</td>\n",
       "      <td>1</td>\n",
       "      <td>1</td>\n",
       "      <td>0</td>\n",
       "      <td>1</td>\n",
       "      <td>1</td>\n",
       "      <td>1</td>\n",
       "      <td>1</td>\n",
       "      <td>...</td>\n",
       "      <td>0</td>\n",
       "      <td>1</td>\n",
       "      <td>0</td>\n",
       "      <td>0</td>\n",
       "      <td>1</td>\n",
       "      <td>0</td>\n",
       "      <td>0</td>\n",
       "      <td>0</td>\n",
       "      <td>1</td>\n",
       "      <td>0</td>\n",
       "    </tr>\n",
       "  </tbody>\n",
       "</table>\n",
       "<p>5 rows × 26 columns</p>\n",
       "</div>"
      ],
      "text/plain": [
       "   Fever  Tiredness  Dry-Cough  Difficulty-in-Breathing  Sore-Throat  \\\n",
       "0      1          1          1                        1            1   \n",
       "1      1          1          1                        1            1   \n",
       "2      1          1          1                        1            1   \n",
       "3      1          1          1                        1            1   \n",
       "4      1          1          1                        1            1   \n",
       "\n",
       "   None_Sympton  Pains  Nasal-Congestion  Runny-Nose  Diarrhea  ...  \\\n",
       "0             0      1                 1           1         1  ...   \n",
       "1             0      1                 1           1         1  ...   \n",
       "2             0      1                 1           1         1  ...   \n",
       "3             0      1                 1           1         1  ...   \n",
       "4             0      1                 1           1         1  ...   \n",
       "\n",
       "   Gender_Female  Gender_Male  Gender_Transgender  Severity_Mild  \\\n",
       "0              0            1                   0              1   \n",
       "1              0            1                   0              1   \n",
       "2              0            1                   0              1   \n",
       "3              0            1                   0              0   \n",
       "4              0            1                   0              0   \n",
       "\n",
       "   Severity_Moderate  Severity_None  Severity_Severe  Contact_Dont-Know  \\\n",
       "0                  0              0                0                  0   \n",
       "1                  0              0                0                  0   \n",
       "2                  0              0                0                  1   \n",
       "3                  1              0                0                  0   \n",
       "4                  1              0                0                  0   \n",
       "\n",
       "   Contact_No  Contact_Yes  \n",
       "0           0            1  \n",
       "1           1            0  \n",
       "2           0            0  \n",
       "3           0            1  \n",
       "4           1            0  \n",
       "\n",
       "[5 rows x 26 columns]"
      ]
     },
     "execution_count": 60,
     "metadata": {},
     "output_type": "execute_result"
    }
   ],
   "source": [
    "dataset1=pd.read_csv(\"Cleaned_Data.csv\")\n",
    "dataset1.head()"
   ]
  },
  {
   "cell_type": "code",
   "execution_count": 3,
   "id": "3db19bdf",
   "metadata": {},
   "outputs": [
    {
     "data": {
      "text/plain": [
       "<bound method NDFrame.describe of         Fever  Tiredness  Dry-Cough  Difficulty-in-Breathing  Sore-Throat  \\\n",
       "0           1          1          1                        1            1   \n",
       "1           1          1          1                        1            1   \n",
       "2           1          1          1                        1            1   \n",
       "3           1          1          1                        1            1   \n",
       "4           1          1          1                        1            1   \n",
       "...       ...        ...        ...                      ...          ...   \n",
       "316795      0          0          0                        0            0   \n",
       "316796      0          0          0                        0            0   \n",
       "316797      0          0          0                        0            0   \n",
       "316798      0          0          0                        0            0   \n",
       "316799      0          0          0                        0            0   \n",
       "\n",
       "        None_Sympton  Pains  Nasal-Congestion  Runny-Nose  Diarrhea  ...  \\\n",
       "0                  0      1                 1           1         1  ...   \n",
       "1                  0      1                 1           1         1  ...   \n",
       "2                  0      1                 1           1         1  ...   \n",
       "3                  0      1                 1           1         1  ...   \n",
       "4                  0      1                 1           1         1  ...   \n",
       "...              ...    ...               ...         ...       ...  ...   \n",
       "316795             1      0                 0           0         0  ...   \n",
       "316796             1      0                 0           0         0  ...   \n",
       "316797             1      0                 0           0         0  ...   \n",
       "316798             1      0                 0           0         0  ...   \n",
       "316799             1      0                 0           0         0  ...   \n",
       "\n",
       "        Gender_Female  Gender_Male  Gender_Transgender  Severity_Mild  \\\n",
       "0                   0            1                   0              1   \n",
       "1                   0            1                   0              1   \n",
       "2                   0            1                   0              1   \n",
       "3                   0            1                   0              0   \n",
       "4                   0            1                   0              0   \n",
       "...               ...          ...                 ...            ...   \n",
       "316795              0            0                   1              0   \n",
       "316796              0            0                   1              0   \n",
       "316797              0            0                   1              0   \n",
       "316798              0            0                   1              0   \n",
       "316799              0            0                   1              0   \n",
       "\n",
       "        Severity_Moderate  Severity_None  Severity_Severe  Contact_Dont-Know  \\\n",
       "0                       0              0                0                  0   \n",
       "1                       0              0                0                  0   \n",
       "2                       0              0                0                  1   \n",
       "3                       1              0                0                  0   \n",
       "4                       1              0                0                  0   \n",
       "...                   ...            ...              ...                ...   \n",
       "316795                  0              0                1                  0   \n",
       "316796                  0              0                1                  1   \n",
       "316797                  0              1                0                  0   \n",
       "316798                  0              1                0                  0   \n",
       "316799                  0              1                0                  1   \n",
       "\n",
       "        Contact_No  Contact_Yes  \n",
       "0                0            1  \n",
       "1                1            0  \n",
       "2                0            0  \n",
       "3                0            1  \n",
       "4                1            0  \n",
       "...            ...          ...  \n",
       "316795           1            0  \n",
       "316796           0            0  \n",
       "316797           0            1  \n",
       "316798           1            0  \n",
       "316799           0            0  \n",
       "\n",
       "[316800 rows x 26 columns]>"
      ]
     },
     "execution_count": 3,
     "metadata": {},
     "output_type": "execute_result"
    }
   ],
   "source": [
    "dataset1.describe"
   ]
  },
  {
   "cell_type": "code",
   "execution_count": 4,
   "id": "1c6cb025",
   "metadata": {},
   "outputs": [
    {
     "data": {
      "text/plain": [
       "(316800, 26)"
      ]
     },
     "execution_count": 4,
     "metadata": {},
     "output_type": "execute_result"
    }
   ],
   "source": [
    "dataset1.shape"
   ]
  },
  {
   "cell_type": "code",
   "execution_count": 5,
   "id": "528fe093",
   "metadata": {},
   "outputs": [
    {
     "name": "stdout",
     "output_type": "stream",
     "text": [
      "<class 'pandas.core.frame.DataFrame'>\n",
      "RangeIndex: 316800 entries, 0 to 316799\n",
      "Data columns (total 26 columns):\n",
      " #   Column                   Non-Null Count   Dtype\n",
      "---  ------                   --------------   -----\n",
      " 0   Fever                    316800 non-null  int64\n",
      " 1   Tiredness                316800 non-null  int64\n",
      " 2   Dry-Cough                316800 non-null  int64\n",
      " 3   Difficulty-in-Breathing  316800 non-null  int64\n",
      " 4   Sore-Throat              316800 non-null  int64\n",
      " 5   None_Sympton             316800 non-null  int64\n",
      " 6   Pains                    316800 non-null  int64\n",
      " 7   Nasal-Congestion         316800 non-null  int64\n",
      " 8   Runny-Nose               316800 non-null  int64\n",
      " 9   Diarrhea                 316800 non-null  int64\n",
      " 10  None_Experiencing        316800 non-null  int64\n",
      " 11  Age_0-9                  316800 non-null  int64\n",
      " 12  Age_10-19                316800 non-null  int64\n",
      " 13  Age_20-24                316800 non-null  int64\n",
      " 14  Age_25-59                316800 non-null  int64\n",
      " 15  Age_60+                  316800 non-null  int64\n",
      " 16  Gender_Female            316800 non-null  int64\n",
      " 17  Gender_Male              316800 non-null  int64\n",
      " 18  Gender_Transgender       316800 non-null  int64\n",
      " 19  Severity_Mild            316800 non-null  int64\n",
      " 20  Severity_Moderate        316800 non-null  int64\n",
      " 21  Severity_None            316800 non-null  int64\n",
      " 22  Severity_Severe          316800 non-null  int64\n",
      " 23  Contact_Dont-Know        316800 non-null  int64\n",
      " 24  Contact_No               316800 non-null  int64\n",
      " 25  Contact_Yes              316800 non-null  int64\n",
      "dtypes: int64(26)\n",
      "memory usage: 62.8 MB\n"
     ]
    }
   ],
   "source": [
    "dataset1.info()"
   ]
  },
  {
   "cell_type": "code",
   "execution_count": 6,
   "id": "1ecd8333",
   "metadata": {},
   "outputs": [
    {
     "data": {
      "text/plain": [
       "Fever                      0\n",
       "Tiredness                  0\n",
       "Dry-Cough                  0\n",
       "Difficulty-in-Breathing    0\n",
       "Sore-Throat                0\n",
       "None_Sympton               0\n",
       "Pains                      0\n",
       "Nasal-Congestion           0\n",
       "Runny-Nose                 0\n",
       "Diarrhea                   0\n",
       "None_Experiencing          0\n",
       "Age_0-9                    0\n",
       "Age_10-19                  0\n",
       "Age_20-24                  0\n",
       "Age_25-59                  0\n",
       "Age_60+                    0\n",
       "Gender_Female              0\n",
       "Gender_Male                0\n",
       "Gender_Transgender         0\n",
       "Severity_Mild              0\n",
       "Severity_Moderate          0\n",
       "Severity_None              0\n",
       "Severity_Severe            0\n",
       "Contact_Dont-Know          0\n",
       "Contact_No                 0\n",
       "Contact_Yes                0\n",
       "dtype: int64"
      ]
     },
     "execution_count": 6,
     "metadata": {},
     "output_type": "execute_result"
    }
   ],
   "source": [
    "dataset1.isnull().sum()"
   ]
  },
  {
   "cell_type": "code",
   "execution_count": 7,
   "id": "160dace6",
   "metadata": {},
   "outputs": [
    {
     "name": "stdout",
     "output_type": "stream",
     "text": [
      "age between 0 t0 9 distribution\n",
      " 0    253440\n",
      "1     63360\n",
      "Name: Age_0-9, dtype: int64\n"
     ]
    }
   ],
   "source": [
    "print(\"age between 0 t0 9 distribution\\n\",dataset1.iloc[:,11].value_counts())"
   ]
  },
  {
   "cell_type": "code",
   "execution_count": 8,
   "id": "16ff1ada",
   "metadata": {},
   "outputs": [
    {
     "name": "stdout",
     "output_type": "stream",
     "text": [
      "age between 10 t0 19 distribution\n",
      " 0    253440\n",
      "1     63360\n",
      "Name: Age_10-19, dtype: int64\n"
     ]
    }
   ],
   "source": [
    "print(\"age between 10 t0 19 distribution\\n\",dataset1.iloc[:,12].value_counts())"
   ]
  },
  {
   "cell_type": "code",
   "execution_count": 9,
   "id": "32776385",
   "metadata": {},
   "outputs": [
    {
     "name": "stdout",
     "output_type": "stream",
     "text": [
      "age between 20 t0 24 distribution\n",
      " 0    253440\n",
      "1     63360\n",
      "Name: Age_20-24, dtype: int64\n"
     ]
    }
   ],
   "source": [
    "print(\"age between 20 t0 24 distribution\\n\",dataset1.iloc[:,13].value_counts())"
   ]
  },
  {
   "cell_type": "code",
   "execution_count": 10,
   "id": "5df4e58d",
   "metadata": {},
   "outputs": [
    {
     "name": "stdout",
     "output_type": "stream",
     "text": [
      "age between 25 t0 59 distribution\n",
      " 0    253440\n",
      "1     63360\n",
      "Name: Age_25-59, dtype: int64\n"
     ]
    }
   ],
   "source": [
    "print(\"age between 25 t0 59 distribution\\n\",dataset1.iloc[:,14].value_counts())"
   ]
  },
  {
   "cell_type": "code",
   "execution_count": 11,
   "id": "e32cace5",
   "metadata": {},
   "outputs": [
    {
     "name": "stdout",
     "output_type": "stream",
     "text": [
      "age 60+ distribution\n",
      " 0    253440\n",
      "1     63360\n",
      "Name: Age_60+, dtype: int64\n"
     ]
    }
   ],
   "source": [
    "print(\"age 60+ distribution\\n\",dataset1.iloc[:,15].value_counts())"
   ]
  },
  {
   "cell_type": "code",
   "execution_count": 12,
   "id": "edaf0c70",
   "metadata": {},
   "outputs": [
    {
     "name": "stdout",
     "output_type": "stream",
     "text": [
      "gender Distribution for male\n",
      " 0    211200\n",
      "1    105600\n",
      "Name: Gender_Male, dtype: int64\n"
     ]
    }
   ],
   "source": [
    "print(\"gender Distribution for male\\n\",dataset1[\"Gender_Male\"].value_counts())"
   ]
  },
  {
   "cell_type": "code",
   "execution_count": 13,
   "id": "fecc2665",
   "metadata": {},
   "outputs": [
    {
     "name": "stdout",
     "output_type": "stream",
     "text": [
      "gender Distribution for male\n",
      " 0    211200\n",
      "1    105600\n",
      "Name: Gender_Female, dtype: int64\n"
     ]
    }
   ],
   "source": [
    "print(\"gender Distribution for male\\n\",dataset1[\"Gender_Female\"].value_counts())"
   ]
  },
  {
   "cell_type": "code",
   "execution_count": 14,
   "id": "da271e8d",
   "metadata": {},
   "outputs": [
    {
     "name": "stdout",
     "output_type": "stream",
     "text": [
      "gender Distribution for male\n",
      " 0    211200\n",
      "1    105600\n",
      "Name: Gender_Transgender, dtype: int64\n"
     ]
    }
   ],
   "source": [
    "print(\"gender Distribution for male\\n\",dataset1[\"Gender_Transgender\"].value_counts())"
   ]
  },
  {
   "cell_type": "markdown",
   "id": "521d5a0e",
   "metadata": {},
   "source": [
    "# For Mild Severity"
   ]
  },
  {
   "cell_type": "code",
   "execution_count": 61,
   "id": "ca1c5bed",
   "metadata": {},
   "outputs": [
    {
     "name": "stderr",
     "output_type": "stream",
     "text": [
      "C:\\Users\\ASUS\\anaconda3\\lib\\site-packages\\seaborn\\_decorators.py:36: FutureWarning: Pass the following variable as a keyword arg: x. From version 0.12, the only valid positional argument will be `data`, and passing other arguments without an explicit keyword will result in an error or misinterpretation.\n",
      "  warnings.warn(\n"
     ]
    },
    {
     "data": {
      "text/plain": [
       "<AxesSubplot:xlabel='Severity_Mild', ylabel='count'>"
      ]
     },
     "execution_count": 61,
     "metadata": {},
     "output_type": "execute_result"
    },
    {
     "data": {
      "image/png": "[encoded data removed]",
      "text/plain": [
       "<Figure size 432x288 with 1 Axes>"
      ]
     },
     "metadata": {
      "needs_background": "light"
     },
     "output_type": "display_data"
    }
   ],
   "source": [
    "sns.countplot(dataset1.iloc[:,19])"
   ]
  },
  {
   "cell_type": "code",
   "execution_count": 15,
   "id": "82589850",
   "metadata": {},
   "outputs": [
    {
     "name": "stdout",
     "output_type": "stream",
     "text": [
      "(475200, 19)\n",
      "(475200,)\n"
     ]
    }
   ],
   "source": [
    "smote=SMOTE()\n",
    "balanced_msx,balanced_msy=smote.fit_resample(dataset1.iloc[:,0:19],dataset1.iloc[:,19])\n",
    "print(balanced_msx.shape)\n",
    "print(balanced_msy.shape)"
   ]
  },
  {
   "cell_type": "code",
   "execution_count": 16,
   "id": "b988547f",
   "metadata": {},
   "outputs": [
    {
     "data": {
      "text/plain": [
       "array([[ 1.48233217,  0.99981483,  0.88214337, ..., -0.70756551,\n",
       "         1.41327663, -0.70617958],\n",
       "       [ 1.48233217,  0.99981483,  0.88214337, ..., -0.70756551,\n",
       "         1.41327663, -0.70617958],\n",
       "       [ 1.48233217,  0.99981483,  0.88214337, ..., -0.70756551,\n",
       "         1.41327663, -0.70617958],\n",
       "       ...,\n",
       "       [-0.67461263,  0.99981483, -1.13360258, ...,  1.41329669,\n",
       "        -0.70757556, -0.70617958],\n",
       "       [-0.67461263, -1.0001852 , -1.13360258, ...,  1.41329669,\n",
       "        -0.70757556, -0.70617958],\n",
       "       [-0.67461263,  0.99981483,  0.88214337, ..., -0.70756551,\n",
       "         1.41327663, -0.70617958]])"
      ]
     },
     "execution_count": 16,
     "metadata": {},
     "output_type": "execute_result"
    }
   ],
   "source": [
    "scaler=StandardScaler()\n",
    "scale_x=scaler.fit_transform(balanced_msx)\n",
    "scale_x"
   ]
  },
  {
   "cell_type": "code",
   "execution_count": 17,
   "id": "31bd3bcf",
   "metadata": {},
   "outputs": [
    {
     "name": "stdout",
     "output_type": "stream",
     "text": [
      "Values count in Balanced dependent dataset for mild severity 0    237600\n",
      "1    237600\n",
      "Name: Severity_Mild, dtype: int64\n"
     ]
    }
   ],
   "source": [
    "print(\"Values count in Balanced dependent dataset for mild severity\",balanced_msy.value_counts())"
   ]
  },
  {
   "cell_type": "code",
   "execution_count": 18,
   "id": "b31cae9c",
   "metadata": {},
   "outputs": [
    {
     "data": {
      "text/plain": [
       "(475200, 15)"
      ]
     },
     "execution_count": 18,
     "metadata": {},
     "output_type": "execute_result"
    }
   ],
   "source": [
    "pca=PCA(0.95)\n",
    "x_red=pca.fit_transform(scale_x)\n",
    "x_red.shape"
   ]
  },
  {
   "cell_type": "markdown",
   "id": "34452d49",
   "metadata": {},
   "source": [
    "## Splitting the Dataset for Training "
   ]
  },
  {
   "cell_type": "code",
   "execution_count": null,
   "id": "a5e74ccd",
   "metadata": {},
   "outputs": [],
   "source": [
    "train_x,test_x,train_y,test_y=train_test_split(x_red,balanced_msy,test_size=0.30,random_state=123)\n",
    "print(train_x.shape)\n",
    "print(train_y.shape)\n",
    "print(test_x.shape)\n",
    "print(test_y.shape)"
   ]
  },
  {
   "cell_type": "markdown",
   "id": "0890ac9f",
   "metadata": {},
   "source": [
    "## Training Models"
   ]
  },
  {
   "cell_type": "code",
   "execution_count": null,
   "id": "44138a12",
   "metadata": {},
   "outputs": [],
   "source": [
    "lr=LogisticRegression()\n",
    "lr.fit(train_x,train_y)\n",
    "pred_lr=lr.predict(test_x)\n",
    "print(\"The confussion metrix for Logistic Regression is:\\n\",metrics.confusion_matrix(test_y,pred_lr))\n",
    "print(\"The accuracy of Logistic Regression is:\\t\\t\",metrics.accuracy_score(test_y,pred_lr))\n",
    "print(\"The recal score of Logistic Regression is is:\\t\\t\",metrics.recall_score(test_y,pred_lr))\n",
    "print(\"The precision of Logistic Regression is:\\t\\t\",metrics.precision_score(test_y,pred_lr))\n",
    "print(\"The f1 score of Logistic Regression is:\\t\\t\",metrics.f1_score(test_y,pred_lr))"
   ]
  },
  {
   "cell_type": "code",
   "execution_count": null,
   "id": "8321cad7",
   "metadata": {},
   "outputs": [],
   "source": [
    "rf=RandomForestClassifier()\n",
    "rf.fit(train_x,train_y)\n",
    "pred=rf.predict(test_x)\n",
    "print(\"The confussion metrix for Random forest is:\\n\",metrics.confusion_matrix(test_y,pred))\n",
    "print(\"The accuracy of Random Forest Classifier is:\\t\\t\",metrics.accuracy_score(test_y,pred))\n",
    "print(\"The recal score of Random Forest Classifier is:\\t\\t\",metrics.recall_score(test_y,pred))\n",
    "print(\"The precision of Random Forest Classifier is:\\t\\t\",metrics.precision_score(test_y,pred))\n",
    "print(\"The f1 score of Random Forest Classifier is:\\t\\t\",metrics.f1_score(test_y,pred))"
   ]
  },
  {
   "cell_type": "code",
   "execution_count": null,
   "id": "2c7ecb06",
   "metadata": {},
   "outputs": [],
   "source": [
    "ada=AdaBoostClassifier()\n",
    "ada.fit(train_x,train_y)\n",
    "pred_ada=ada.predict(test_x)\n",
    "print(\"The confussion metrix for AdaBoost is:\\n\",metrics.confusion_matrix(test_y,pred_ada))\n",
    "print(\"The accuracy of AdaBoost Classifier is:\\t\\t\",metrics.accuracy_score(test_y,pred_ada))\n",
    "print(\"The recal score of AdaBoost Classifier is is:\\t\\t\",metrics.recall_score(test_y,pred_ada))\n",
    "print(\"The precision of AdaBoost Classifier is:\\t\\t\",metrics.precision_score(test_y,pred_ada))\n",
    "print(\"The f1 score of AdaBoost Classifier is:\\t\\t\",metrics.f1_score(test_y,pred_ada))"
   ]
  },
  {
   "cell_type": "code",
   "execution_count": null,
   "id": "12d7555c",
   "metadata": {},
   "outputs": [],
   "source": [
    "dsc=DecisionTreeClassifier()\n",
    "dsc.fit(train_x,train_y)\n",
    "pred_dsc=dsc.predict(test_x)\n",
    "print(\"The confussion metrix for Decision Tree is:\\n\",metrics.confusion_matrix(test_y,pred_dsc))\n",
    "print(\"The accuracy of Decision Tree Classifier is:\\t\\t\",metrics.accuracy_score(test_y,pred_dsc))\n",
    "print(\"The recal score of Decision Tree Classifier is is:\\t\\t\",metrics.recall_score(test_y,pred_dsc))\n",
    "print(\"The precision of Decision Tree Classifier is:\\t\\t\",metrics.precision_score(test_y,pred_dsc))\n",
    "print(\"The f1 score of Decision Tree Classifier is:\\t\\t\",metrics.f1_score(test_y,pred_dsc))"
   ]
  },
  {
   "cell_type": "markdown",
   "id": "c2d33cc7",
   "metadata": {},
   "source": [
    "# For Moderate Severity"
   ]
  },
  {
   "cell_type": "code",
   "execution_count": 62,
   "id": "2d1c1bda",
   "metadata": {},
   "outputs": [
    {
     "name": "stderr",
     "output_type": "stream",
     "text": [
      "C:\\Users\\ASUS\\anaconda3\\lib\\site-packages\\seaborn\\_decorators.py:36: FutureWarning: Pass the following variable as a keyword arg: x. From version 0.12, the only valid positional argument will be `data`, and passing other arguments without an explicit keyword will result in an error or misinterpretation.\n",
      "  warnings.warn(\n"
     ]
    },
    {
     "data": {
      "text/plain": [
       "<AxesSubplot:xlabel='Severity_Moderate', ylabel='count'>"
      ]
     },
     "execution_count": 62,
     "metadata": {},
     "output_type": "execute_result"
    },
    {
     "data": {
      "image/png": "[encoded data removed]",
      "text/plain": [
       "<Figure size 432x288 with 1 Axes>"
      ]
     },
     "metadata": {
      "needs_background": "light"
     },
     "output_type": "display_data"
    }
   ],
   "source": [
    "sns.countplot(dataset1.iloc[:,20])"
   ]
  },
  {
   "cell_type": "code",
   "execution_count": 24,
   "id": "4f469e49",
   "metadata": {},
   "outputs": [
    {
     "name": "stdout",
     "output_type": "stream",
     "text": [
      "(475200, 19)\n",
      "(475200,)\n"
     ]
    }
   ],
   "source": [
    "balanced_mosx,balanced_mosy=smote.fit_resample(dataset1.iloc[:,0:19],dataset1.iloc[:,20])\n",
    "print(balanced_msx.shape)\n",
    "print(balanced_msy.shape)"
   ]
  },
  {
   "cell_type": "code",
   "execution_count": 70,
   "id": "ce5387f5",
   "metadata": {},
   "outputs": [
    {
     "data": {
      "text/plain": [
       "array([[-1.64621866e+00,  4.94430104e-02, -1.55487306e+00, ...,\n",
       "        -1.36480169e+00,  7.44398469e-04,  9.96785376e-07],\n",
       "       [-1.64621866e+00,  4.94430105e-02, -1.55487306e+00, ...,\n",
       "        -1.36480169e+00,  7.44398459e-04,  9.96920451e-07],\n",
       "       [-1.64621866e+00,  4.94430105e-02, -1.55487306e+00, ...,\n",
       "        -1.36480169e+00,  7.44398459e-04,  9.96921180e-07],\n",
       "       ...,\n",
       "       [ 7.30371030e-01, -8.57461884e-01, -7.74452650e-02, ...,\n",
       "        -5.11339400e-01,  7.62520517e-01, -1.36144620e+00],\n",
       "       [ 1.22422609e+00,  7.69128522e-01,  9.75259400e-01, ...,\n",
       "        -1.24393595e+00, -9.18057846e-01, -1.50390188e+00],\n",
       "       [-1.05615450e+00,  2.27890868e-02, -6.86722694e-02, ...,\n",
       "        -4.88157102e-01,  6.38843542e-01,  4.26341077e-02]])"
      ]
     },
     "execution_count": 70,
     "metadata": {},
     "output_type": "execute_result"
    }
   ],
   "source": [
    "scaler=StandardScaler()\n",
    "balanced_mosx=scaler.fit_transform(balanced_mosx)\n",
    "balanced_mosx"
   ]
  },
  {
   "cell_type": "code",
   "execution_count": 83,
   "id": "7e38ad43",
   "metadata": {},
   "outputs": [
    {
     "data": {
      "text/plain": [
       "(475200, 14)"
      ]
     },
     "execution_count": 83,
     "metadata": {},
     "output_type": "execute_result"
    }
   ],
   "source": [
    "pca=PCA(0.95)\n",
    "balanced_mosx=pca.fit_transform(balanced_msx)\n",
    "balanced_mosx.shape"
   ]
  },
  {
   "cell_type": "markdown",
   "id": "bf47053a",
   "metadata": {},
   "source": [
    "## Training Models"
   ]
  },
  {
   "cell_type": "code",
   "execution_count": 92,
   "id": "b01eb891",
   "metadata": {},
   "outputs": [
    {
     "name": "stdout",
     "output_type": "stream",
     "text": [
      "(332640, 14)\n",
      "(332640,)\n",
      "(142560, 14)\n",
      "(142560,)\n"
     ]
    }
   ],
   "source": [
    "train_mox,test_mox,train_moy,test_moy=train_test_split(balanced_mosx,balanced_mosy,test_size=0.30,random_state=42)\n",
    "print(train_mox.shape)\n",
    "print(train_moy.shape)\n",
    "print(test_mox.shape)\n",
    "print(test_moy.shape)"
   ]
  },
  {
   "cell_type": "markdown",
   "id": "28feb139",
   "metadata": {},
   "source": [
    "### Using AdaBoost Classifier "
   ]
  },
  {
   "cell_type": "code",
   "execution_count": 93,
   "id": "e1c74129",
   "metadata": {},
   "outputs": [
    {
     "name": "stdout",
     "output_type": "stream",
     "text": [
      "The confussion metrix for AdaBoost is:\n",
      " [[37553 33546]\n",
      " [38568 32893]]\n",
      "The accuracy of AdaBoost Classifier is:\t\t 0.4941498316498317\n",
      "The recal score of AdaBoost Classifier is is:\t\t 0.4602930269657575\n",
      "The precision of AdaBoost Classifier is:\t\t 0.4950857177260344\n",
      "The f1 score of AdaBoost Classifier is:\t\t 0.4770558375634518\n"
     ]
    }
   ],
   "source": [
    "ada_mo=AdaBoostClassifier()\n",
    "ada_mo.fit(train_mox,train_moy)\n",
    "pred_ada_mo=ada_mo.predict(test_mox)\n",
    "print(\"The confussion metrix for AdaBoost is:\\n\",metrics.confusion_matrix(test_moy,pred_ada_mo))\n",
    "print(\"The accuracy of AdaBoost Classifier is:\\t\\t\",metrics.accuracy_score(test_moy,pred_ada_mo))\n",
    "print(\"The recal score of AdaBoost Classifier is is:\\t\\t\",metrics.recall_score(test_moy,pred_ada_mo))\n",
    "print(\"The precision of AdaBoost Classifier is:\\t\\t\",metrics.precision_score(test_moy,pred_ada_mo))\n",
    "print(\"The f1 score of AdaBoost Classifier is:\\t\\t\",metrics.f1_score(test_moy,pred_ada_mo))"
   ]
  },
  {
   "cell_type": "markdown",
   "id": "0fdde250",
   "metadata": {},
   "source": [
    "### Using Random Forest Classifier"
   ]
  },
  {
   "cell_type": "code",
   "execution_count": null,
   "id": "6200bcc8",
   "metadata": {},
   "outputs": [],
   "source": [
    "rf_mo=RandomForestClassifier()\n",
    "rf_mo.fit(train_mox,train_moy)\n",
    "pred_rf_mo=rf_mo.predict(test_mox)\n",
    "print(\"The confussion metrix for Decision Tree Classifier is:\\n\",metrics.confusion_matrix(test_moy,pred_rf_mo))\n",
    "print(\"The accuracy of Decision Tree Classifier is:\\t\\t\",metrics.accuracy_score(test_moy,pred_rf_mo))\n",
    "print(\"The recal score of Decision Tree Classifier is is:\\t\\t\",metrics.recall_score(test_moy,pred_rf_mo))\n",
    "print(\"The precision of Decision Tree Classifier is:\\t\\t\",metrics.precision_score(test_moy,pred_rf_mo))\n",
    "print(\"The f1 score of Decision Tree Classifier is:\\t\\t\",metrics.f1_score(test_moy,pred_rf_mo))"
   ]
  },
  {
   "cell_type": "markdown",
   "id": "f9972a99",
   "metadata": {},
   "source": [
    "### Using Decision Tree Classifier"
   ]
  },
  {
   "cell_type": "code",
   "execution_count": null,
   "id": "6795d76c",
   "metadata": {},
   "outputs": [],
   "source": [
    "dsc_mo=DecisionTreeClassifier()\n",
    "dsc_mo.fit(train_mox,train_moy)\n",
    "pred_dsc_mo=dsc_mo.predict(test_mox)\n",
    "print(\"The confussion metrix for Decision Tree is:\\n\",metrics.confusion_matrix(test_moy,pred_dsc_mo))\n",
    "print(\"The accuracy of Decision Tree Classifier is:\\t\\t\",metrics.accuracy_score(test_moy,pred_dsc_mo))\n",
    "print(\"The recal score of Decision Tree Classifier is is:\\t\\t\",metrics.recall_score(test_moy,pred_dsc_mo))\n",
    "print(\"The precision of Decision Tree Classifier is:\\t\\t\",metrics.precision_score(test_moy,pred_dsc_mo))\n",
    "print(\"The f1 score of Decision Tree Classifier is:\\t\\t\",metrics.f1_score(test_moy,pred_dsc_mo))"
   ]
  },
  {
   "cell_type": "markdown",
   "id": "eb5d9ec8",
   "metadata": {},
   "source": [
    "### Using Logistic Regression "
   ]
  },
  {
   "cell_type": "code",
   "execution_count": null,
   "id": "99c0b660",
   "metadata": {},
   "outputs": [],
   "source": [
    "lr_mo=LogisticRegression()\n",
    "lr_mo.fit(train_mox,train_moy)\n",
    "pred_lr_mo=lr_mo.predict(test_mox)\n",
    "print(\"The confussion metrix for Logistic Regression is:\\n\",metrics.confusion_matrix(test_moy,pred_lr_mo))\n",
    "print(\"The accuracy of Logistic Regression is:\\t\\t\",metrics.accuracy_score(test_moy,pred_lr_mo))\n",
    "print(\"The recal score of Logistic Regression is is:\\t\\t\",metrics.recall_score(test_moy,pred_lr_mo))\n",
    "print(\"The precision of Logistic Regression is:\\t\\t\",metrics.precision_score(test_moy,pred_lr_mo))\n",
    "print(\"The f1 score of Logistic Regression is:\\t\\t\",metrics.f1_score(test_moy,pred_lr_mo))"
   ]
  },
  {
   "cell_type": "markdown",
   "id": "b9d83550",
   "metadata": {},
   "source": [
    "# For Severe Severity"
   ]
  },
  {
   "cell_type": "code",
   "execution_count": 63,
   "id": "b4381672",
   "metadata": {},
   "outputs": [
    {
     "name": "stderr",
     "output_type": "stream",
     "text": [
      "C:\\Users\\ASUS\\anaconda3\\lib\\site-packages\\seaborn\\_decorators.py:36: FutureWarning: Pass the following variable as a keyword arg: x. From version 0.12, the only valid positional argument will be `data`, and passing other arguments without an explicit keyword will result in an error or misinterpretation.\n",
      "  warnings.warn(\n"
     ]
    },
    {
     "data": {
      "text/plain": [
       "<AxesSubplot:xlabel='Severity_Severe', ylabel='count'>"
      ]
     },
     "execution_count": 63,
     "metadata": {},
     "output_type": "execute_result"
    },
    {
     "data": {
      "image/png": "[encoded data removed]",
      "text/plain": [
       "<Figure size 432x288 with 1 Axes>"
      ]
     },
     "metadata": {
      "needs_background": "light"
     },
     "output_type": "display_data"
    }
   ],
   "source": [
    "sns.countplot(dataset1.iloc[:,22])"
   ]
  },
  {
   "cell_type": "code",
   "execution_count": 30,
   "id": "c0cdf0c5",
   "metadata": {},
   "outputs": [
    {
     "name": "stdout",
     "output_type": "stream",
     "text": [
      "(475200, 19)\n",
      "(475200,)\n"
     ]
    }
   ],
   "source": [
    "balanced_sesx,balanced_sesy=smote.fit_resample(dataset1.iloc[:,0:19],dataset1.iloc[:,22])\n",
    "print(balanced_sesx.shape)\n",
    "print(balanced_sesy.shape)"
   ]
  },
  {
   "cell_type": "code",
   "execution_count": null,
   "id": "3a9306e1",
   "metadata": {},
   "outputs": [],
   "source": [
    "pca"
   ]
  },
  {
   "cell_type": "markdown",
   "id": "755b497b",
   "metadata": {},
   "source": [
    "## Splitting the Dateset for Training "
   ]
  },
  {
   "cell_type": "code",
   "execution_count": 31,
   "id": "f3ae8a48",
   "metadata": {},
   "outputs": [
    {
     "name": "stdout",
     "output_type": "stream",
     "text": [
      "(332640, 19)\n",
      "(332640,)\n",
      "(142560, 19)\n",
      "(142560,)\n"
     ]
    }
   ],
   "source": [
    "train_sx,test_sx,train_sy,test_sy=train_test_split(balanced_sesx,balanced_sesy,test_size=0.30,random_state=123)\n",
    "print(train_sx.shape)\n",
    "print(train_sy.shape)\n",
    "print(test_sx.shape)\n",
    "print(test_sy.shape)"
   ]
  },
  {
   "cell_type": "markdown",
   "id": "73a869e6",
   "metadata": {},
   "source": [
    "# Training Models"
   ]
  },
  {
   "cell_type": "markdown",
   "id": "21e8f454",
   "metadata": {},
   "source": [
    "### Using AdaBoost Classifier"
   ]
  },
  {
   "cell_type": "code",
   "execution_count": 32,
   "id": "def3a7ac",
   "metadata": {},
   "outputs": [
    {
     "name": "stdout",
     "output_type": "stream",
     "text": [
      "The confussion metrix for AdaBoost is:\n",
      " [[34452 36948]\n",
      " [34252 36908]]\n",
      "The accuracy of AdaBoost Classifier is:\t\t 0.500561167227834\n",
      "The recal score of AdaBoost Classifier is is:\t\t 0.5186621697582912\n",
      "The precision of AdaBoost Classifier is:\t\t 0.4997292027729636\n",
      "The f1 score of AdaBoost Classifier is:\t\t 0.5090196943785513\n"
     ]
    }
   ],
   "source": [
    "ada_se=AdaBoostClassifier()\n",
    "ada_se.fit(train_sx,train_sy)\n",
    "pred_ada_se=ada_se.predict(test_sx)\n",
    "print(\"The confussion metrix for AdaBoost is:\\n\",metrics.confusion_matrix(test_sy,pred_ada_se))\n",
    "print(\"The accuracy of AdaBoost Classifier is:\\t\\t\",metrics.accuracy_score(test_sy,pred_ada_se))\n",
    "print(\"The recal score of AdaBoost Classifier is is:\\t\\t\",metrics.recall_score(test_sy,pred_ada_se))\n",
    "print(\"The precision of AdaBoost Classifier is:\\t\\t\",metrics.precision_score(test_sy,pred_ada_se))\n",
    "print(\"The f1 score of AdaBoost Classifier is:\\t\\t\",metrics.f1_score(test_sy,pred_ada_se))"
   ]
  },
  {
   "cell_type": "markdown",
   "id": "5ed713e1",
   "metadata": {},
   "source": [
    "### Using Random Forest Classifier\n"
   ]
  },
  {
   "cell_type": "code",
   "execution_count": 33,
   "id": "cd18cdfe",
   "metadata": {},
   "outputs": [
    {
     "name": "stdout",
     "output_type": "stream",
     "text": [
      "The confussion metrix for Random Forest Classifier is:\n",
      " [[34587 36813]\n",
      " [34421 36739]]\n",
      "The accuracy of Random Forest Classifier is:\t\t 0.5003226711560045\n",
      "The recal score of Random Forest Classifier is is:\t\t 0.5162872400224845\n",
      "The precision of Random Forest Classifier is:\t\t 0.4994969545355667\n",
      "The f1 score of Random Forest Classifier is:\t\t 0.5077533307534966\n"
     ]
    }
   ],
   "source": [
    "rf_se=RandomForestClassifier()\n",
    "rf_se.fit(train_sx,train_sy)\n",
    "pred_rf_se=rf_mo.predict(test_sx)\n",
    "print(\"The confussion metrix for Random Forest Classifier is:\\n\",metrics.confusion_matrix(test_sy,pred_rf_se))\n",
    "print(\"The accuracy of Random Forest Classifier is:\\t\\t\",metrics.accuracy_score(test_sy,pred_rf_se))\n",
    "print(\"The recal score of Random Forest Classifier is is:\\t\\t\",metrics.recall_score(test_sy,pred_rf_se))\n",
    "print(\"The precision of Random Forest Classifier is:\\t\\t\",metrics.precision_score(test_sy,pred_rf_se))\n",
    "print(\"The f1 score of Random Forest Classifier is:\\t\\t\",metrics.f1_score(test_sy,pred_rf_se))"
   ]
  },
  {
   "cell_type": "markdown",
   "id": "5057c6d7",
   "metadata": {},
   "source": [
    "### Using Logistic Regression "
   ]
  },
  {
   "cell_type": "code",
   "execution_count": 34,
   "id": "4f258ee3",
   "metadata": {},
   "outputs": [
    {
     "name": "stdout",
     "output_type": "stream",
     "text": [
      "The confussion metrix for Logistic Regression is:\n",
      " [[34447 36953]\n",
      " [34215 36945]]\n",
      "The accuracy of Logistic Regression is:\t\t 0.5007856341189675\n",
      "The recal score of Logistic Regression is is:\t\t 0.5191821247892074\n",
      "The precision of Logistic Regression is:\t\t 0.4999458713361661\n",
      "The f1 score of Logistic Regression is:\t\t 0.5093824539149857\n"
     ]
    }
   ],
   "source": [
    "lr_se=LogisticRegression()\n",
    "lr_se.fit(train_sx,train_sy)\n",
    "pred_lr_se=lr_se.predict(test_sx)\n",
    "print(\"The confussion metrix for Logistic Regression is:\\n\",metrics.confusion_matrix(test_sy,pred_lr_se))\n",
    "print(\"The accuracy of Logistic Regression is:\\t\\t\",metrics.accuracy_score(test_sy,pred_lr_se))\n",
    "print(\"The recal score of Logistic Regression is is:\\t\\t\",metrics.recall_score(test_sy,pred_lr_se))\n",
    "print(\"The precision of Logistic Regression is:\\t\\t\",metrics.precision_score(test_sy,pred_lr_se))\n",
    "print(\"The f1 score of Logistic Regression is:\\t\\t\",metrics.f1_score(test_sy,pred_lr_se))"
   ]
  },
  {
   "cell_type": "markdown",
   "id": "e13ab33f",
   "metadata": {},
   "source": [
    "### Using Decision Tree Classifier"
   ]
  },
  {
   "cell_type": "code",
   "execution_count": 35,
   "id": "e72fd3ae",
   "metadata": {},
   "outputs": [
    {
     "name": "stdout",
     "output_type": "stream",
     "text": [
      "The confussion metrix for Decision Tree is:\n",
      " [[37107 34293]\n",
      " [36792 34368]]\n",
      "The accuracy of Decision Tree Classifier is:\t\t 0.5013678451178452\n",
      "The recal score of Decision Tree Classifier is is:\t\t 0.4829679595278246\n",
      "The precision of Decision Tree Classifier is:\t\t 0.5005461615764408\n",
      "The f1 score of Decision Tree Classifier is:\t\t 0.4915999742527946\n"
     ]
    }
   ],
   "source": [
    "dsc_se=DecisionTreeClassifier()\n",
    "dsc_se.fit(train_sx,train_sy)\n",
    "pred_dsc_se=dsc_se.predict(test_sx)\n",
    "print(\"The confussion metrix for Decision Tree is:\\n\",metrics.confusion_matrix(test_sy,pred_dsc_se))\n",
    "print(\"The accuracy of Decision Tree Classifier is:\\t\\t\",metrics.accuracy_score(test_sy,pred_dsc_se))\n",
    "print(\"The recal score of Decision Tree Classifier is is:\\t\\t\",metrics.recall_score(test_sy,pred_dsc_se))\n",
    "print(\"The precision of Decision Tree Classifier is:\\t\\t\",metrics.precision_score(test_sy,pred_dsc_se))\n",
    "print(\"The f1 score of Decision Tree Classifier is:\\t\\t\",metrics.f1_score(test_sy,pred_dsc_se))"
   ]
  },
  {
   "cell_type": "markdown",
   "id": "98200046",
   "metadata": {},
   "source": [
    "# For No Severity(Healthy)"
   ]
  },
  {
   "cell_type": "code",
   "execution_count": 64,
   "id": "f44ab04f",
   "metadata": {},
   "outputs": [
    {
     "name": "stderr",
     "output_type": "stream",
     "text": [
      "C:\\Users\\ASUS\\anaconda3\\lib\\site-packages\\seaborn\\_decorators.py:36: FutureWarning: Pass the following variable as a keyword arg: x. From version 0.12, the only valid positional argument will be `data`, and passing other arguments without an explicit keyword will result in an error or misinterpretation.\n",
      "  warnings.warn(\n"
     ]
    },
    {
     "data": {
      "text/plain": [
       "<AxesSubplot:xlabel='Severity_None', ylabel='count'>"
      ]
     },
     "execution_count": 64,
     "metadata": {},
     "output_type": "execute_result"
    },
    {
     "data": {
      "image/png": "[encoded data removed]",
      "text/plain": [
       "<Figure size 432x288 with 1 Axes>"
      ]
     },
     "metadata": {
      "needs_background": "light"
     },
     "output_type": "display_data"
    }
   ],
   "source": [
    "sns.countplot(dataset1.iloc[:,21])"
   ]
  },
  {
   "cell_type": "code",
   "execution_count": null,
   "id": "ffd4dd13",
   "metadata": {},
   "outputs": [],
   "source": []
  },
  {
   "cell_type": "markdown",
   "id": "8698a109",
   "metadata": {},
   "source": [
    "# By Using Merging all Severity type in One method"
   ]
  },
  {
   "cell_type": "code",
   "execution_count": 36,
   "id": "032ccd24",
   "metadata": {},
   "outputs": [],
   "source": [
    "all_severity = dataset1.filter(like='Severity_').columns"
   ]
  },
  {
   "cell_type": "code",
   "execution_count": 37,
   "id": "152d8dea",
   "metadata": {},
   "outputs": [],
   "source": [
    "dataset1['Severity_None'].replace({1:'None',0:'No'},inplace =True)\n",
    "dataset1['Severity_Mild'].replace({1:'Mild',0:'No'},inplace =True)\n",
    "dataset1['Severity_Moderate'].replace({1:'Moderate',0:'No'},inplace =True)\n",
    "dataset1['Severity_Severe'].replace({1:'Severe',0:'No'},inplace =True)"
   ]
  },
  {
   "cell_type": "code",
   "execution_count": 39,
   "id": "389a2bf1",
   "metadata": {},
   "outputs": [],
   "source": [
    "dataset1['Condition']=dataset1[all_severity].values.tolist()"
   ]
  },
  {
   "cell_type": "code",
   "execution_count": 40,
   "id": "8a502a34",
   "metadata": {},
   "outputs": [],
   "source": [
    "def select_one(x):\n",
    "    x = set(x) \n",
    "    x.discard(\"No\")\n",
    "    a = ''.join(x)\n",
    "    return a"
   ]
  },
  {
   "cell_type": "code",
   "execution_count": 41,
   "id": "ff2f65b3",
   "metadata": {},
   "outputs": [],
   "source": [
    "dataset1['Condition'] = dataset1['Condition'].apply(select_one)"
   ]
  },
  {
   "cell_type": "code",
   "execution_count": 42,
   "id": "1c8a7824",
   "metadata": {},
   "outputs": [
    {
     "name": "stdout",
     "output_type": "stream",
     "text": [
      "Severe      79200\n",
      "Mild        79200\n",
      "None        79200\n",
      "Moderate    79200\n",
      "Name: Condition, dtype: int64\n"
     ]
    }
   ],
   "source": [
    "print(dataset1['Condition'].value_counts())"
   ]
  },
  {
   "cell_type": "code",
   "execution_count": 43,
   "id": "a1410063",
   "metadata": {},
   "outputs": [
    {
     "name": "stderr",
     "output_type": "stream",
     "text": [
      "C:\\Users\\ASUS\\anaconda3\\lib\\site-packages\\seaborn\\_decorators.py:36: FutureWarning: Pass the following variable as a keyword arg: x. From version 0.12, the only valid positional argument will be `data`, and passing other arguments without an explicit keyword will result in an error or misinterpretation.\n",
      "  warnings.warn(\n"
     ]
    },
    {
     "data": {
      "text/plain": [
       "<AxesSubplot:xlabel='Condition', ylabel='count'>"
      ]
     },
     "execution_count": 43,
     "metadata": {},
     "output_type": "execute_result"
    },
    {
     "data": {
      "image/png": "[encoded data removed]",
      "text/plain": [
       "<Figure size 432x288 with 1 Axes>"
      ]
     },
     "metadata": {
      "needs_background": "light"
     },
     "output_type": "display_data"
    }
   ],
   "source": [
    "sns.countplot(dataset1['Condition'])"
   ]
  },
  {
   "cell_type": "code",
   "execution_count": 44,
   "id": "865c3c02",
   "metadata": {},
   "outputs": [
    {
     "name": "stdout",
     "output_type": "stream",
     "text": [
      "0    79200\n",
      "1    79200\n",
      "2    79200\n",
      "3    79200\n",
      "Name: Condition, dtype: int64\n"
     ]
    }
   ],
   "source": [
    "dataset1['Condition'] = le.fit_transform(dataset1['Condition'])\n",
    "print(dataset1['Condition'].value_counts())"
   ]
  },
  {
   "cell_type": "code",
   "execution_count": 45,
   "id": "5e60e7be",
   "metadata": {},
   "outputs": [
    {
     "name": "stdout",
     "output_type": "stream",
     "text": [
      "4    66600\n",
      "3    64800\n",
      "5    55800\n",
      "2    48600\n",
      "6    36000\n",
      "7    18000\n",
      "1    16200\n",
      "8     7200\n",
      "0     1800\n",
      "9     1800\n",
      "Name: Sum_of_columns, dtype: int64\n"
     ]
    }
   ],
   "source": [
    "dataset1['Sum_of_columns'] = dataset1.iloc[:,:5].sum(axis=1) + dataset1.iloc[:,6:10].sum(axis=1)\n",
    "print(dataset1['Sum_of_columns'].value_counts())"
   ]
  },
  {
   "cell_type": "code",
   "execution_count": 46,
   "id": "aeeb5380",
   "metadata": {},
   "outputs": [],
   "source": [
    "y=dataset1['Condition']"
   ]
  },
  {
   "cell_type": "code",
   "execution_count": 47,
   "id": "c85d03ff",
   "metadata": {},
   "outputs": [],
   "source": [
    "dataset1.drop(\"Condition\",axis=1,inplace=True)"
   ]
  },
  {
   "cell_type": "code",
   "execution_count": 49,
   "id": "78b5b7ab",
   "metadata": {},
   "outputs": [],
   "source": [
    "dataset1.drop(all_severity,axis=1,inplace=True)"
   ]
  },
  {
   "cell_type": "code",
   "execution_count": 50,
   "id": "8ad49c5a",
   "metadata": {},
   "outputs": [
    {
     "data": {
      "text/html": [
       "<div>\n",
       "<style scoped>\n",
       "    .dataframe tbody tr th:only-of-type {\n",
       "        vertical-align: middle;\n",
       "    }\n",
       "\n",
       "    .dataframe tbody tr th {\n",
       "        vertical-align: top;\n",
       "    }\n",
       "\n",
       "    .dataframe thead th {\n",
       "        text-align: right;\n",
       "    }\n",
       "</style>\n",
       "<table border=\"1\" class=\"dataframe\">\n",
       "  <thead>\n",
       "    <tr style=\"text-align: right;\">\n",
       "      <th></th>\n",
       "      <th>Fever</th>\n",
       "      <th>Tiredness</th>\n",
       "      <th>Dry-Cough</th>\n",
       "      <th>Difficulty-in-Breathing</th>\n",
       "      <th>Sore-Throat</th>\n",
       "      <th>None_Sympton</th>\n",
       "      <th>Pains</th>\n",
       "      <th>Nasal-Congestion</th>\n",
       "      <th>Runny-Nose</th>\n",
       "      <th>Diarrhea</th>\n",
       "      <th>...</th>\n",
       "      <th>Age_20-24</th>\n",
       "      <th>Age_25-59</th>\n",
       "      <th>Age_60+</th>\n",
       "      <th>Gender_Female</th>\n",
       "      <th>Gender_Male</th>\n",
       "      <th>Gender_Transgender</th>\n",
       "      <th>Contact_Dont-Know</th>\n",
       "      <th>Contact_No</th>\n",
       "      <th>Contact_Yes</th>\n",
       "      <th>Sum_of_columns</th>\n",
       "    </tr>\n",
       "  </thead>\n",
       "  <tbody>\n",
       "    <tr>\n",
       "      <th>0</th>\n",
       "      <td>1</td>\n",
       "      <td>1</td>\n",
       "      <td>1</td>\n",
       "      <td>1</td>\n",
       "      <td>1</td>\n",
       "      <td>0</td>\n",
       "      <td>1</td>\n",
       "      <td>1</td>\n",
       "      <td>1</td>\n",
       "      <td>1</td>\n",
       "      <td>...</td>\n",
       "      <td>0</td>\n",
       "      <td>0</td>\n",
       "      <td>0</td>\n",
       "      <td>0</td>\n",
       "      <td>1</td>\n",
       "      <td>0</td>\n",
       "      <td>0</td>\n",
       "      <td>0</td>\n",
       "      <td>1</td>\n",
       "      <td>9</td>\n",
       "    </tr>\n",
       "    <tr>\n",
       "      <th>1</th>\n",
       "      <td>1</td>\n",
       "      <td>1</td>\n",
       "      <td>1</td>\n",
       "      <td>1</td>\n",
       "      <td>1</td>\n",
       "      <td>0</td>\n",
       "      <td>1</td>\n",
       "      <td>1</td>\n",
       "      <td>1</td>\n",
       "      <td>1</td>\n",
       "      <td>...</td>\n",
       "      <td>0</td>\n",
       "      <td>0</td>\n",
       "      <td>0</td>\n",
       "      <td>0</td>\n",
       "      <td>1</td>\n",
       "      <td>0</td>\n",
       "      <td>0</td>\n",
       "      <td>1</td>\n",
       "      <td>0</td>\n",
       "      <td>9</td>\n",
       "    </tr>\n",
       "    <tr>\n",
       "      <th>2</th>\n",
       "      <td>1</td>\n",
       "      <td>1</td>\n",
       "      <td>1</td>\n",
       "      <td>1</td>\n",
       "      <td>1</td>\n",
       "      <td>0</td>\n",
       "      <td>1</td>\n",
       "      <td>1</td>\n",
       "      <td>1</td>\n",
       "      <td>1</td>\n",
       "      <td>...</td>\n",
       "      <td>0</td>\n",
       "      <td>0</td>\n",
       "      <td>0</td>\n",
       "      <td>0</td>\n",
       "      <td>1</td>\n",
       "      <td>0</td>\n",
       "      <td>1</td>\n",
       "      <td>0</td>\n",
       "      <td>0</td>\n",
       "      <td>9</td>\n",
       "    </tr>\n",
       "    <tr>\n",
       "      <th>3</th>\n",
       "      <td>1</td>\n",
       "      <td>1</td>\n",
       "      <td>1</td>\n",
       "      <td>1</td>\n",
       "      <td>1</td>\n",
       "      <td>0</td>\n",
       "      <td>1</td>\n",
       "      <td>1</td>\n",
       "      <td>1</td>\n",
       "      <td>1</td>\n",
       "      <td>...</td>\n",
       "      <td>0</td>\n",
       "      <td>0</td>\n",
       "      <td>0</td>\n",
       "      <td>0</td>\n",
       "      <td>1</td>\n",
       "      <td>0</td>\n",
       "      <td>0</td>\n",
       "      <td>0</td>\n",
       "      <td>1</td>\n",
       "      <td>9</td>\n",
       "    </tr>\n",
       "    <tr>\n",
       "      <th>4</th>\n",
       "      <td>1</td>\n",
       "      <td>1</td>\n",
       "      <td>1</td>\n",
       "      <td>1</td>\n",
       "      <td>1</td>\n",
       "      <td>0</td>\n",
       "      <td>1</td>\n",
       "      <td>1</td>\n",
       "      <td>1</td>\n",
       "      <td>1</td>\n",
       "      <td>...</td>\n",
       "      <td>0</td>\n",
       "      <td>0</td>\n",
       "      <td>0</td>\n",
       "      <td>0</td>\n",
       "      <td>1</td>\n",
       "      <td>0</td>\n",
       "      <td>0</td>\n",
       "      <td>1</td>\n",
       "      <td>0</td>\n",
       "      <td>9</td>\n",
       "    </tr>\n",
       "  </tbody>\n",
       "</table>\n",
       "<p>5 rows × 23 columns</p>\n",
       "</div>"
      ],
      "text/plain": [
       "   Fever  Tiredness  Dry-Cough  Difficulty-in-Breathing  Sore-Throat  \\\n",
       "0      1          1          1                        1            1   \n",
       "1      1          1          1                        1            1   \n",
       "2      1          1          1                        1            1   \n",
       "3      1          1          1                        1            1   \n",
       "4      1          1          1                        1            1   \n",
       "\n",
       "   None_Sympton  Pains  Nasal-Congestion  Runny-Nose  Diarrhea  ...  \\\n",
       "0             0      1                 1           1         1  ...   \n",
       "1             0      1                 1           1         1  ...   \n",
       "2             0      1                 1           1         1  ...   \n",
       "3             0      1                 1           1         1  ...   \n",
       "4             0      1                 1           1         1  ...   \n",
       "\n",
       "   Age_20-24  Age_25-59  Age_60+  Gender_Female  Gender_Male  \\\n",
       "0          0          0        0              0            1   \n",
       "1          0          0        0              0            1   \n",
       "2          0          0        0              0            1   \n",
       "3          0          0        0              0            1   \n",
       "4          0          0        0              0            1   \n",
       "\n",
       "   Gender_Transgender  Contact_Dont-Know  Contact_No  Contact_Yes  \\\n",
       "0                   0                  0           0            1   \n",
       "1                   0                  0           1            0   \n",
       "2                   0                  1           0            0   \n",
       "3                   0                  0           0            1   \n",
       "4                   0                  0           1            0   \n",
       "\n",
       "   Sum_of_columns  \n",
       "0               9  \n",
       "1               9  \n",
       "2               9  \n",
       "3               9  \n",
       "4               9  \n",
       "\n",
       "[5 rows x 23 columns]"
      ]
     },
     "execution_count": 50,
     "metadata": {},
     "output_type": "execute_result"
    }
   ],
   "source": [
    "dataset1.head()"
   ]
  },
  {
   "cell_type": "code",
   "execution_count": 51,
   "id": "c932fb3e",
   "metadata": {},
   "outputs": [
    {
     "data": {
      "text/plain": [
       "(316800, 23)"
      ]
     },
     "execution_count": 51,
     "metadata": {},
     "output_type": "execute_result"
    }
   ],
   "source": [
    "dataset1.shape"
   ]
  },
  {
   "cell_type": "code",
   "execution_count": 52,
   "id": "a6fbd22a",
   "metadata": {},
   "outputs": [
    {
     "data": {
      "text/plain": [
       "(316800, 23)"
      ]
     },
     "execution_count": 52,
     "metadata": {},
     "output_type": "execute_result"
    }
   ],
   "source": [
    "x=dataset1.iloc[:,0:23]\n",
    "x.shape"
   ]
  },
  {
   "cell_type": "code",
   "execution_count": 53,
   "id": "18806297",
   "metadata": {},
   "outputs": [
    {
     "name": "stdout",
     "output_type": "stream",
     "text": [
      "(221760, 23)\n",
      "(221760,)\n",
      "(95040, 23)\n",
      "(95040,)\n"
     ]
    }
   ],
   "source": [
    "train_fx,test_fx,train_fy,test_fy=train_test_split(x,y,test_size=0.30,random_state=123)\n",
    "print(train_fx.shape)\n",
    "print(train_fy.shape)\n",
    "print(test_fx.shape)\n",
    "print(test_fy.shape)"
   ]
  },
  {
   "cell_type": "code",
   "execution_count": 54,
   "id": "90abb83d",
   "metadata": {},
   "outputs": [
    {
     "name": "stdout",
     "output_type": "stream",
     "text": [
      "The confussion metrix for AdaBoost is:\n",
      " [[7978 5263 6087 4291]\n",
      " [8293 5085 6033 4227]\n",
      " [8489 5292 5802 4259]\n",
      " [8461 5283 6091 4106]]\n",
      "The accuracy of AdaBoost Classifier is:\t\t 0.24169823232323231\n",
      "The recal score of AdaBoost Classifier is is:\t\t 0.24169823232323231\n",
      "The precision of AdaBoost Classifier is:\t\t 0.24169823232323231\n",
      "The f1 score of AdaBoost Classifier is:\t\t 0.24169823232323231\n"
     ]
    }
   ],
   "source": [
    "ada_f=AdaBoostClassifier()\n",
    "ada_f.fit(train_fx,train_fy)\n",
    "pred_ada_f=ada_f.predict(test_fx)\n",
    "print(\"The confussion metrix for AdaBoost is:\\n\",metrics.confusion_matrix(test_fy,pred_ada_f))\n",
    "print(\"The accuracy of AdaBoost Classifier is:\\t\\t\",metrics.accuracy_score(test_fy,pred_ada_f))\n",
    "print(\"The recal score of AdaBoost Classifier is is:\\t\\t\",metrics.recall_score(test_fy,pred_ada_f,average='micro'))\n",
    "print(\"The precision of AdaBoost Classifier is:\\t\\t\",metrics.precision_score(test_fy,pred_ada_f,average='micro'))\n",
    "print(\"The f1 score of AdaBoost Classifier is:\\t\\t\",metrics.f1_score(test_fy,pred_ada_f,average='micro'))"
   ]
  }
 ],
 "metadata": {
  "kernelspec": {
   "display_name": "Python 3",
   "language": "python",
   "name": "python3"
  },
  "language_info": {
   "codemirror_mode": {
    "name": "ipython",
    "version": 3
   },
   "file_extension": ".py",
   "mimetype": "text/x-python",
   "name": "python",
   "nbconvert_exporter": "python",
   "pygments_lexer": "ipython3",
   "version": "3.8.8"
  }
 },
 "nbformat": 4,
 "nbformat_minor": 5
}
