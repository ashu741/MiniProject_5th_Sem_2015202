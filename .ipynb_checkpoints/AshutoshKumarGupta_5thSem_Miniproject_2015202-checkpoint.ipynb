{
 "cells": [
  {
   "cell_type": "markdown",
   "id": "ef8d6a83",
   "metadata": {},
   "source": [
    "# Importing Libraries"
   ]
  },
  {
   "cell_type": "code",
   "execution_count": 16,
   "id": "5d7d6512",
   "metadata": {},
   "outputs": [],
   "source": [
    "import pandas as pd\n",
    "import matplotlib.pyplot as plt\n",
    "import seaborn as sns\n",
    "import numpy as np\n",
    "from sklearn.preprocessing import LabelEncoder\n",
    "le=LabelEncoder()\n",
    "from sklearn.model_selection import train_test_split\n",
    "from sklearn.ensemble import RandomForestClassifier\n",
    "from sklearn import metrics"
   ]
  },
  {
   "cell_type": "markdown",
   "id": "8c1d01e2",
   "metadata": {},
   "source": [
    "# Importing Dataset"
   ]
  },
  {
   "cell_type": "code",
   "execution_count": 19,
   "id": "49c7ae07",
   "metadata": {},
   "outputs": [
    {
     "data": {
      "text/html": [
       "<div>\n",
       "<style scoped>\n",
       "    .dataframe tbody tr th:only-of-type {\n",
       "        vertical-align: middle;\n",
       "    }\n",
       "\n",
       "    .dataframe tbody tr th {\n",
       "        vertical-align: top;\n",
       "    }\n",
       "\n",
       "    .dataframe thead th {\n",
       "        text-align: right;\n",
       "    }\n",
       "</style>\n",
       "<table border=\"1\" class=\"dataframe\">\n",
       "  <thead>\n",
       "    <tr style=\"text-align: right;\">\n",
       "      <th></th>\n",
       "      <th>Age</th>\n",
       "      <th>Sex</th>\n",
       "      <th>BP max</th>\n",
       "      <th>BP min</th>\n",
       "      <th>Pr</th>\n",
       "      <th>RR</th>\n",
       "      <th>T</th>\n",
       "      <th>SPo2</th>\n",
       "      <th>DM</th>\n",
       "      <th>HTN</th>\n",
       "      <th>...</th>\n",
       "      <th>HCO3</th>\n",
       "      <th>BE</th>\n",
       "      <th>BUN</th>\n",
       "      <th>Cr</th>\n",
       "      <th>AST</th>\n",
       "      <th>ALT</th>\n",
       "      <th>ALKP</th>\n",
       "      <th>LDH</th>\n",
       "      <th>Outcome</th>\n",
       "      <th>Death Interval</th>\n",
       "    </tr>\n",
       "  </thead>\n",
       "  <tbody>\n",
       "    <tr>\n",
       "      <th>0</th>\n",
       "      <td>38</td>\n",
       "      <td>0</td>\n",
       "      <td>105</td>\n",
       "      <td>70</td>\n",
       "      <td>110</td>\n",
       "      <td>19.0</td>\n",
       "      <td>37.0</td>\n",
       "      <td>88.0</td>\n",
       "      <td>0</td>\n",
       "      <td>0</td>\n",
       "      <td>...</td>\n",
       "      <td>22.7</td>\n",
       "      <td>-1.8</td>\n",
       "      <td>11</td>\n",
       "      <td>1.13</td>\n",
       "      <td>36.4</td>\n",
       "      <td>20.3</td>\n",
       "      <td>152.0</td>\n",
       "      <td>655.0</td>\n",
       "      <td>1</td>\n",
       "      <td>NaN</td>\n",
       "    </tr>\n",
       "    <tr>\n",
       "      <th>1</th>\n",
       "      <td>66</td>\n",
       "      <td>1</td>\n",
       "      <td>160</td>\n",
       "      <td>95</td>\n",
       "      <td>65</td>\n",
       "      <td>19.0</td>\n",
       "      <td>37.0</td>\n",
       "      <td>95.0</td>\n",
       "      <td>0</td>\n",
       "      <td>1</td>\n",
       "      <td>...</td>\n",
       "      <td>30.9</td>\n",
       "      <td>6.3</td>\n",
       "      <td>9</td>\n",
       "      <td>1.00</td>\n",
       "      <td>33.0</td>\n",
       "      <td>19.0</td>\n",
       "      <td>183.0</td>\n",
       "      <td>652.0</td>\n",
       "      <td>1</td>\n",
       "      <td>NaN</td>\n",
       "    </tr>\n",
       "    <tr>\n",
       "      <th>2</th>\n",
       "      <td>71</td>\n",
       "      <td>0</td>\n",
       "      <td>130</td>\n",
       "      <td>80</td>\n",
       "      <td>70</td>\n",
       "      <td>17.0</td>\n",
       "      <td>37.0</td>\n",
       "      <td>91.0</td>\n",
       "      <td>1</td>\n",
       "      <td>0</td>\n",
       "      <td>...</td>\n",
       "      <td>22.5</td>\n",
       "      <td>-2.2</td>\n",
       "      <td>13</td>\n",
       "      <td>1.19</td>\n",
       "      <td>48.9</td>\n",
       "      <td>46.2</td>\n",
       "      <td>155.0</td>\n",
       "      <td>389.0</td>\n",
       "      <td>1</td>\n",
       "      <td>NaN</td>\n",
       "    </tr>\n",
       "    <tr>\n",
       "      <th>3</th>\n",
       "      <td>94</td>\n",
       "      <td>1</td>\n",
       "      <td>100</td>\n",
       "      <td>60</td>\n",
       "      <td>100</td>\n",
       "      <td>21.0</td>\n",
       "      <td>37.5</td>\n",
       "      <td>89.0</td>\n",
       "      <td>0</td>\n",
       "      <td>0</td>\n",
       "      <td>...</td>\n",
       "      <td>24.3</td>\n",
       "      <td>1.6</td>\n",
       "      <td>23</td>\n",
       "      <td>1.00</td>\n",
       "      <td>29.0</td>\n",
       "      <td>17.0</td>\n",
       "      <td>177.0</td>\n",
       "      <td>627.0</td>\n",
       "      <td>0</td>\n",
       "      <td>7.0</td>\n",
       "    </tr>\n",
       "    <tr>\n",
       "      <th>4</th>\n",
       "      <td>55</td>\n",
       "      <td>1</td>\n",
       "      <td>90</td>\n",
       "      <td>60</td>\n",
       "      <td>90</td>\n",
       "      <td>20.0</td>\n",
       "      <td>35.5</td>\n",
       "      <td>96.0</td>\n",
       "      <td>1</td>\n",
       "      <td>1</td>\n",
       "      <td>...</td>\n",
       "      <td>25.1</td>\n",
       "      <td>1.5</td>\n",
       "      <td>17</td>\n",
       "      <td>0.89</td>\n",
       "      <td>22.0</td>\n",
       "      <td>18.0</td>\n",
       "      <td>804.0</td>\n",
       "      <td>334.0</td>\n",
       "      <td>1</td>\n",
       "      <td>NaN</td>\n",
       "    </tr>\n",
       "  </tbody>\n",
       "</table>\n",
       "<p>5 rows × 39 columns</p>\n",
       "</div>"
      ],
      "text/plain": [
       "   Age  Sex  BP max   BP min   Pr    RR     T   SPo2   DM  HTN  ...  HCO3  \\\n",
       "0   38    0      105       70  110  19.0  37.0   88.0   0    0  ...  22.7   \n",
       "1   66    1      160       95   65  19.0  37.0   95.0   0    1  ...  30.9   \n",
       "2   71    0      130       80   70  17.0  37.0   91.0   1    0  ...  22.5   \n",
       "3   94    1      100       60  100  21.0  37.5   89.0   0    0  ...  24.3   \n",
       "4   55    1       90       60   90  20.0  35.5   96.0   1    1  ...  25.1   \n",
       "\n",
       "    BE  BUN    Cr   AST   ALT   ALKP    LDH  Outcome  Death Interval  \n",
       "0 -1.8   11  1.13  36.4  20.3  152.0  655.0        1             NaN  \n",
       "1  6.3    9  1.00  33.0  19.0  183.0  652.0        1             NaN  \n",
       "2 -2.2   13  1.19  48.9  46.2  155.0  389.0        1             NaN  \n",
       "3  1.6   23  1.00  29.0  17.0  177.0  627.0        0             7.0  \n",
       "4  1.5   17  0.89  22.0  18.0  804.0  334.0        1             NaN  \n",
       "\n",
       "[5 rows x 39 columns]"
      ]
     },
     "execution_count": 19,
     "metadata": {},
     "output_type": "execute_result"
    }
   ],
   "source": [
    "dataset=pd.read_csv(r\"Covid_Dataset.csv\")\n",
    "dataset.head()"
   ]
  },
  {
   "cell_type": "markdown",
   "id": "7651ecff",
   "metadata": {},
   "source": [
    "# Data Description and visualisation "
   ]
  },
  {
   "cell_type": "code",
   "execution_count": 21,
   "id": "2a963119",
   "metadata": {},
   "outputs": [
    {
     "data": {
      "text/plain": [
       "<bound method NDFrame.describe of      Age  Sex  BP max   BP min   Pr    RR     T   SPo2   DM  HTN  ...  HCO3  \\\n",
       "0     38    0      105       70  110  19.0  37.0   88.0   0    0  ...  22.7   \n",
       "1     66    1      160       95   65  19.0  37.0   95.0   0    1  ...  30.9   \n",
       "2     71    0      130       80   70  17.0  37.0   91.0   1    0  ...  22.5   \n",
       "3     94    1      100       60  100  21.0  37.5   89.0   0    0  ...  24.3   \n",
       "4     55    1       90       60   90  20.0  35.5   96.0   1    1  ...  25.1   \n",
       "..   ...  ...      ...      ...  ...   ...   ...    ...  ..  ...  ...   ...   \n",
       "487   74    1      140       80   88  15.0  37.9   80.0   1    1  ...  17.7   \n",
       "488   76    0      135       65   65  20.0  36.6   65.0   0    0  ...  19.7   \n",
       "489   49    0      130       80   99  18.0  37.8   95.0   1    0  ...  26.1   \n",
       "490   62    0      121       67   97  24.0  37.6   97.0   1    1  ...  15.5   \n",
       "491   34    1       90       60   75  19.0  36.5   46.0   0    0  ...  21.3   \n",
       "\n",
       "       BE  BUN    Cr   AST   ALT   ALKP     LDH  Outcome  Death Interval  \n",
       "0    -1.8   11  1.13  36.4  20.3  152.0   655.0        1             NaN  \n",
       "1     6.3    9  1.00  33.0  19.0  183.0   652.0        1             NaN  \n",
       "2    -2.2   13  1.19  48.9  46.2  155.0   389.0        1             NaN  \n",
       "3     1.6   23  1.00  29.0  17.0  177.0   627.0        0             7.0  \n",
       "4     1.5   17  0.89  22.0  18.0  804.0   334.0        1             NaN  \n",
       "..    ...  ...   ...   ...   ...    ...     ...      ...             ...  \n",
       "487 -10.2   14  1.50  25.2  36.0  197.0   206.0        0             9.0  \n",
       "488  -4.4   29  1.03  57.0  33.0  504.0   589.0        0             4.0  \n",
       "489   0.4   28  1.75  22.0  22.0  167.8   466.0        1             NaN  \n",
       "490 -11.4   81  3.25  30.0  20.0  122.0   724.0        0             0.0  \n",
       "491  -4.5   23  1.20  45.0  17.0  396.0  1535.0        0             2.0  \n",
       "\n",
       "[492 rows x 39 columns]>"
      ]
     },
     "execution_count": 21,
     "metadata": {},
     "output_type": "execute_result"
    }
   ],
   "source": [
    "dataset.describe"
   ]
  },
  {
   "cell_type": "code",
   "execution_count": 25,
   "id": "95971673",
   "metadata": {},
   "outputs": [
    {
     "name": "stdout",
     "output_type": "stream",
     "text": [
      "1    306\n",
      "0    186\n",
      "Name: Outcome, dtype: int64\n",
      "0    297\n",
      "1    195\n",
      "Name: Sex, dtype: int64\n"
     ]
    }
   ],
   "source": [
    "print(dataset['Outcome'].value_counts())\n",
    "print(dataset['Sex'].value_counts())"
   ]
  },
  {
   "cell_type": "markdown",
   "id": "8759b734",
   "metadata": {},
   "source": [
    "# Data Preprocessing"
   ]
  },
  {
   "cell_type": "code",
   "execution_count": 26,
   "id": "e4c72ab9",
   "metadata": {},
   "outputs": [
    {
     "data": {
      "text/plain": [
       "Age                 0\n",
       "Sex                 0\n",
       "BP max              0\n",
       "BP min              0\n",
       "Pr                  0\n",
       "RR                  1\n",
       "T                   0\n",
       "SPo2                3\n",
       "DM                  0\n",
       "HTN                 0\n",
       "CVD                 0\n",
       "WBC                 0\n",
       "Abs Neut            0\n",
       "Abs Lymph           0\n",
       "RBC                 0\n",
       "HGB                 1\n",
       "HCT                 0\n",
       "PLT                 0\n",
       "MCV                 0\n",
       "MCH                 0\n",
       "MCHC                0\n",
       "RDW                19\n",
       "ESR                20\n",
       "PT                  0\n",
       "PTT                 1\n",
       "INR                 0\n",
       "PH                  0\n",
       "PCO2                0\n",
       "PO2                 0\n",
       "HCO3                0\n",
       "BE                  0\n",
       "BUN                 0\n",
       "Cr                  0\n",
       "AST                 1\n",
       "ALT                 0\n",
       "ALKP                1\n",
       "LDH                15\n",
       "Outcome             0\n",
       "Death Interval    307\n",
       "dtype: int64"
      ]
     },
     "execution_count": 26,
     "metadata": {},
     "output_type": "execute_result"
    }
   ],
   "source": [
    "dataset.isnull().sum()"
   ]
  },
  {
   "cell_type": "code",
   "execution_count": 47,
   "id": "d0908242",
   "metadata": {},
   "outputs": [
    {
     "name": "stdout",
     "output_type": "stream",
     "text": [
      "0    88.0\n",
      "dtype: float64\n"
     ]
    }
   ],
   "source": [
    "mode=dataset.iloc[:,7].mode()\n",
    "print(mode)"
   ]
  },
  {
   "cell_type": "code",
   "execution_count": 55,
   "id": "d008d7c0",
   "metadata": {},
   "outputs": [],
   "source": [
    "dataset=dataset.fillna({'LDH':dataset['LDH'].mean()})\n",
    "dataset=dataset.fillna({'AST':dataset['AST'].mean()})\n",
    "dataset=dataset.fillna({'ALKP':dataset['ALKP'].mean()})\n",
    "dataset=dataset.fillna({'PTT':dataset['PTT'].mean()})\n",
    "dataset=dataset.fillna({'ESR':dataset['ESR'].mean()})\n",
    "dataset=dataset.fillna({'RDW':dataset['RDW'].mean()})\n",
    "dataset=dataset.fillna({'HGB':dataset['HGB'].mean()})\n",
    "\n"
   ]
  },
  {
   "cell_type": "code",
   "execution_count": 53,
   "id": "56045c46",
   "metadata": {},
   "outputs": [
    {
     "data": {
      "text/plain": [
       "Age                 0\n",
       "Sex                 0\n",
       "BP max              0\n",
       "BP min              0\n",
       "Pr                  0\n",
       "RR                  1\n",
       "T                   0\n",
       "SPo2                3\n",
       "DM                  0\n",
       "HTN                 0\n",
       "CVD                 0\n",
       "WBC                 0\n",
       "Abs Neut            0\n",
       "Abs Lymph           0\n",
       "RBC                 0\n",
       "HGB                 0\n",
       "HCT                 0\n",
       "PLT                 0\n",
       "MCV                 0\n",
       "MCH                 0\n",
       "MCHC                0\n",
       "RDW                 0\n",
       "ESR                 0\n",
       "PT                  0\n",
       "PTT                 0\n",
       "INR                 0\n",
       "PH                  0\n",
       "PCO2                0\n",
       "PO2                 0\n",
       "HCO3                0\n",
       "BE                  0\n",
       "BUN                 0\n",
       "Cr                  0\n",
       "AST                 0\n",
       "ALT                 0\n",
       "ALKP                0\n",
       "LDH                 0\n",
       "Outcome             0\n",
       "Death Interval    307\n",
       "dtype: int64"
      ]
     },
     "execution_count": 53,
     "metadata": {},
     "output_type": "execute_result"
    }
   ],
   "source": [
    "dataset.isnull().sum()"
   ]
  }
 ],
 "metadata": {
  "kernelspec": {
   "display_name": "Python 3",
   "language": "python",
   "name": "python3"
  },
  "language_info": {
   "codemirror_mode": {
    "name": "ipython",
    "version": 3
   },
   "file_extension": ".py",
   "mimetype": "text/x-python",
   "name": "python",
   "nbconvert_exporter": "python",
   "pygments_lexer": "ipython3",
   "version": "3.8.8"
  }
 },
 "nbformat": 4,
 "nbformat_minor": 5
}
