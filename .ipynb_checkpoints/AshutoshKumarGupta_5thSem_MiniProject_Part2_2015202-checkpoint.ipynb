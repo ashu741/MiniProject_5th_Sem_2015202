{
 "cells": [
  {
   "cell_type": "markdown",
   "id": "3f9c884d",
   "metadata": {},
   "source": [
    "# Importing Libraries"
   ]
  },
  {
   "cell_type": "code",
   "execution_count": 1,
   "id": "912ed154",
   "metadata": {},
   "outputs": [],
   "source": [
    "import pandas as pd\n",
    "import matplotlib.pyplot as plt\n",
    "import numpy as np\n",
    "import seaborn as sns\n",
    "from sklearn.model_selection import train_test_split\n",
    "from sklearn import metrics\n",
    "from sklearn.ensemble import RandomForestClassifier\n",
    "from imblearn.over_sampling import SMOTE\n",
    "from sklearn.linear_model import LogisticRegression\n",
    "from sklearn.tree import DecisionTreeClassifier\n",
    "from sklearn.ensemble import AdaBoostClassifier\n",
    "from sklearn.preprocessing import StandardScaler\n",
    "from sklearn.neighbors import KNeighborsClassifier\n",
    "from sklearn.decomposition import PCA\n",
    "from sklearn.preprocessing import LabelEncoder\n",
    "le=LabelEncoder()"
   ]
  },
  {
   "cell_type": "code",
   "execution_count": 2,
   "id": "f8a7b906",
   "metadata": {},
   "outputs": [
    {
     "data": {
      "text/html": [
       "<div>\n",
       "<style scoped>\n",
       "    .dataframe tbody tr th:only-of-type {\n",
       "        vertical-align: middle;\n",
       "    }\n",
       "\n",
       "    .dataframe tbody tr th {\n",
       "        vertical-align: top;\n",
       "    }\n",
       "\n",
       "    .dataframe thead th {\n",
       "        text-align: right;\n",
       "    }\n",
       "</style>\n",
       "<table border=\"1\" class=\"dataframe\">\n",
       "  <thead>\n",
       "    <tr style=\"text-align: right;\">\n",
       "      <th></th>\n",
       "      <th>Fever</th>\n",
       "      <th>Tiredness</th>\n",
       "      <th>Dry-Cough</th>\n",
       "      <th>Difficulty-in-Breathing</th>\n",
       "      <th>Sore-Throat</th>\n",
       "      <th>None_Sympton</th>\n",
       "      <th>Pains</th>\n",
       "      <th>Nasal-Congestion</th>\n",
       "      <th>Runny-Nose</th>\n",
       "      <th>Diarrhea</th>\n",
       "      <th>...</th>\n",
       "      <th>Gender_Female</th>\n",
       "      <th>Gender_Male</th>\n",
       "      <th>Gender_Transgender</th>\n",
       "      <th>Severity_Mild</th>\n",
       "      <th>Severity_Moderate</th>\n",
       "      <th>Severity_None</th>\n",
       "      <th>Severity_Severe</th>\n",
       "      <th>Contact_Dont-Know</th>\n",
       "      <th>Contact_No</th>\n",
       "      <th>Contact_Yes</th>\n",
       "    </tr>\n",
       "  </thead>\n",
       "  <tbody>\n",
       "    <tr>\n",
       "      <th>0</th>\n",
       "      <td>1</td>\n",
       "      <td>1</td>\n",
       "      <td>1</td>\n",
       "      <td>1</td>\n",
       "      <td>1</td>\n",
       "      <td>0</td>\n",
       "      <td>1</td>\n",
       "      <td>1</td>\n",
       "      <td>1</td>\n",
       "      <td>1</td>\n",
       "      <td>...</td>\n",
       "      <td>0</td>\n",
       "      <td>1</td>\n",
       "      <td>0</td>\n",
       "      <td>1</td>\n",
       "      <td>0</td>\n",
       "      <td>0</td>\n",
       "      <td>0</td>\n",
       "      <td>0</td>\n",
       "      <td>0</td>\n",
       "      <td>1</td>\n",
       "    </tr>\n",
       "    <tr>\n",
       "      <th>1</th>\n",
       "      <td>1</td>\n",
       "      <td>1</td>\n",
       "      <td>1</td>\n",
       "      <td>1</td>\n",
       "      <td>1</td>\n",
       "      <td>0</td>\n",
       "      <td>1</td>\n",
       "      <td>1</td>\n",
       "      <td>1</td>\n",
       "      <td>1</td>\n",
       "      <td>...</td>\n",
       "      <td>0</td>\n",
       "      <td>1</td>\n",
       "      <td>0</td>\n",
       "      <td>1</td>\n",
       "      <td>0</td>\n",
       "      <td>0</td>\n",
       "      <td>0</td>\n",
       "      <td>0</td>\n",
       "      <td>1</td>\n",
       "      <td>0</td>\n",
       "    </tr>\n",
       "    <tr>\n",
       "      <th>2</th>\n",
       "      <td>1</td>\n",
       "      <td>1</td>\n",
       "      <td>1</td>\n",
       "      <td>1</td>\n",
       "      <td>1</td>\n",
       "      <td>0</td>\n",
       "      <td>1</td>\n",
       "      <td>1</td>\n",
       "      <td>1</td>\n",
       "      <td>1</td>\n",
       "      <td>...</td>\n",
       "      <td>0</td>\n",
       "      <td>1</td>\n",
       "      <td>0</td>\n",
       "      <td>1</td>\n",
       "      <td>0</td>\n",
       "      <td>0</td>\n",
       "      <td>0</td>\n",
       "      <td>1</td>\n",
       "      <td>0</td>\n",
       "      <td>0</td>\n",
       "    </tr>\n",
       "    <tr>\n",
       "      <th>3</th>\n",
       "      <td>1</td>\n",
       "      <td>1</td>\n",
       "      <td>1</td>\n",
       "      <td>1</td>\n",
       "      <td>1</td>\n",
       "      <td>0</td>\n",
       "      <td>1</td>\n",
       "      <td>1</td>\n",
       "      <td>1</td>\n",
       "      <td>1</td>\n",
       "      <td>...</td>\n",
       "      <td>0</td>\n",
       "      <td>1</td>\n",
       "      <td>0</td>\n",
       "      <td>0</td>\n",
       "      <td>1</td>\n",
       "      <td>0</td>\n",
       "      <td>0</td>\n",
       "      <td>0</td>\n",
       "      <td>0</td>\n",
       "      <td>1</td>\n",
       "    </tr>\n",
       "    <tr>\n",
       "      <th>4</th>\n",
       "      <td>1</td>\n",
       "      <td>1</td>\n",
       "      <td>1</td>\n",
       "      <td>1</td>\n",
       "      <td>1</td>\n",
       "      <td>0</td>\n",
       "      <td>1</td>\n",
       "      <td>1</td>\n",
       "      <td>1</td>\n",
       "      <td>1</td>\n",
       "      <td>...</td>\n",
       "      <td>0</td>\n",
       "      <td>1</td>\n",
       "      <td>0</td>\n",
       "      <td>0</td>\n",
       "      <td>1</td>\n",
       "      <td>0</td>\n",
       "      <td>0</td>\n",
       "      <td>0</td>\n",
       "      <td>1</td>\n",
       "      <td>0</td>\n",
       "    </tr>\n",
       "  </tbody>\n",
       "</table>\n",
       "<p>5 rows × 26 columns</p>\n",
       "</div>"
      ],
      "text/plain": [
       "   Fever  Tiredness  Dry-Cough  Difficulty-in-Breathing  Sore-Throat  \\\n",
       "0      1          1          1                        1            1   \n",
       "1      1          1          1                        1            1   \n",
       "2      1          1          1                        1            1   \n",
       "3      1          1          1                        1            1   \n",
       "4      1          1          1                        1            1   \n",
       "\n",
       "   None_Sympton  Pains  Nasal-Congestion  Runny-Nose  Diarrhea  ...  \\\n",
       "0             0      1                 1           1         1  ...   \n",
       "1             0      1                 1           1         1  ...   \n",
       "2             0      1                 1           1         1  ...   \n",
       "3             0      1                 1           1         1  ...   \n",
       "4             0      1                 1           1         1  ...   \n",
       "\n",
       "   Gender_Female  Gender_Male  Gender_Transgender  Severity_Mild  \\\n",
       "0              0            1                   0              1   \n",
       "1              0            1                   0              1   \n",
       "2              0            1                   0              1   \n",
       "3              0            1                   0              0   \n",
       "4              0            1                   0              0   \n",
       "\n",
       "   Severity_Moderate  Severity_None  Severity_Severe  Contact_Dont-Know  \\\n",
       "0                  0              0                0                  0   \n",
       "1                  0              0                0                  0   \n",
       "2                  0              0                0                  1   \n",
       "3                  1              0                0                  0   \n",
       "4                  1              0                0                  0   \n",
       "\n",
       "   Contact_No  Contact_Yes  \n",
       "0           0            1  \n",
       "1           1            0  \n",
       "2           0            0  \n",
       "3           0            1  \n",
       "4           1            0  \n",
       "\n",
       "[5 rows x 26 columns]"
      ]
     },
     "execution_count": 2,
     "metadata": {},
     "output_type": "execute_result"
    }
   ],
   "source": [
    "dataset1=pd.read_csv(\"Cleaned_Data.csv\")\n",
    "dataset1.head()"
   ]
  },
  {
   "cell_type": "code",
   "execution_count": 3,
   "id": "467c37ca",
   "metadata": {},
   "outputs": [
    {
     "name": "stdout",
     "output_type": "stream",
     "text": [
      "4    66600\n",
      "3    64800\n",
      "5    55800\n",
      "2    48600\n",
      "6    36000\n",
      "7    18000\n",
      "1    16200\n",
      "8     7200\n",
      "0     1800\n",
      "9     1800\n",
      "Name: Sum_of_columns, dtype: int64\n"
     ]
    }
   ],
   "source": [
    "dataset1['Sum_of_columns'] = dataset1.iloc[:,:5].sum(axis=1) + dataset1.iloc[:,6:10].sum(axis=1)\n",
    "print(dataset1['Sum_of_columns'].value_counts())"
   ]
  },
  {
   "cell_type": "code",
   "execution_count": 4,
   "id": "7daa0c0c",
   "metadata": {},
   "outputs": [
    {
     "data": {
      "text/plain": [
       "(316800, 27)"
      ]
     },
     "execution_count": 4,
     "metadata": {},
     "output_type": "execute_result"
    }
   ],
   "source": [
    "dataset1.shape"
   ]
  },
  {
   "cell_type": "code",
   "execution_count": 5,
   "id": "3db19bdf",
   "metadata": {},
   "outputs": [
    {
     "data": {
      "text/plain": [
       "<bound method NDFrame.describe of         Fever  Tiredness  Dry-Cough  Difficulty-in-Breathing  Sore-Throat  \\\n",
       "0           1          1          1                        1            1   \n",
       "1           1          1          1                        1            1   \n",
       "2           1          1          1                        1            1   \n",
       "3           1          1          1                        1            1   \n",
       "4           1          1          1                        1            1   \n",
       "...       ...        ...        ...                      ...          ...   \n",
       "316795      0          0          0                        0            0   \n",
       "316796      0          0          0                        0            0   \n",
       "316797      0          0          0                        0            0   \n",
       "316798      0          0          0                        0            0   \n",
       "316799      0          0          0                        0            0   \n",
       "\n",
       "        None_Sympton  Pains  Nasal-Congestion  Runny-Nose  Diarrhea  ...  \\\n",
       "0                  0      1                 1           1         1  ...   \n",
       "1                  0      1                 1           1         1  ...   \n",
       "2                  0      1                 1           1         1  ...   \n",
       "3                  0      1                 1           1         1  ...   \n",
       "4                  0      1                 1           1         1  ...   \n",
       "...              ...    ...               ...         ...       ...  ...   \n",
       "316795             1      0                 0           0         0  ...   \n",
       "316796             1      0                 0           0         0  ...   \n",
       "316797             1      0                 0           0         0  ...   \n",
       "316798             1      0                 0           0         0  ...   \n",
       "316799             1      0                 0           0         0  ...   \n",
       "\n",
       "        Gender_Male  Gender_Transgender  Severity_Mild  Severity_Moderate  \\\n",
       "0                 1                   0              1                  0   \n",
       "1                 1                   0              1                  0   \n",
       "2                 1                   0              1                  0   \n",
       "3                 1                   0              0                  1   \n",
       "4                 1                   0              0                  1   \n",
       "...             ...                 ...            ...                ...   \n",
       "316795            0                   1              0                  0   \n",
       "316796            0                   1              0                  0   \n",
       "316797            0                   1              0                  0   \n",
       "316798            0                   1              0                  0   \n",
       "316799            0                   1              0                  0   \n",
       "\n",
       "        Severity_None  Severity_Severe  Contact_Dont-Know  Contact_No  \\\n",
       "0                   0                0                  0           0   \n",
       "1                   0                0                  0           1   \n",
       "2                   0                0                  1           0   \n",
       "3                   0                0                  0           0   \n",
       "4                   0                0                  0           1   \n",
       "...               ...              ...                ...         ...   \n",
       "316795              0                1                  0           1   \n",
       "316796              0                1                  1           0   \n",
       "316797              1                0                  0           0   \n",
       "316798              1                0                  0           1   \n",
       "316799              1                0                  1           0   \n",
       "\n",
       "        Contact_Yes  Sum_of_columns  \n",
       "0                 1               9  \n",
       "1                 0               9  \n",
       "2                 0               9  \n",
       "3                 1               9  \n",
       "4                 0               9  \n",
       "...             ...             ...  \n",
       "316795            0               0  \n",
       "316796            0               0  \n",
       "316797            1               0  \n",
       "316798            0               0  \n",
       "316799            0               0  \n",
       "\n",
       "[316800 rows x 27 columns]>"
      ]
     },
     "execution_count": 5,
     "metadata": {},
     "output_type": "execute_result"
    }
   ],
   "source": [
    "dataset1.describe"
   ]
  },
  {
   "cell_type": "code",
   "execution_count": 6,
   "id": "528fe093",
   "metadata": {},
   "outputs": [
    {
     "name": "stdout",
     "output_type": "stream",
     "text": [
      "<class 'pandas.core.frame.DataFrame'>\n",
      "RangeIndex: 316800 entries, 0 to 316799\n",
      "Data columns (total 27 columns):\n",
      " #   Column                   Non-Null Count   Dtype\n",
      "---  ------                   --------------   -----\n",
      " 0   Fever                    316800 non-null  int64\n",
      " 1   Tiredness                316800 non-null  int64\n",
      " 2   Dry-Cough                316800 non-null  int64\n",
      " 3   Difficulty-in-Breathing  316800 non-null  int64\n",
      " 4   Sore-Throat              316800 non-null  int64\n",
      " 5   None_Sympton             316800 non-null  int64\n",
      " 6   Pains                    316800 non-null  int64\n",
      " 7   Nasal-Congestion         316800 non-null  int64\n",
      " 8   Runny-Nose               316800 non-null  int64\n",
      " 9   Diarrhea                 316800 non-null  int64\n",
      " 10  None_Experiencing        316800 non-null  int64\n",
      " 11  Age_0-9                  316800 non-null  int64\n",
      " 12  Age_10-19                316800 non-null  int64\n",
      " 13  Age_20-24                316800 non-null  int64\n",
      " 14  Age_25-59                316800 non-null  int64\n",
      " 15  Age_60+                  316800 non-null  int64\n",
      " 16  Gender_Female            316800 non-null  int64\n",
      " 17  Gender_Male              316800 non-null  int64\n",
      " 18  Gender_Transgender       316800 non-null  int64\n",
      " 19  Severity_Mild            316800 non-null  int64\n",
      " 20  Severity_Moderate        316800 non-null  int64\n",
      " 21  Severity_None            316800 non-null  int64\n",
      " 22  Severity_Severe          316800 non-null  int64\n",
      " 23  Contact_Dont-Know        316800 non-null  int64\n",
      " 24  Contact_No               316800 non-null  int64\n",
      " 25  Contact_Yes              316800 non-null  int64\n",
      " 26  Sum_of_columns           316800 non-null  int64\n",
      "dtypes: int64(27)\n",
      "memory usage: 65.3 MB\n"
     ]
    }
   ],
   "source": [
    "dataset1.info()"
   ]
  },
  {
   "cell_type": "code",
   "execution_count": 7,
   "id": "1ecd8333",
   "metadata": {},
   "outputs": [
    {
     "data": {
      "text/plain": [
       "Fever                      0\n",
       "Tiredness                  0\n",
       "Dry-Cough                  0\n",
       "Difficulty-in-Breathing    0\n",
       "Sore-Throat                0\n",
       "None_Sympton               0\n",
       "Pains                      0\n",
       "Nasal-Congestion           0\n",
       "Runny-Nose                 0\n",
       "Diarrhea                   0\n",
       "None_Experiencing          0\n",
       "Age_0-9                    0\n",
       "Age_10-19                  0\n",
       "Age_20-24                  0\n",
       "Age_25-59                  0\n",
       "Age_60+                    0\n",
       "Gender_Female              0\n",
       "Gender_Male                0\n",
       "Gender_Transgender         0\n",
       "Severity_Mild              0\n",
       "Severity_Moderate          0\n",
       "Severity_None              0\n",
       "Severity_Severe            0\n",
       "Contact_Dont-Know          0\n",
       "Contact_No                 0\n",
       "Contact_Yes                0\n",
       "Sum_of_columns             0\n",
       "dtype: int64"
      ]
     },
     "execution_count": 7,
     "metadata": {},
     "output_type": "execute_result"
    }
   ],
   "source": [
    "dataset1.isnull().sum()"
   ]
  },
  {
   "cell_type": "code",
   "execution_count": 8,
   "id": "2faf3445",
   "metadata": {},
   "outputs": [],
   "source": [
    "dataset1=dataset1.drop(['Contact_No','Contact_Yes'],axis=1)\n"
   ]
  },
  {
   "cell_type": "code",
   "execution_count": 9,
   "id": "b83832ac",
   "metadata": {},
   "outputs": [
    {
     "data": {
      "text/plain": [
       "(316800, 25)"
      ]
     },
     "execution_count": 9,
     "metadata": {},
     "output_type": "execute_result"
    }
   ],
   "source": [
    "dataset1.shape"
   ]
  },
  {
   "cell_type": "code",
   "execution_count": 10,
   "id": "c573f424",
   "metadata": {},
   "outputs": [
    {
     "name": "stdout",
     "output_type": "stream",
     "text": [
      "<class 'pandas.core.frame.DataFrame'>\n",
      "RangeIndex: 316800 entries, 0 to 316799\n",
      "Data columns (total 25 columns):\n",
      " #   Column                   Non-Null Count   Dtype\n",
      "---  ------                   --------------   -----\n",
      " 0   Fever                    316800 non-null  int64\n",
      " 1   Tiredness                316800 non-null  int64\n",
      " 2   Dry-Cough                316800 non-null  int64\n",
      " 3   Difficulty-in-Breathing  316800 non-null  int64\n",
      " 4   Sore-Throat              316800 non-null  int64\n",
      " 5   None_Sympton             316800 non-null  int64\n",
      " 6   Pains                    316800 non-null  int64\n",
      " 7   Nasal-Congestion         316800 non-null  int64\n",
      " 8   Runny-Nose               316800 non-null  int64\n",
      " 9   Diarrhea                 316800 non-null  int64\n",
      " 10  None_Experiencing        316800 non-null  int64\n",
      " 11  Age_0-9                  316800 non-null  int64\n",
      " 12  Age_10-19                316800 non-null  int64\n",
      " 13  Age_20-24                316800 non-null  int64\n",
      " 14  Age_25-59                316800 non-null  int64\n",
      " 15  Age_60+                  316800 non-null  int64\n",
      " 16  Gender_Female            316800 non-null  int64\n",
      " 17  Gender_Male              316800 non-null  int64\n",
      " 18  Gender_Transgender       316800 non-null  int64\n",
      " 19  Severity_Mild            316800 non-null  int64\n",
      " 20  Severity_Moderate        316800 non-null  int64\n",
      " 21  Severity_None            316800 non-null  int64\n",
      " 22  Severity_Severe          316800 non-null  int64\n",
      " 23  Contact_Dont-Know        316800 non-null  int64\n",
      " 24  Sum_of_columns           316800 non-null  int64\n",
      "dtypes: int64(25)\n",
      "memory usage: 60.4 MB\n"
     ]
    }
   ],
   "source": [
    "dataset1.info()"
   ]
  },
  {
   "cell_type": "code",
   "execution_count": 11,
   "id": "160dace6",
   "metadata": {},
   "outputs": [
    {
     "name": "stdout",
     "output_type": "stream",
     "text": [
      "age between 0 t0 9 distribution\n",
      " 0    253440\n",
      "1     63360\n",
      "Name: Age_0-9, dtype: int64\n"
     ]
    }
   ],
   "source": [
    "print(\"age between 0 t0 9 distribution\\n\",dataset1.iloc[:,11].value_counts())"
   ]
  },
  {
   "cell_type": "code",
   "execution_count": 12,
   "id": "16ff1ada",
   "metadata": {},
   "outputs": [
    {
     "name": "stdout",
     "output_type": "stream",
     "text": [
      "age between 10 t0 19 distribution\n",
      " 0    253440\n",
      "1     63360\n",
      "Name: Age_10-19, dtype: int64\n"
     ]
    }
   ],
   "source": [
    "print(\"age between 10 t0 19 distribution\\n\",dataset1.iloc[:,12].value_counts())"
   ]
  },
  {
   "cell_type": "code",
   "execution_count": 13,
   "id": "32776385",
   "metadata": {},
   "outputs": [
    {
     "name": "stdout",
     "output_type": "stream",
     "text": [
      "age between 20 t0 24 distribution\n",
      " 0    253440\n",
      "1     63360\n",
      "Name: Age_20-24, dtype: int64\n"
     ]
    }
   ],
   "source": [
    "print(\"age between 20 t0 24 distribution\\n\",dataset1.iloc[:,13].value_counts())"
   ]
  },
  {
   "cell_type": "code",
   "execution_count": 14,
   "id": "5df4e58d",
   "metadata": {},
   "outputs": [
    {
     "name": "stdout",
     "output_type": "stream",
     "text": [
      "age between 25 t0 59 distribution\n",
      " 0    253440\n",
      "1     63360\n",
      "Name: Age_25-59, dtype: int64\n"
     ]
    }
   ],
   "source": [
    "print(\"age between 25 t0 59 distribution\\n\",dataset1.iloc[:,14].value_counts())"
   ]
  },
  {
   "cell_type": "code",
   "execution_count": 15,
   "id": "e32cace5",
   "metadata": {},
   "outputs": [
    {
     "name": "stdout",
     "output_type": "stream",
     "text": [
      "age 60+ distribution\n",
      " 0    253440\n",
      "1     63360\n",
      "Name: Age_60+, dtype: int64\n"
     ]
    }
   ],
   "source": [
    "print(\"age 60+ distribution\\n\",dataset1.iloc[:,15].value_counts())"
   ]
  },
  {
   "cell_type": "code",
   "execution_count": 16,
   "id": "edaf0c70",
   "metadata": {},
   "outputs": [
    {
     "name": "stdout",
     "output_type": "stream",
     "text": [
      "gender Distribution for male\n",
      " 0    211200\n",
      "1    105600\n",
      "Name: Gender_Male, dtype: int64\n"
     ]
    }
   ],
   "source": [
    "print(\"gender Distribution for male\\n\",dataset1[\"Gender_Male\"].value_counts())"
   ]
  },
  {
   "cell_type": "code",
   "execution_count": 68,
   "id": "1afb4ecb",
   "metadata": {},
   "outputs": [
    {
     "name": "stderr",
     "output_type": "stream",
     "text": [
      "C:\\Users\\ASUS\\anaconda3\\lib\\site-packages\\seaborn\\_decorators.py:36: FutureWarning: Pass the following variable as a keyword arg: x. From version 0.12, the only valid positional argument will be `data`, and passing other arguments without an explicit keyword will result in an error or misinterpretation.\n",
      "  warnings.warn(\n"
     ]
    },
    {
     "data": {
      "text/plain": [
       "<AxesSubplot:xlabel='Gender_Male', ylabel='count'>"
      ]
     },
     "execution_count": 68,
     "metadata": {},
     "output_type": "execute_result"
    },
    {
     "data": {
      "image/png": "[encoded data removed]",
      "text/plain": [
       "<Figure size 432x288 with 1 Axes>"
      ]
     },
     "metadata": {
      "needs_background": "light"
     },
     "output_type": "display_data"
    }
   ],
   "source": [
    "sns.countplot(dataset1[\"Gender_Male\"])"
   ]
  },
  {
   "cell_type": "code",
   "execution_count": 69,
   "id": "fecc2665",
   "metadata": {},
   "outputs": [
    {
     "name": "stdout",
     "output_type": "stream",
     "text": [
      "gender Distribution for female\n",
      " 0    211200\n",
      "1    105600\n",
      "Name: Gender_Female, dtype: int64\n"
     ]
    }
   ],
   "source": [
    "print(\"gender Distribution for female\\n\",dataset1[\"Gender_Female\"].value_counts())"
   ]
  },
  {
   "cell_type": "code",
   "execution_count": 72,
   "id": "cfc0758c",
   "metadata": {},
   "outputs": [
    {
     "name": "stderr",
     "output_type": "stream",
     "text": [
      "C:\\Users\\ASUS\\anaconda3\\lib\\site-packages\\seaborn\\_decorators.py:36: FutureWarning: Pass the following variable as a keyword arg: x. From version 0.12, the only valid positional argument will be `data`, and passing other arguments without an explicit keyword will result in an error or misinterpretation.\n",
      "  warnings.warn(\n"
     ]
    },
    {
     "data": {
      "text/plain": [
       "<AxesSubplot:xlabel='Gender_Female', ylabel='count'>"
      ]
     },
     "execution_count": 72,
     "metadata": {},
     "output_type": "execute_result"
    },
    {
     "data": {
      "image/png": "[encoded data removed]",
      "text/plain": [
       "<Figure size 432x288 with 1 Axes>"
      ]
     },
     "metadata": {
      "needs_background": "light"
     },
     "output_type": "display_data"
    }
   ],
   "source": [
    "sns.countplot(dataset1[\"Gender_Female\"])"
   ]
  },
  {
   "cell_type": "code",
   "execution_count": 73,
   "id": "da271e8d",
   "metadata": {},
   "outputs": [
    {
     "name": "stdout",
     "output_type": "stream",
     "text": [
      "gender Distribution for Transgender\n",
      " 0    211200\n",
      "1    105600\n",
      "Name: Gender_Transgender, dtype: int64\n"
     ]
    }
   ],
   "source": [
    "print(\"gender Distribution for Transgender\\n\",dataset1[\"Gender_Transgender\"].value_counts())"
   ]
  },
  {
   "cell_type": "code",
   "execution_count": 74,
   "id": "a57c12bd",
   "metadata": {},
   "outputs": [
    {
     "name": "stderr",
     "output_type": "stream",
     "text": [
      "C:\\Users\\ASUS\\anaconda3\\lib\\site-packages\\seaborn\\_decorators.py:36: FutureWarning: Pass the following variable as a keyword arg: x. From version 0.12, the only valid positional argument will be `data`, and passing other arguments without an explicit keyword will result in an error or misinterpretation.\n",
      "  warnings.warn(\n"
     ]
    },
    {
     "data": {
      "text/plain": [
       "<AxesSubplot:xlabel='Gender_Transgender', ylabel='count'>"
      ]
     },
     "execution_count": 74,
     "metadata": {},
     "output_type": "execute_result"
    },
    {
     "data": {
      "image/png": "[encoded data removed]",
      "text/plain": [
       "<Figure size 432x288 with 1 Axes>"
      ]
     },
     "metadata": {
      "needs_background": "light"
     },
     "output_type": "display_data"
    }
   ],
   "source": [
    "sns.countplot(dataset1[\"Gender_Transgender\"])"
   ]
  },
  {
   "cell_type": "markdown",
   "id": "521d5a0e",
   "metadata": {},
   "source": [
    "# For Mild Severity"
   ]
  },
  {
   "cell_type": "code",
   "execution_count": 25,
   "id": "666e7459",
   "metadata": {},
   "outputs": [
    {
     "name": "stderr",
     "output_type": "stream",
     "text": [
      "C:\\Users\\ASUS\\anaconda3\\lib\\site-packages\\seaborn\\_decorators.py:36: FutureWarning: Pass the following variable as a keyword arg: x. From version 0.12, the only valid positional argument will be `data`, and passing other arguments without an explicit keyword will result in an error or misinterpretation.\n",
      "  warnings.warn(\n"
     ]
    },
    {
     "data": {
      "text/plain": [
       "<AxesSubplot:xlabel='Severity_Mild', ylabel='count'>"
      ]
     },
     "execution_count": 25,
     "metadata": {},
     "output_type": "execute_result"
    },
    {
     "data": {
      "image/png": "[encoded data removed]",
      "text/plain": [
       "<Figure size 432x288 with 1 Axes>"
      ]
     },
     "metadata": {
      "needs_background": "light"
     },
     "output_type": "display_data"
    }
   ],
   "source": [
    "sns.countplot(dataset1.iloc[:,19])"
   ]
  },
  {
   "cell_type": "code",
   "execution_count": 20,
   "id": "82589850",
   "metadata": {},
   "outputs": [
    {
     "name": "stdout",
     "output_type": "stream",
     "text": [
      "(475200, 20)\n",
      "(475200,)\n"
     ]
    }
   ],
   "source": [
    "smote=SMOTE()\n",
    "balanced_msx,balanced_msy=smote.fit_resample(dataset1.iloc[:,[0,1,2,3,4,5,6,7,8,9,10,11,12,13,14,15,16,17,18,24]],dataset1.iloc[:,19])\n",
    "print(balanced_msx.shape)\n",
    "print(balanced_msy.shape)"
   ]
  },
  {
   "cell_type": "code",
   "execution_count": 62,
   "id": "b594773a",
   "metadata": {},
   "outputs": [
    {
     "name": "stderr",
     "output_type": "stream",
     "text": [
      "C:\\Users\\ASUS\\anaconda3\\lib\\site-packages\\seaborn\\_decorators.py:36: FutureWarning: Pass the following variable as a keyword arg: x. From version 0.12, the only valid positional argument will be `data`, and passing other arguments without an explicit keyword will result in an error or misinterpretation.\n",
      "  warnings.warn(\n"
     ]
    },
    {
     "data": {
      "text/plain": [
       "<AxesSubplot:xlabel='Severity_Mild', ylabel='count'>"
      ]
     },
     "execution_count": 62,
     "metadata": {},
     "output_type": "execute_result"
    },
    {
     "data": {
      "image/png": "[encoded data removed]",
      "text/plain": [
       "<Figure size 432x288 with 1 Axes>"
      ]
     },
     "metadata": {
      "needs_background": "light"
     },
     "output_type": "display_data"
    }
   ],
   "source": [
    "sns.countplot(balanced_msy)"
   ]
  },
  {
   "cell_type": "code",
   "execution_count": 26,
   "id": "b988547f",
   "metadata": {},
   "outputs": [
    {
     "data": {
      "text/plain": [
       "array([[ 1.48135313,  0.99964232,  0.88173235, ...,  1.41250778,\n",
       "        -0.70566761,  2.87440185],\n",
       "       [ 1.48135313,  0.99964232,  0.88173235, ...,  1.41250778,\n",
       "        -0.70566761,  2.87440185],\n",
       "       [ 1.48135313,  0.99964232,  0.88173235, ...,  1.41250778,\n",
       "        -0.70566761,  2.87440185],\n",
       "       ...,\n",
       "       [ 1.48135313,  0.99964232, -1.134131  , ...,  1.41250778,\n",
       "        -0.70566761, -0.57900673],\n",
       "       [-0.67505848,  0.99964232,  0.88173235, ..., -0.7079607 ,\n",
       "         1.41709778,  1.14769756],\n",
       "       [ 1.48135313,  0.99964232, -1.134131  , ..., -0.7079607 ,\n",
       "         1.41709778, -0.57900673]])"
      ]
     },
     "execution_count": 26,
     "metadata": {},
     "output_type": "execute_result"
    }
   ],
   "source": [
    "scaler=StandardScaler()\n",
    "scale_x=scaler.fit_transform(balanced_msx)\n",
    "scale_x"
   ]
  },
  {
   "cell_type": "code",
   "execution_count": 27,
   "id": "31bd3bcf",
   "metadata": {},
   "outputs": [
    {
     "name": "stdout",
     "output_type": "stream",
     "text": [
      "Values count in Balanced dependent dataset for mild severity 0    237600\n",
      "1    237600\n",
      "Name: Severity_Mild, dtype: int64\n"
     ]
    }
   ],
   "source": [
    "print(\"Values count in Balanced dependent dataset for mild severity\",balanced_msy.value_counts())"
   ]
  },
  {
   "cell_type": "code",
   "execution_count": 31,
   "id": "b31cae9c",
   "metadata": {},
   "outputs": [
    {
     "data": {
      "text/plain": [
       "(475200, 10)"
      ]
     },
     "execution_count": 31,
     "metadata": {},
     "output_type": "execute_result"
    }
   ],
   "source": [
    "pca=PCA(n_components=10)\n",
    "x_red=pca.fit_transform(scale_x)\n",
    "x_red.shape"
   ]
  },
  {
   "cell_type": "markdown",
   "id": "34452d49",
   "metadata": {},
   "source": [
    "## Splitting the Dataset for Training "
   ]
  },
  {
   "cell_type": "code",
   "execution_count": 32,
   "id": "a5e74ccd",
   "metadata": {},
   "outputs": [
    {
     "name": "stdout",
     "output_type": "stream",
     "text": [
      "(332640, 10)\n",
      "(332640,)\n",
      "(142560, 10)\n",
      "(142560,)\n"
     ]
    }
   ],
   "source": [
    "train_x,test_x,train_y,test_y=train_test_split(x_red,balanced_msy,test_size=0.30,random_state=123)\n",
    "print(train_x.shape)\n",
    "print(train_y.shape)\n",
    "print(test_x.shape)\n",
    "print(test_y.shape)"
   ]
  },
  {
   "cell_type": "markdown",
   "id": "0890ac9f",
   "metadata": {},
   "source": [
    "## Training Models"
   ]
  },
  {
   "cell_type": "code",
   "execution_count": 33,
   "id": "44138a12",
   "metadata": {},
   "outputs": [
    {
     "name": "stdout",
     "output_type": "stream",
     "text": [
      "The confussion metrix for Logistic Regression is:\n",
      " [[30683 40717]\n",
      " [30695 40465]]\n",
      "The accuracy of Logistic Regression is:\t\t 0.49907407407407406\n",
      "The recal score of Logistic Regression is is:\t\t 0.5686481169196178\n",
      "The precision of Logistic Regression is:\t\t 0.49844793180754354\n",
      "The f1 score of Logistic Regression is:\t\t 0.5312389229496791\n"
     ]
    }
   ],
   "source": [
    "lr=LogisticRegression()\n",
    "lr.fit(train_x,train_y)\n",
    "pred_lr=lr.predict(test_x)\n",
    "accuracy_mild_lr=metrics.accuracy_score(test_y,pred_lr)\n",
    "print(\"The confussion metrix for Logistic Regression is:\\n\",metrics.confusion_matrix(test_y,pred_lr))\n",
    "print(\"The accuracy of Logistic Regression is:\\t\\t\",accuracy_mild_lr)\n",
    "print(\"The recal score of Logistic Regression is is:\\t\\t\",metrics.recall_score(test_y,pred_lr))\n",
    "print(\"The precision of Logistic Regression is:\\t\\t\",metrics.precision_score(test_y,pred_lr))\n",
    "print(\"The f1 score of Logistic Regression is:\\t\\t\",metrics.f1_score(test_y,pred_lr))"
   ]
  },
  {
   "cell_type": "code",
   "execution_count": 34,
   "id": "8321cad7",
   "metadata": {},
   "outputs": [
    {
     "name": "stdout",
     "output_type": "stream",
     "text": [
      "The confussion metrix for Random forest is:\n",
      " [[33359 38041]\n",
      " [36597 34563]]\n",
      "The accuracy of Random Forest Classifier is:\t\t 0.4764450056116723\n",
      "The recal score of Random Forest Classifier is:\t\t 0.48570826306913994\n",
      "The precision of Random Forest Classifier is:\t\t 0.4760481516169908\n",
      "The f1 score of Random Forest Classifier is:\t\t 0.48082969310814944\n"
     ]
    }
   ],
   "source": [
    "rf=RandomForestClassifier()\n",
    "rf.fit(train_x,train_y)\n",
    "pred=rf.predict(test_x)\n",
    "accuracy_mild_rf=metrics.accuracy_score(test_y,pred)\n",
    "print(\"The confussion metrix for Random forest is:\\n\",metrics.confusion_matrix(test_y,pred))\n",
    "print(\"The accuracy of Random Forest Classifier is:\\t\\t\",accuracy_mild_rf)\n",
    "print(\"The recal score of Random Forest Classifier is:\\t\\t\",metrics.recall_score(test_y,pred))\n",
    "print(\"The precision of Random Forest Classifier is:\\t\\t\",metrics.precision_score(test_y,pred))\n",
    "print(\"The f1 score of Random Forest Classifier is:\\t\\t\",metrics.f1_score(test_y,pred))"
   ]
  },
  {
   "cell_type": "code",
   "execution_count": 35,
   "id": "2c7ecb06",
   "metadata": {},
   "outputs": [
    {
     "name": "stdout",
     "output_type": "stream",
     "text": [
      "The confussion metrix for AdaBoost is:\n",
      " [[33908 37492]\n",
      " [34301 36859]]\n",
      "The accuracy of AdaBoost Classifier is:\t\t 0.49640151515151515\n",
      "The recal score of AdaBoost Classifier is is:\t\t 0.517973580663294\n",
      "The precision of AdaBoost Classifier is:\t\t 0.4957431641807104\n",
      "The f1 score of AdaBoost Classifier is:\t\t 0.5066146202005347\n"
     ]
    }
   ],
   "source": [
    "ada=AdaBoostClassifier()\n",
    "ada.fit(train_x,train_y)\n",
    "pred_ada=ada.predict(test_x)\n",
    "accuracy_mild_ada=metrics.accuracy_score(test_y,pred_ada)\n",
    "print(\"The confussion metrix for AdaBoost is:\\n\",metrics.confusion_matrix(test_y,pred_ada))\n",
    "print(\"The accuracy of AdaBoost Classifier is:\\t\\t\",accuracy_mild_ada)\n",
    "print(\"The recal score of AdaBoost Classifier is is:\\t\\t\",metrics.recall_score(test_y,pred_ada))\n",
    "print(\"The precision of AdaBoost Classifier is:\\t\\t\",metrics.precision_score(test_y,pred_ada))\n",
    "print(\"The f1 score of AdaBoost Classifier is:\\t\\t\",metrics.f1_score(test_y,pred_ada))"
   ]
  },
  {
   "cell_type": "code",
   "execution_count": 36,
   "id": "12d7555c",
   "metadata": {},
   "outputs": [
    {
     "name": "stdout",
     "output_type": "stream",
     "text": [
      "The confussion metrix for Decision Tree is:\n",
      " [[35358 36042]\n",
      " [38523 32637]]\n",
      "The accuracy of Decision Tree Classifier is:\t\t 0.4769570707070707\n",
      "The recal score of Decision Tree Classifier is is:\t\t 0.4586424957841484\n",
      "The precision of Decision Tree Classifier is:\t\t 0.47521076311536276\n",
      "The f1 score of Decision Tree Classifier is:\t\t 0.46677965374466346\n"
     ]
    }
   ],
   "source": [
    "dsc=DecisionTreeClassifier()\n",
    "dsc.fit(train_x,train_y)\n",
    "pred_dsc=dsc.predict(test_x)\n",
    "accuracy_mild_dsc=metrics.accuracy_score(test_y,pred_dsc)\n",
    "print(\"The confussion metrix for Decision Tree is:\\n\",metrics.confusion_matrix(test_y,pred_dsc))\n",
    "print(\"The accuracy of Decision Tree Classifier is:\\t\\t\",accuracy_mild_dsc)\n",
    "print(\"The recal score of Decision Tree Classifier is is:\\t\\t\",metrics.recall_score(test_y,pred_dsc))\n",
    "print(\"The precision of Decision Tree Classifier is:\\t\\t\",metrics.precision_score(test_y,pred_dsc))\n",
    "print(\"The f1 score of Decision Tree Classifier is:\\t\\t\",metrics.f1_score(test_y,pred_dsc))"
   ]
  },
  {
   "cell_type": "code",
   "execution_count": 65,
   "id": "bdd70a92",
   "metadata": {},
   "outputs": [
    {
     "data": {
      "text/plain": [
       "Text(0.5, 1.0, 'Evaluation of models for Mild Sevirity')"
      ]
     },
     "execution_count": 65,
     "metadata": {},
     "output_type": "execute_result"
    },
    {
     "data": {
      "image/png": "[encoded data removed]",
      "text/plain": [
       "<Figure size 432x288 with 1 Axes>"
      ]
     },
     "metadata": {
      "needs_background": "light"
     },
     "output_type": "display_data"
    }
   ],
   "source": [
    "plt.bar(['AdaBoost','RF','LR','DT'],[accuracy_mild_ada,accuracy_mild_rf,accuracy_mild_lr,accuracy_mild_dsc],color=['blue','yellow','pink','grey'])\n",
    "plt.plot([accuracy_mild_ada,accuracy_mild_rf,accuracy_mild_lr,accuracy_mild_dsc],color='black')\n",
    "plt.title('Evaluation of models for Mild Sevirity')"
   ]
  },
  {
   "cell_type": "markdown",
   "id": "c2d33cc7",
   "metadata": {},
   "source": [
    "# For Moderate Severity"
   ]
  },
  {
   "cell_type": "code",
   "execution_count": 67,
   "id": "d6ab43ae",
   "metadata": {},
   "outputs": [
    {
     "name": "stderr",
     "output_type": "stream",
     "text": [
      "C:\\Users\\ASUS\\anaconda3\\lib\\site-packages\\seaborn\\_decorators.py:36: FutureWarning: Pass the following variable as a keyword arg: x. From version 0.12, the only valid positional argument will be `data`, and passing other arguments without an explicit keyword will result in an error or misinterpretation.\n",
      "  warnings.warn(\n"
     ]
    },
    {
     "data": {
      "text/plain": [
       "<AxesSubplot:xlabel='Severity_Moderate', ylabel='count'>"
      ]
     },
     "execution_count": 67,
     "metadata": {},
     "output_type": "execute_result"
    },
    {
     "data": {
      "image/png": "[encoded data removed]",
      "text/plain": [
       "<Figure size 432x288 with 1 Axes>"
      ]
     },
     "metadata": {
      "needs_background": "light"
     },
     "output_type": "display_data"
    }
   ],
   "source": [
    "sns.countplot(dataset1.iloc[:,20])"
   ]
  },
  {
   "cell_type": "code",
   "execution_count": 41,
   "id": "4f469e49",
   "metadata": {},
   "outputs": [
    {
     "name": "stdout",
     "output_type": "stream",
     "text": [
      "(475200, 20)\n",
      "(475200,)\n"
     ]
    }
   ],
   "source": [
    "balanced_mosx,balanced_mosy=smote.fit_resample(dataset1.iloc[:,[0,1,2,3,4,5,6,7,8,9,10,11,12,13,14,15,16,17,18,24]],dataset1.iloc[:,20])\n",
    "print(balanced_msx.shape)\n",
    "print(balanced_msy.shape)"
   ]
  },
  {
   "cell_type": "code",
   "execution_count": 61,
   "id": "7a64f8f0",
   "metadata": {},
   "outputs": [
    {
     "name": "stderr",
     "output_type": "stream",
     "text": [
      "C:\\Users\\ASUS\\anaconda3\\lib\\site-packages\\seaborn\\_decorators.py:36: FutureWarning: Pass the following variable as a keyword arg: x. From version 0.12, the only valid positional argument will be `data`, and passing other arguments without an explicit keyword will result in an error or misinterpretation.\n",
      "  warnings.warn(\n"
     ]
    },
    {
     "data": {
      "text/plain": [
       "<AxesSubplot:xlabel='Severity_Moderate', ylabel='count'>"
      ]
     },
     "execution_count": 61,
     "metadata": {},
     "output_type": "execute_result"
    },
    {
     "data": {
      "image/png": "[encoded data removed]",
      "text/plain": [
       "<Figure size 432x288 with 1 Axes>"
      ]
     },
     "metadata": {
      "needs_background": "light"
     },
     "output_type": "display_data"
    }
   ],
   "source": [
    "sns.countplot(balanced_mosy)"
   ]
  },
  {
   "cell_type": "code",
   "execution_count": 42,
   "id": "90ae5dfa",
   "metadata": {},
   "outputs": [
    {
     "data": {
      "text/plain": [
       "array([[ 1.48489753e+00,  1.00277321e+00,  8.82841286e-01, ...,\n",
       "         1.41405287e+00, -7.07113477e-01,  2.87963611e+00],\n",
       "       [ 1.48489753e+00,  1.00277321e+00,  8.82841286e-01, ...,\n",
       "         1.41405287e+00, -7.07113477e-01,  2.87963611e+00],\n",
       "       [ 1.48489753e+00,  1.00277321e+00,  8.82841286e-01, ...,\n",
       "         1.41405287e+00, -7.07113477e-01,  2.87963611e+00],\n",
       "       ...,\n",
       "       [ 1.48489753e+00,  1.00277321e+00, -1.13270643e+00, ...,\n",
       "        -7.07187136e-01, -7.07113477e-01,  1.15082123e+00],\n",
       "       [-6.73447142e-01, -9.97234464e-01,  8.82841286e-01, ...,\n",
       "        -7.07187136e-01,  1.41420017e+00, -1.73053690e+00],\n",
       "       [-6.73447142e-01,  1.00277321e+00,  8.82841286e-01, ...,\n",
       "         1.41405287e+00, -7.07113477e-01, -1.72202380e-03]])"
      ]
     },
     "execution_count": 42,
     "metadata": {},
     "output_type": "execute_result"
    }
   ],
   "source": [
    "scaler=StandardScaler()\n",
    "balanced_mosx=scaler.fit_transform(balanced_mosx)\n",
    "balanced_mosx"
   ]
  },
  {
   "cell_type": "code",
   "execution_count": 43,
   "id": "9a22889c",
   "metadata": {},
   "outputs": [
    {
     "data": {
      "text/plain": [
       "(475200, 13)"
      ]
     },
     "execution_count": 43,
     "metadata": {},
     "output_type": "execute_result"
    }
   ],
   "source": [
    "pca=PCA(0.95)\n",
    "balanced_mosx=pca.fit_transform(balanced_msx)\n",
    "balanced_mosx.shape"
   ]
  },
  {
   "cell_type": "markdown",
   "id": "bf47053a",
   "metadata": {},
   "source": [
    "## Training Models"
   ]
  },
  {
   "cell_type": "code",
   "execution_count": 44,
   "id": "b01eb891",
   "metadata": {},
   "outputs": [
    {
     "name": "stdout",
     "output_type": "stream",
     "text": [
      "(332640, 13)\n",
      "(332640,)\n",
      "(142560, 13)\n",
      "(142560,)\n"
     ]
    }
   ],
   "source": [
    "train_mox,test_mox,train_moy,test_moy=train_test_split(balanced_mosx,balanced_mosy,test_size=0.30,random_state=42)\n",
    "print(train_mox.shape)\n",
    "print(train_moy.shape)\n",
    "print(test_mox.shape)\n",
    "print(test_moy.shape)"
   ]
  },
  {
   "cell_type": "markdown",
   "id": "28feb139",
   "metadata": {},
   "source": [
    "### Using AdaBoost Classifier "
   ]
  },
  {
   "cell_type": "code",
   "execution_count": 45,
   "id": "e1c74129",
   "metadata": {},
   "outputs": [
    {
     "name": "stdout",
     "output_type": "stream",
     "text": [
      "The confussion metrix for AdaBoost is:\n",
      " [[35080 36019]\n",
      " [36339 35122]]\n",
      "The accuracy of AdaBoost Classifier is:\t\t 0.49243827160493825\n",
      "The recal score of AdaBoost Classifier is is:\t\t 0.4914848658708946\n",
      "The precision of AdaBoost Classifier is:\t\t 0.49369561856032385\n",
      "The f1 score of AdaBoost Classifier is:\t\t 0.49258776174247204\n"
     ]
    }
   ],
   "source": [
    "ada_mo=AdaBoostClassifier()\n",
    "ada_mo.fit(train_mox,train_moy)\n",
    "pred_ada_mo=ada_mo.predict(test_mox)\n",
    "accuracy_moderate_ada=metrics.accuracy_score(test_moy,pred_ada_mo)\n",
    "print(\"The confussion metrix for AdaBoost is:\\n\",metrics.confusion_matrix(test_moy,pred_ada_mo))\n",
    "print(\"The accuracy of AdaBoost Classifier is:\\t\\t\",accuracy_moderate_ada)\n",
    "print(\"The recal score of AdaBoost Classifier is is:\\t\\t\",metrics.recall_score(test_moy,pred_ada_mo))\n",
    "print(\"The precision of AdaBoost Classifier is:\\t\\t\",metrics.precision_score(test_moy,pred_ada_mo))\n",
    "print(\"The f1 score of AdaBoost Classifier is:\\t\\t\",metrics.f1_score(test_moy,pred_ada_mo))"
   ]
  },
  {
   "cell_type": "markdown",
   "id": "0fdde250",
   "metadata": {},
   "source": [
    "### Using Random Forest Classifier"
   ]
  },
  {
   "cell_type": "code",
   "execution_count": 46,
   "id": "6200bcc8",
   "metadata": {},
   "outputs": [
    {
     "name": "stdout",
     "output_type": "stream",
     "text": [
      "The confussion metrix for Decision Tree Classifier is:\n",
      " [[34003 37096]\n",
      " [37401 34060]]\n",
      "The accuracy of Decision Tree Classifier is:\t\t 0.47743406285072953\n",
      "The recal score of Decision Tree Classifier is is:\t\t 0.4766236128797526\n",
      "The precision of Decision Tree Classifier is:\t\t 0.47866659171398057\n",
      "The f1 score of Decision Tree Classifier is:\t\t 0.4776429177447289\n"
     ]
    }
   ],
   "source": [
    "rf_mo=RandomForestClassifier()\n",
    "rf_mo.fit(train_mox,train_moy)\n",
    "pred_rf_mo=rf_mo.predict(test_mox)\n",
    "accuracy_moderate_rf=metrics.accuracy_score(test_moy,pred_rf_mo)\n",
    "print(\"The confussion metrix for Decision Tree Classifier is:\\n\",metrics.confusion_matrix(test_moy,pred_rf_mo))\n",
    "print(\"The accuracy of Decision Tree Classifier is:\\t\\t\",accuracy_moderate_rf)\n",
    "print(\"The recal score of Decision Tree Classifier is is:\\t\\t\",metrics.recall_score(test_moy,pred_rf_mo))\n",
    "print(\"The precision of Decision Tree Classifier is:\\t\\t\",metrics.precision_score(test_moy,pred_rf_mo))\n",
    "print(\"The f1 score of Decision Tree Classifier is:\\t\\t\",metrics.f1_score(test_moy,pred_rf_mo))"
   ]
  },
  {
   "cell_type": "markdown",
   "id": "f9972a99",
   "metadata": {},
   "source": [
    "### Using Decision Tree Classifier"
   ]
  },
  {
   "cell_type": "code",
   "execution_count": 47,
   "id": "6795d76c",
   "metadata": {},
   "outputs": [
    {
     "name": "stdout",
     "output_type": "stream",
     "text": [
      "The confussion metrix for Decision Tree is:\n",
      " [[35366 35733]\n",
      " [38788 32673]]\n",
      "The accuracy of Decision Tree Classifier is:\t\t 0.47726571268237933\n",
      "The recal score of Decision Tree Classifier is is:\t\t 0.4572144246512084\n",
      "The precision of Decision Tree Classifier is:\t\t 0.4776335409174634\n",
      "The f1 score of Decision Tree Classifier is:\t\t 0.467200983791745\n"
     ]
    }
   ],
   "source": [
    "dsc_mo=DecisionTreeClassifier()\n",
    "dsc_mo.fit(train_mox,train_moy)\n",
    "pred_dsc_mo=dsc_mo.predict(test_mox)\n",
    "accuracy_moderate_dsc=metrics.accuracy_score(test_moy,pred_dsc_mo)\n",
    "print(\"The confussion metrix for Decision Tree is:\\n\",metrics.confusion_matrix(test_moy,pred_dsc_mo))\n",
    "print(\"The accuracy of Decision Tree Classifier is:\\t\\t\",accuracy_moderate_dsc)\n",
    "print(\"The recal score of Decision Tree Classifier is is:\\t\\t\",metrics.recall_score(test_moy,pred_dsc_mo))\n",
    "print(\"The precision of Decision Tree Classifier is:\\t\\t\",metrics.precision_score(test_moy,pred_dsc_mo))\n",
    "print(\"The f1 score of Decision Tree Classifier is:\\t\\t\",metrics.f1_score(test_moy,pred_dsc_mo))"
   ]
  },
  {
   "cell_type": "markdown",
   "id": "eb5d9ec8",
   "metadata": {},
   "source": [
    "### Using Logistic Regression "
   ]
  },
  {
   "cell_type": "code",
   "execution_count": 48,
   "id": "99c0b660",
   "metadata": {},
   "outputs": [
    {
     "name": "stdout",
     "output_type": "stream",
     "text": [
      "The confussion metrix for Logistic Regression is:\n",
      " [[41771 29328]\n",
      " [42213 29248]]\n",
      "The accuracy of Logistic Regression is:\t\t 0.4981691919191919\n",
      "The recal score of Logistic Regression is is:\t\t 0.4092861840724311\n",
      "The precision of Logistic Regression is:\t\t 0.4993171264681781\n",
      "The f1 score of Logistic Regression is:\t\t 0.4498411990433492\n"
     ]
    }
   ],
   "source": [
    "lr_mo=LogisticRegression()\n",
    "lr_mo.fit(train_mox,train_moy)\n",
    "pred_lr_mo=lr_mo.predict(test_mox)\n",
    "accuracy_moderate_lr=metrics.accuracy_score(test_moy,pred_lr_mo)\n",
    "print(\"The confussion metrix for Logistic Regression is:\\n\",metrics.confusion_matrix(test_moy,pred_lr_mo))\n",
    "print(\"The accuracy of Logistic Regression is:\\t\\t\",accuracy_moderate_lr)\n",
    "print(\"The recal score of Logistic Regression is is:\\t\\t\",metrics.recall_score(test_moy,pred_lr_mo))\n",
    "print(\"The precision of Logistic Regression is:\\t\\t\",metrics.precision_score(test_moy,pred_lr_mo))\n",
    "print(\"The f1 score of Logistic Regression is:\\t\\t\",metrics.f1_score(test_moy,pred_lr_mo))"
   ]
  },
  {
   "cell_type": "code",
   "execution_count": 63,
   "id": "6069801d",
   "metadata": {},
   "outputs": [
    {
     "data": {
      "text/plain": [
       "Text(0.5, 1.0, 'Evaluation of models for Moderate Sevirity')"
      ]
     },
     "execution_count": 63,
     "metadata": {},
     "output_type": "execute_result"
    },
    {
     "data": {
      "image/png": "[encoded data removed]",
      "text/plain": [
       "<Figure size 432x288 with 1 Axes>"
      ]
     },
     "metadata": {
      "needs_background": "light"
     },
     "output_type": "display_data"
    }
   ],
   "source": [
    "plt.bar(['AdaBoost','RF','LR','DT'],[accuracy_moderate_ada,accuracy_moderate_rf,accuracy_moderate_lr,accuracy_moderate_dsc],color=['blue','yellow','pink','grey'])\n",
    "plt.plot([accuracy_moderate_ada,accuracy_moderate_rf,accuracy_moderate_lr,accuracy_moderate_dsc],color='black')\n",
    "plt.title('Evaluation of models for Moderate Sevirity')"
   ]
  },
  {
   "cell_type": "markdown",
   "id": "b9d83550",
   "metadata": {},
   "source": [
    "# For Severe Severity"
   ]
  },
  {
   "cell_type": "code",
   "execution_count": 50,
   "id": "3d0507d2",
   "metadata": {},
   "outputs": [
    {
     "name": "stderr",
     "output_type": "stream",
     "text": [
      "C:\\Users\\ASUS\\anaconda3\\lib\\site-packages\\seaborn\\_decorators.py:36: FutureWarning: Pass the following variable as a keyword arg: x. From version 0.12, the only valid positional argument will be `data`, and passing other arguments without an explicit keyword will result in an error or misinterpretation.\n",
      "  warnings.warn(\n"
     ]
    },
    {
     "data": {
      "text/plain": [
       "<AxesSubplot:xlabel='Severity_Severe', ylabel='count'>"
      ]
     },
     "execution_count": 50,
     "metadata": {},
     "output_type": "execute_result"
    },
    {
     "data": {
      "image/png": "[encoded data removed]",
      "text/plain": [
       "<Figure size 432x288 with 1 Axes>"
      ]
     },
     "metadata": {
      "needs_background": "light"
     },
     "output_type": "display_data"
    }
   ],
   "source": [
    "sns.countplot(dataset1.iloc[:,22])"
   ]
  },
  {
   "cell_type": "code",
   "execution_count": 51,
   "id": "c0cdf0c5",
   "metadata": {},
   "outputs": [
    {
     "name": "stdout",
     "output_type": "stream",
     "text": [
      "(475200, 20)\n",
      "(475200,)\n"
     ]
    }
   ],
   "source": [
    "balanced_sesx,balanced_sesy=smote.fit_resample(dataset1.iloc[:,[0,1,2,3,4,5,6,7,8,9,10,11,12,13,14,15,16,17,18,24]],dataset1.iloc[:,22])\n",
    "print(balanced_sesx.shape)\n",
    "print(balanced_sesy.shape)"
   ]
  },
  {
   "cell_type": "code",
   "execution_count": 60,
   "id": "c0a605cb",
   "metadata": {},
   "outputs": [
    {
     "name": "stderr",
     "output_type": "stream",
     "text": [
      "C:\\Users\\ASUS\\anaconda3\\lib\\site-packages\\seaborn\\_decorators.py:36: FutureWarning: Pass the following variable as a keyword arg: x. From version 0.12, the only valid positional argument will be `data`, and passing other arguments without an explicit keyword will result in an error or misinterpretation.\n",
      "  warnings.warn(\n"
     ]
    },
    {
     "data": {
      "text/plain": [
       "<AxesSubplot:xlabel='Severity_Severe', ylabel='count'>"
      ]
     },
     "execution_count": 60,
     "metadata": {},
     "output_type": "execute_result"
    },
    {
     "data": {
      "image/png": "[encoded data removed]",
      "text/plain": [
       "<Figure size 432x288 with 1 Axes>"
      ]
     },
     "metadata": {
      "needs_background": "light"
     },
     "output_type": "display_data"
    }
   ],
   "source": [
    "sns.countplot(balanced_sesy)"
   ]
  },
  {
   "cell_type": "code",
   "execution_count": 52,
   "id": "0a97098e",
   "metadata": {},
   "outputs": [
    {
     "data": {
      "text/plain": [
       "array([[ 1.48252086,  0.99883906,  0.88132902, ...,  1.41560079,\n",
       "        -0.70708335,  2.87176678],\n",
       "       [ 1.48252086,  0.99883906,  0.88132902, ...,  1.41560079,\n",
       "        -0.70708335,  2.87176678],\n",
       "       [ 1.48252086,  0.99883906,  0.88132902, ...,  1.41560079,\n",
       "        -0.70708335,  2.87176678],\n",
       "       ...,\n",
       "       [ 1.48252086,  0.99883906,  0.88132902, ..., -0.70641385,\n",
       "         1.41426044,  1.14616843],\n",
       "       [-0.67452677,  0.99883906, -1.13465003, ..., -0.70641385,\n",
       "        -0.70708335, -0.57942993],\n",
       "       [ 1.48252086,  0.99883906,  0.88132902, ...,  1.41560079,\n",
       "        -0.70708335,  1.14616843]])"
      ]
     },
     "execution_count": 52,
     "metadata": {},
     "output_type": "execute_result"
    }
   ],
   "source": [
    "scaler=StandardScaler()\n",
    "balanced_sesx=scaler.fit_transform(balanced_sesx)\n",
    "balanced_sesx"
   ]
  },
  {
   "cell_type": "code",
   "execution_count": 53,
   "id": "529505cc",
   "metadata": {},
   "outputs": [
    {
     "data": {
      "text/plain": [
       "(475200, 15)"
      ]
     },
     "execution_count": 53,
     "metadata": {},
     "output_type": "execute_result"
    }
   ],
   "source": [
    "pca=PCA(0.95)\n",
    "balanced_sesx=pca.fit_transform(balanced_sesx)\n",
    "balanced_sesx.shape"
   ]
  },
  {
   "cell_type": "markdown",
   "id": "755b497b",
   "metadata": {},
   "source": [
    "## Splitting the Dateset for Training "
   ]
  },
  {
   "cell_type": "code",
   "execution_count": 54,
   "id": "f3ae8a48",
   "metadata": {},
   "outputs": [
    {
     "name": "stdout",
     "output_type": "stream",
     "text": [
      "(332640, 15)\n",
      "(332640,)\n",
      "(142560, 15)\n",
      "(142560,)\n"
     ]
    }
   ],
   "source": [
    "train_sx,test_sx,train_sy,test_sy=train_test_split(balanced_sesx,balanced_sesy,test_size=0.30,random_state=123)\n",
    "print(train_sx.shape)\n",
    "print(train_sy.shape)\n",
    "print(test_sx.shape)\n",
    "print(test_sy.shape)"
   ]
  },
  {
   "cell_type": "markdown",
   "id": "73a869e6",
   "metadata": {},
   "source": [
    "# Training Models"
   ]
  },
  {
   "cell_type": "markdown",
   "id": "21e8f454",
   "metadata": {},
   "source": [
    "### Using AdaBoost Classifier"
   ]
  },
  {
   "cell_type": "code",
   "execution_count": 55,
   "id": "def3a7ac",
   "metadata": {},
   "outputs": [
    {
     "name": "stdout",
     "output_type": "stream",
     "text": [
      "The confussion metrix for AdaBoost is:\n",
      " [[34352 36966]\n",
      " [35033 36209]]\n",
      "The accuracy of AdaBoost Classifier is:\t\t 0.4949565095398429\n",
      "The recal score of AdaBoost Classifier is is:\t\t 0.5082535582942647\n",
      "The precision of AdaBoost Classifier is:\t\t 0.49482746839767683\n",
      "The f1 score of AdaBoost Classifier is:\t\t 0.5014506602408304\n"
     ]
    }
   ],
   "source": [
    "ada_se=AdaBoostClassifier()\n",
    "ada_se.fit(train_sx,train_sy)\n",
    "pred_ada_se=ada_se.predict(test_sx)\n",
    "accuracy_severe_ada=metrics.accuracy_score(test_sy,pred_ada_se)\n",
    "print(\"The confussion metrix for AdaBoost is:\\n\",metrics.confusion_matrix(test_sy,pred_ada_se))\n",
    "print(\"The accuracy of AdaBoost Classifier is:\\t\\t\",accuracy_severe_ada)\n",
    "print(\"The recal score of AdaBoost Classifier is is:\\t\\t\",metrics.recall_score(test_sy,pred_ada_se))\n",
    "print(\"The precision of AdaBoost Classifier is:\\t\\t\",metrics.precision_score(test_sy,pred_ada_se))\n",
    "print(\"The f1 score of AdaBoost Classifier is:\\t\\t\",metrics.f1_score(test_sy,pred_ada_se))"
   ]
  },
  {
   "cell_type": "markdown",
   "id": "5ed713e1",
   "metadata": {},
   "source": [
    "### Using Random Forest Classifier\n"
   ]
  },
  {
   "cell_type": "code",
   "execution_count": 56,
   "id": "cd18cdfe",
   "metadata": {},
   "outputs": [
    {
     "name": "stdout",
     "output_type": "stream",
     "text": [
      "The confussion metrix for Random Forest Classifier is:\n",
      " [[32874 38444]\n",
      " [36084 35158]]\n",
      "The accuracy of Random Forest Classifier is:\t\t 0.4772166105499439\n",
      "The recal score of Random Forest Classifier is is:\t\t 0.4935010246764549\n",
      "The precision of Random Forest Classifier is:\t\t 0.4776772370316024\n",
      "The f1 score of Random Forest Classifier is:\t\t 0.48546021927038746\n"
     ]
    }
   ],
   "source": [
    "rf_se=RandomForestClassifier()\n",
    "rf_se.fit(train_sx,train_sy)\n",
    "pred_rf_se=rf_se.predict(test_sx)\n",
    "accuracy_severe_rf=metrics.accuracy_score(test_sy,pred_rf_se)\n",
    "print(\"The confussion metrix for Random Forest Classifier is:\\n\",metrics.confusion_matrix(test_sy,pred_rf_se))\n",
    "print(\"The accuracy of Random Forest Classifier is:\\t\\t\",accuracy_severe_rf)\n",
    "print(\"The recal score of Random Forest Classifier is is:\\t\\t\",metrics.recall_score(test_sy,pred_rf_se))\n",
    "print(\"The precision of Random Forest Classifier is:\\t\\t\",metrics.precision_score(test_sy,pred_rf_se))\n",
    "print(\"The f1 score of Random Forest Classifier is:\\t\\t\",metrics.f1_score(test_sy,pred_rf_se))"
   ]
  },
  {
   "cell_type": "markdown",
   "id": "5057c6d7",
   "metadata": {},
   "source": [
    "### Using Logistic Regression "
   ]
  },
  {
   "cell_type": "code",
   "execution_count": 57,
   "id": "4f258ee3",
   "metadata": {},
   "outputs": [
    {
     "name": "stdout",
     "output_type": "stream",
     "text": [
      "The confussion metrix for Logistic Regression is:\n",
      " [[34284 37034]\n",
      " [34411 36831]]\n",
      "The accuracy of Logistic Regression is:\t\t 0.4988425925925926\n",
      "The recal score of Logistic Regression is is:\t\t 0.5169843631565649\n",
      "The precision of Logistic Regression is:\t\t 0.4986258715223719\n",
      "The f1 score of Logistic Regression is:\t\t 0.5076391903905394\n"
     ]
    }
   ],
   "source": [
    "lr_se=LogisticRegression()\n",
    "lr_se.fit(train_sx,train_sy)\n",
    "pred_lr_se=lr_se.predict(test_sx)\n",
    "accuracy_severe_lr=metrics.accuracy_score(test_sy,pred_lr_se)\n",
    "print(\"The confussion metrix for Logistic Regression is:\\n\",metrics.confusion_matrix(test_sy,pred_lr_se))\n",
    "print(\"The accuracy of Logistic Regression is:\\t\\t\",accuracy_severe_lr)\n",
    "print(\"The recal score of Logistic Regression is is:\\t\\t\",metrics.recall_score(test_sy,pred_lr_se))\n",
    "print(\"The precision of Logistic Regression is:\\t\\t\",metrics.precision_score(test_sy,pred_lr_se))\n",
    "print(\"The f1 score of Logistic Regression is:\\t\\t\",metrics.f1_score(test_sy,pred_lr_se))"
   ]
  },
  {
   "cell_type": "markdown",
   "id": "e13ab33f",
   "metadata": {},
   "source": [
    "### Using Decision Tree Classifier"
   ]
  },
  {
   "cell_type": "code",
   "execution_count": 58,
   "id": "e72fd3ae",
   "metadata": {},
   "outputs": [
    {
     "name": "stdout",
     "output_type": "stream",
     "text": [
      "The confussion metrix for Decision Tree is:\n",
      " [[34446 36872]\n",
      " [37729 33513]]\n",
      "The accuracy of Decision Tree Classifier is:\t\t 0.47670454545454544\n",
      "The recal score of Decision Tree Classifier is is:\t\t 0.47041071278178603\n",
      "The precision of Decision Tree Classifier is:\t\t 0.47613838175747675\n",
      "The f1 score of Decision Tree Classifier is:\t\t 0.4732572179033659\n"
     ]
    }
   ],
   "source": [
    "dsc_se=DecisionTreeClassifier()\n",
    "dsc_se.fit(train_sx,train_sy)\n",
    "pred_dsc_se=dsc_se.predict(test_sx)\n",
    "accuracy_severe_dsc=metrics.accuracy_score(test_sy,pred_dsc_se)\n",
    "print(\"The confussion metrix for Decision Tree is:\\n\",metrics.confusion_matrix(test_sy,pred_dsc_se))\n",
    "print(\"The accuracy of Decision Tree Classifier is:\\t\\t\",accuracy_severe_dsc)\n",
    "print(\"The recal score of Decision Tree Classifier is is:\\t\\t\",metrics.recall_score(test_sy,pred_dsc_se))\n",
    "print(\"The precision of Decision Tree Classifier is:\\t\\t\",metrics.precision_score(test_sy,pred_dsc_se))\n",
    "print(\"The f1 score of Decision Tree Classifier is:\\t\\t\",metrics.f1_score(test_sy,pred_dsc_se))"
   ]
  },
  {
   "cell_type": "code",
   "execution_count": 64,
   "id": "49f6a8df",
   "metadata": {},
   "outputs": [
    {
     "data": {
      "text/plain": [
       "Text(0.5, 1.0, 'Evaluation of models for Severe Sevirity')"
      ]
     },
     "execution_count": 64,
     "metadata": {},
     "output_type": "execute_result"
    },
    {
     "data": {
      "image/png": "[encoded data removed]",
      "text/plain": [
       "<Figure size 432x288 with 1 Axes>"
      ]
     },
     "metadata": {
      "needs_background": "light"
     },
     "output_type": "display_data"
    }
   ],
   "source": [
    "plt.bar(['AdaBoost','RF','LR','DT'],[accuracy_severe_ada,accuracy_severe_rf,accuracy_severe_lr,accuracy_severe_dsc],color=['blue','yellow','pink','grey'])\n",
    "plt.plot([accuracy_severe_ada,accuracy_severe_rf,accuracy_severe_lr,accuracy_severe_dsc],color='black')\n",
    "plt.title('Evaluation of models for Severe Sevirity')"
   ]
  }
 ],
 "metadata": {
  "kernelspec": {
   "display_name": "Python 3",
   "language": "python",
   "name": "python3"
  },
  "language_info": {
   "codemirror_mode": {
    "name": "ipython",
    "version": 3
   },
   "file_extension": ".py",
   "mimetype": "text/x-python",
   "name": "python",
   "nbconvert_exporter": "python",
   "pygments_lexer": "ipython3",
   "version": "3.8.8"
  }
 },
 "nbformat": 4,
 "nbformat_minor": 5
}
