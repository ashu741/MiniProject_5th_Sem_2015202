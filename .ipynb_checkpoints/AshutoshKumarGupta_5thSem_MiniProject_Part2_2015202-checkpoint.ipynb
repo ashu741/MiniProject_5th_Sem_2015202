{
 "cells": [
  {
   "cell_type": "markdown",
   "id": "3f9c884d",
   "metadata": {},
   "source": [
    "# Importing Libraries"
   ]
  },
  {
   "cell_type": "code",
   "execution_count": 1,
   "id": "912ed154",
   "metadata": {},
   "outputs": [],
   "source": [
    "import pandas as pd\n",
    "import matplotlib.pyplot as plt\n",
    "import numpy as np\n",
    "import seaborn as sns\n",
    "from sklearn.model_selection import train_test_split\n",
    "from sklearn import metrics\n",
    "from sklearn.ensemble import RandomForestClassifier\n",
    "from imblearn.over_sampling import SMOTE\n",
    "from sklearn.linear_model import LogisticRegression\n",
    "from sklearn.tree import DecisionTreeClassifier\n",
    "from sklearn.ensemble import AdaBoostClassifier\n",
    "from sklearn.preprocessing import StandardScaler\n",
    "from sklearn.neighbors import KNeighborsClassifier\n",
    "from sklearn.decomposition import PCA"
   ]
  },
  {
   "cell_type": "code",
   "execution_count": 2,
   "id": "f8a7b906",
   "metadata": {},
   "outputs": [
    {
     "data": {
      "text/html": [
       "<div>\n",
       "<style scoped>\n",
       "    .dataframe tbody tr th:only-of-type {\n",
       "        vertical-align: middle;\n",
       "    }\n",
       "\n",
       "    .dataframe tbody tr th {\n",
       "        vertical-align: top;\n",
       "    }\n",
       "\n",
       "    .dataframe thead th {\n",
       "        text-align: right;\n",
       "    }\n",
       "</style>\n",
       "<table border=\"1\" class=\"dataframe\">\n",
       "  <thead>\n",
       "    <tr style=\"text-align: right;\">\n",
       "      <th></th>\n",
       "      <th>Fever</th>\n",
       "      <th>Tiredness</th>\n",
       "      <th>Dry-Cough</th>\n",
       "      <th>Difficulty-in-Breathing</th>\n",
       "      <th>Sore-Throat</th>\n",
       "      <th>None_Sympton</th>\n",
       "      <th>Pains</th>\n",
       "      <th>Nasal-Congestion</th>\n",
       "      <th>Runny-Nose</th>\n",
       "      <th>Diarrhea</th>\n",
       "      <th>...</th>\n",
       "      <th>Gender_Female</th>\n",
       "      <th>Gender_Male</th>\n",
       "      <th>Gender_Transgender</th>\n",
       "      <th>Severity_Mild</th>\n",
       "      <th>Severity_Moderate</th>\n",
       "      <th>Severity_None</th>\n",
       "      <th>Severity_Severe</th>\n",
       "      <th>Contact_Dont-Know</th>\n",
       "      <th>Contact_No</th>\n",
       "      <th>Contact_Yes</th>\n",
       "    </tr>\n",
       "  </thead>\n",
       "  <tbody>\n",
       "    <tr>\n",
       "      <th>0</th>\n",
       "      <td>1</td>\n",
       "      <td>1</td>\n",
       "      <td>1</td>\n",
       "      <td>1</td>\n",
       "      <td>1</td>\n",
       "      <td>0</td>\n",
       "      <td>1</td>\n",
       "      <td>1</td>\n",
       "      <td>1</td>\n",
       "      <td>1</td>\n",
       "      <td>...</td>\n",
       "      <td>0</td>\n",
       "      <td>1</td>\n",
       "      <td>0</td>\n",
       "      <td>1</td>\n",
       "      <td>0</td>\n",
       "      <td>0</td>\n",
       "      <td>0</td>\n",
       "      <td>0</td>\n",
       "      <td>0</td>\n",
       "      <td>1</td>\n",
       "    </tr>\n",
       "    <tr>\n",
       "      <th>1</th>\n",
       "      <td>1</td>\n",
       "      <td>1</td>\n",
       "      <td>1</td>\n",
       "      <td>1</td>\n",
       "      <td>1</td>\n",
       "      <td>0</td>\n",
       "      <td>1</td>\n",
       "      <td>1</td>\n",
       "      <td>1</td>\n",
       "      <td>1</td>\n",
       "      <td>...</td>\n",
       "      <td>0</td>\n",
       "      <td>1</td>\n",
       "      <td>0</td>\n",
       "      <td>1</td>\n",
       "      <td>0</td>\n",
       "      <td>0</td>\n",
       "      <td>0</td>\n",
       "      <td>0</td>\n",
       "      <td>1</td>\n",
       "      <td>0</td>\n",
       "    </tr>\n",
       "    <tr>\n",
       "      <th>2</th>\n",
       "      <td>1</td>\n",
       "      <td>1</td>\n",
       "      <td>1</td>\n",
       "      <td>1</td>\n",
       "      <td>1</td>\n",
       "      <td>0</td>\n",
       "      <td>1</td>\n",
       "      <td>1</td>\n",
       "      <td>1</td>\n",
       "      <td>1</td>\n",
       "      <td>...</td>\n",
       "      <td>0</td>\n",
       "      <td>1</td>\n",
       "      <td>0</td>\n",
       "      <td>1</td>\n",
       "      <td>0</td>\n",
       "      <td>0</td>\n",
       "      <td>0</td>\n",
       "      <td>1</td>\n",
       "      <td>0</td>\n",
       "      <td>0</td>\n",
       "    </tr>\n",
       "    <tr>\n",
       "      <th>3</th>\n",
       "      <td>1</td>\n",
       "      <td>1</td>\n",
       "      <td>1</td>\n",
       "      <td>1</td>\n",
       "      <td>1</td>\n",
       "      <td>0</td>\n",
       "      <td>1</td>\n",
       "      <td>1</td>\n",
       "      <td>1</td>\n",
       "      <td>1</td>\n",
       "      <td>...</td>\n",
       "      <td>0</td>\n",
       "      <td>1</td>\n",
       "      <td>0</td>\n",
       "      <td>0</td>\n",
       "      <td>1</td>\n",
       "      <td>0</td>\n",
       "      <td>0</td>\n",
       "      <td>0</td>\n",
       "      <td>0</td>\n",
       "      <td>1</td>\n",
       "    </tr>\n",
       "    <tr>\n",
       "      <th>4</th>\n",
       "      <td>1</td>\n",
       "      <td>1</td>\n",
       "      <td>1</td>\n",
       "      <td>1</td>\n",
       "      <td>1</td>\n",
       "      <td>0</td>\n",
       "      <td>1</td>\n",
       "      <td>1</td>\n",
       "      <td>1</td>\n",
       "      <td>1</td>\n",
       "      <td>...</td>\n",
       "      <td>0</td>\n",
       "      <td>1</td>\n",
       "      <td>0</td>\n",
       "      <td>0</td>\n",
       "      <td>1</td>\n",
       "      <td>0</td>\n",
       "      <td>0</td>\n",
       "      <td>0</td>\n",
       "      <td>1</td>\n",
       "      <td>0</td>\n",
       "    </tr>\n",
       "  </tbody>\n",
       "</table>\n",
       "<p>5 rows × 26 columns</p>\n",
       "</div>"
      ],
      "text/plain": [
       "   Fever  Tiredness  Dry-Cough  Difficulty-in-Breathing  Sore-Throat  \\\n",
       "0      1          1          1                        1            1   \n",
       "1      1          1          1                        1            1   \n",
       "2      1          1          1                        1            1   \n",
       "3      1          1          1                        1            1   \n",
       "4      1          1          1                        1            1   \n",
       "\n",
       "   None_Sympton  Pains  Nasal-Congestion  Runny-Nose  Diarrhea  ...  \\\n",
       "0             0      1                 1           1         1  ...   \n",
       "1             0      1                 1           1         1  ...   \n",
       "2             0      1                 1           1         1  ...   \n",
       "3             0      1                 1           1         1  ...   \n",
       "4             0      1                 1           1         1  ...   \n",
       "\n",
       "   Gender_Female  Gender_Male  Gender_Transgender  Severity_Mild  \\\n",
       "0              0            1                   0              1   \n",
       "1              0            1                   0              1   \n",
       "2              0            1                   0              1   \n",
       "3              0            1                   0              0   \n",
       "4              0            1                   0              0   \n",
       "\n",
       "   Severity_Moderate  Severity_None  Severity_Severe  Contact_Dont-Know  \\\n",
       "0                  0              0                0                  0   \n",
       "1                  0              0                0                  0   \n",
       "2                  0              0                0                  1   \n",
       "3                  1              0                0                  0   \n",
       "4                  1              0                0                  0   \n",
       "\n",
       "   Contact_No  Contact_Yes  \n",
       "0           0            1  \n",
       "1           1            0  \n",
       "2           0            0  \n",
       "3           0            1  \n",
       "4           1            0  \n",
       "\n",
       "[5 rows x 26 columns]"
      ]
     },
     "execution_count": 2,
     "metadata": {},
     "output_type": "execute_result"
    }
   ],
   "source": [
    "dataset1=pd.read_csv(\"Cleaned_Data.csv\")\n",
    "dataset1.head()"
   ]
  },
  {
   "cell_type": "code",
   "execution_count": 3,
   "id": "b3e3693c",
   "metadata": {},
   "outputs": [
    {
     "data": {
      "text/plain": [
       "<bound method NDFrame.describe of         Fever  Tiredness  Dry-Cough  Difficulty-in-Breathing  Sore-Throat  \\\n",
       "0           1          1          1                        1            1   \n",
       "1           1          1          1                        1            1   \n",
       "2           1          1          1                        1            1   \n",
       "3           1          1          1                        1            1   \n",
       "4           1          1          1                        1            1   \n",
       "...       ...        ...        ...                      ...          ...   \n",
       "316795      0          0          0                        0            0   \n",
       "316796      0          0          0                        0            0   \n",
       "316797      0          0          0                        0            0   \n",
       "316798      0          0          0                        0            0   \n",
       "316799      0          0          0                        0            0   \n",
       "\n",
       "        None_Sympton  Pains  Nasal-Congestion  Runny-Nose  Diarrhea  ...  \\\n",
       "0                  0      1                 1           1         1  ...   \n",
       "1                  0      1                 1           1         1  ...   \n",
       "2                  0      1                 1           1         1  ...   \n",
       "3                  0      1                 1           1         1  ...   \n",
       "4                  0      1                 1           1         1  ...   \n",
       "...              ...    ...               ...         ...       ...  ...   \n",
       "316795             1      0                 0           0         0  ...   \n",
       "316796             1      0                 0           0         0  ...   \n",
       "316797             1      0                 0           0         0  ...   \n",
       "316798             1      0                 0           0         0  ...   \n",
       "316799             1      0                 0           0         0  ...   \n",
       "\n",
       "        Gender_Female  Gender_Male  Gender_Transgender  Severity_Mild  \\\n",
       "0                   0            1                   0              1   \n",
       "1                   0            1                   0              1   \n",
       "2                   0            1                   0              1   \n",
       "3                   0            1                   0              0   \n",
       "4                   0            1                   0              0   \n",
       "...               ...          ...                 ...            ...   \n",
       "316795              0            0                   1              0   \n",
       "316796              0            0                   1              0   \n",
       "316797              0            0                   1              0   \n",
       "316798              0            0                   1              0   \n",
       "316799              0            0                   1              0   \n",
       "\n",
       "        Severity_Moderate  Severity_None  Severity_Severe  Contact_Dont-Know  \\\n",
       "0                       0              0                0                  0   \n",
       "1                       0              0                0                  0   \n",
       "2                       0              0                0                  1   \n",
       "3                       1              0                0                  0   \n",
       "4                       1              0                0                  0   \n",
       "...                   ...            ...              ...                ...   \n",
       "316795                  0              0                1                  0   \n",
       "316796                  0              0                1                  1   \n",
       "316797                  0              1                0                  0   \n",
       "316798                  0              1                0                  0   \n",
       "316799                  0              1                0                  1   \n",
       "\n",
       "        Contact_No  Contact_Yes  \n",
       "0                0            1  \n",
       "1                1            0  \n",
       "2                0            0  \n",
       "3                0            1  \n",
       "4                1            0  \n",
       "...            ...          ...  \n",
       "316795           1            0  \n",
       "316796           0            0  \n",
       "316797           0            1  \n",
       "316798           1            0  \n",
       "316799           0            0  \n",
       "\n",
       "[316800 rows x 26 columns]>"
      ]
     },
     "execution_count": 3,
     "metadata": {},
     "output_type": "execute_result"
    }
   ],
   "source": [
    "dataset1.describe"
   ]
  },
  {
   "cell_type": "code",
   "execution_count": 4,
   "id": "1c6cb025",
   "metadata": {},
   "outputs": [
    {
     "data": {
      "text/plain": [
       "(316800, 26)"
      ]
     },
     "execution_count": 4,
     "metadata": {},
     "output_type": "execute_result"
    }
   ],
   "source": [
    "dataset1.shape"
   ]
  },
  {
   "cell_type": "code",
   "execution_count": 5,
   "id": "528fe093",
   "metadata": {},
   "outputs": [
    {
     "name": "stdout",
     "output_type": "stream",
     "text": [
      "<class 'pandas.core.frame.DataFrame'>\n",
      "RangeIndex: 316800 entries, 0 to 316799\n",
      "Data columns (total 26 columns):\n",
      " #   Column                   Non-Null Count   Dtype\n",
      "---  ------                   --------------   -----\n",
      " 0   Fever                    316800 non-null  int64\n",
      " 1   Tiredness                316800 non-null  int64\n",
      " 2   Dry-Cough                316800 non-null  int64\n",
      " 3   Difficulty-in-Breathing  316800 non-null  int64\n",
      " 4   Sore-Throat              316800 non-null  int64\n",
      " 5   None_Sympton             316800 non-null  int64\n",
      " 6   Pains                    316800 non-null  int64\n",
      " 7   Nasal-Congestion         316800 non-null  int64\n",
      " 8   Runny-Nose               316800 non-null  int64\n",
      " 9   Diarrhea                 316800 non-null  int64\n",
      " 10  None_Experiencing        316800 non-null  int64\n",
      " 11  Age_0-9                  316800 non-null  int64\n",
      " 12  Age_10-19                316800 non-null  int64\n",
      " 13  Age_20-24                316800 non-null  int64\n",
      " 14  Age_25-59                316800 non-null  int64\n",
      " 15  Age_60+                  316800 non-null  int64\n",
      " 16  Gender_Female            316800 non-null  int64\n",
      " 17  Gender_Male              316800 non-null  int64\n",
      " 18  Gender_Transgender       316800 non-null  int64\n",
      " 19  Severity_Mild            316800 non-null  int64\n",
      " 20  Severity_Moderate        316800 non-null  int64\n",
      " 21  Severity_None            316800 non-null  int64\n",
      " 22  Severity_Severe          316800 non-null  int64\n",
      " 23  Contact_Dont-Know        316800 non-null  int64\n",
      " 24  Contact_No               316800 non-null  int64\n",
      " 25  Contact_Yes              316800 non-null  int64\n",
      "dtypes: int64(26)\n",
      "memory usage: 62.8 MB\n"
     ]
    }
   ],
   "source": [
    "dataset1.info()"
   ]
  },
  {
   "cell_type": "code",
   "execution_count": 6,
   "id": "1ecd8333",
   "metadata": {},
   "outputs": [
    {
     "data": {
      "text/plain": [
       "Fever                      0\n",
       "Tiredness                  0\n",
       "Dry-Cough                  0\n",
       "Difficulty-in-Breathing    0\n",
       "Sore-Throat                0\n",
       "None_Sympton               0\n",
       "Pains                      0\n",
       "Nasal-Congestion           0\n",
       "Runny-Nose                 0\n",
       "Diarrhea                   0\n",
       "None_Experiencing          0\n",
       "Age_0-9                    0\n",
       "Age_10-19                  0\n",
       "Age_20-24                  0\n",
       "Age_25-59                  0\n",
       "Age_60+                    0\n",
       "Gender_Female              0\n",
       "Gender_Male                0\n",
       "Gender_Transgender         0\n",
       "Severity_Mild              0\n",
       "Severity_Moderate          0\n",
       "Severity_None              0\n",
       "Severity_Severe            0\n",
       "Contact_Dont-Know          0\n",
       "Contact_No                 0\n",
       "Contact_Yes                0\n",
       "dtype: int64"
      ]
     },
     "execution_count": 6,
     "metadata": {},
     "output_type": "execute_result"
    }
   ],
   "source": [
    "dataset1.isnull().sum()"
   ]
  },
  {
   "cell_type": "code",
   "execution_count": 39,
   "id": "3bcad33c",
   "metadata": {},
   "outputs": [
    {
     "name": "stdout",
     "output_type": "stream",
     "text": [
      "age between 0 t0 9 distribution\n",
      " 0    253440\n",
      "1     63360\n",
      "Name: Age_0-9, dtype: int64\n"
     ]
    }
   ],
   "source": [
    "print(\"age between 0 t0 9 distribution\\n\",dataset1.iloc[:,11].value_counts())"
   ]
  },
  {
   "cell_type": "code",
   "execution_count": 40,
   "id": "3d3d8d87",
   "metadata": {},
   "outputs": [
    {
     "name": "stdout",
     "output_type": "stream",
     "text": [
      "age between 10 t0 19 distribution\n",
      " 0    253440\n",
      "1     63360\n",
      "Name: Age_10-19, dtype: int64\n"
     ]
    }
   ],
   "source": [
    "print(\"age between 10 t0 19 distribution\\n\",dataset1.iloc[:,12].value_counts())"
   ]
  },
  {
   "cell_type": "code",
   "execution_count": 42,
   "id": "5444d1dc",
   "metadata": {},
   "outputs": [
    {
     "name": "stdout",
     "output_type": "stream",
     "text": [
      "age between 20 t0 24 distribution\n",
      " 0    253440\n",
      "1     63360\n",
      "Name: Age_20-24, dtype: int64\n"
     ]
    }
   ],
   "source": [
    "print(\"age between 20 t0 24 distribution\\n\",dataset1.iloc[:,13].value_counts())"
   ]
  },
  {
   "cell_type": "code",
   "execution_count": 43,
   "id": "ce9ec9fa",
   "metadata": {},
   "outputs": [
    {
     "name": "stdout",
     "output_type": "stream",
     "text": [
      "age between 25 t0 59 distribution\n",
      " 0    253440\n",
      "1     63360\n",
      "Name: Age_25-59, dtype: int64\n"
     ]
    }
   ],
   "source": [
    "print(\"age between 25 t0 59 distribution\\n\",dataset1.iloc[:,14].value_counts())"
   ]
  },
  {
   "cell_type": "code",
   "execution_count": 44,
   "id": "b8cb7260",
   "metadata": {},
   "outputs": [
    {
     "name": "stdout",
     "output_type": "stream",
     "text": [
      "age 60+ distribution\n",
      " 0    253440\n",
      "1     63360\n",
      "Name: Age_60+, dtype: int64\n"
     ]
    }
   ],
   "source": [
    "print(\"age 60+ distribution\\n\",dataset1.iloc[:,15].value_counts())"
   ]
  },
  {
   "cell_type": "code",
   "execution_count": 47,
   "id": "3acb6edd",
   "metadata": {},
   "outputs": [
    {
     "name": "stdout",
     "output_type": "stream",
     "text": [
      "gender Distribution for male\n",
      " 0    211200\n",
      "1    105600\n",
      "Name: Gender_Male, dtype: int64\n"
     ]
    }
   ],
   "source": [
    "print(\"gender Distribution for male\\n\",dataset1[\"Gender_Male\"].value_counts())"
   ]
  },
  {
   "cell_type": "code",
   "execution_count": 49,
   "id": "9b15b94c",
   "metadata": {},
   "outputs": [
    {
     "name": "stdout",
     "output_type": "stream",
     "text": [
      "gender Distribution for male\n",
      " 0    211200\n",
      "1    105600\n",
      "Name: Gender_Female, dtype: int64\n"
     ]
    }
   ],
   "source": [
    "print(\"gender Distribution for male\\n\",dataset1[\"Gender_Female\"].value_counts())"
   ]
  },
  {
   "cell_type": "code",
   "execution_count": 50,
   "id": "d8d0b83d",
   "metadata": {},
   "outputs": [
    {
     "name": "stdout",
     "output_type": "stream",
     "text": [
      "gender Distribution for male\n",
      " 0    211200\n",
      "1    105600\n",
      "Name: Gender_Transgender, dtype: int64\n"
     ]
    }
   ],
   "source": [
    "print(\"gender Distribution for male\\n\",dataset1[\"Gender_Transgender\"].value_counts())"
   ]
  },
  {
   "cell_type": "markdown",
   "id": "521d5a0e",
   "metadata": {},
   "source": [
    "# For Mild Severity"
   ]
  },
  {
   "cell_type": "code",
   "execution_count": 7,
   "id": "82589850",
   "metadata": {},
   "outputs": [
    {
     "name": "stdout",
     "output_type": "stream",
     "text": [
      "(475200, 19)\n",
      "(475200,)\n"
     ]
    }
   ],
   "source": [
    "smote=SMOTE()\n",
    "balanced_msx,balanced_msy=smote.fit_resample(dataset1.iloc[:,0:19],dataset1.iloc[:,19])\n",
    "print(balanced_msx.shape)\n",
    "print(balanced_msy.shape)"
   ]
  },
  {
   "cell_type": "code",
   "execution_count": 8,
   "id": "b988547f",
   "metadata": {},
   "outputs": [
    {
     "data": {
      "text/plain": [
       "array([[ 1.48582967,  1.00008418,  0.8816758 , ..., -0.70767937,\n",
       "         1.41384536, -0.70635026],\n",
       "       [ 1.48582967,  1.00008418,  0.8816758 , ..., -0.70767937,\n",
       "         1.41384536, -0.70635026],\n",
       "       [ 1.48582967,  1.00008418,  0.8816758 , ..., -0.70767937,\n",
       "         1.41384536, -0.70635026],\n",
       "       ...,\n",
       "       [-0.67302465,  1.00008418,  0.8816758 , ...,  1.4130693 ,\n",
       "        -0.70729093, -0.70635026],\n",
       "       [ 1.48582967,  1.00008418,  0.8816758 , ..., -0.70767937,\n",
       "         1.41384536, -0.70635026],\n",
       "       [-0.67302465,  1.00008418,  0.8816758 , ..., -0.70767937,\n",
       "        -0.70729093,  1.41572823]])"
      ]
     },
     "execution_count": 8,
     "metadata": {},
     "output_type": "execute_result"
    }
   ],
   "source": [
    "scaler=StandardScaler()\n",
    "scale_x=scaler.fit_transform(balanced_msx)\n",
    "scale_x"
   ]
  },
  {
   "cell_type": "code",
   "execution_count": 9,
   "id": "31bd3bcf",
   "metadata": {},
   "outputs": [
    {
     "name": "stdout",
     "output_type": "stream",
     "text": [
      "Values count in Balanced dependent dataset for mild severity 0    237600\n",
      "1    237600\n",
      "Name: Severity_Mild, dtype: int64\n"
     ]
    }
   ],
   "source": [
    "print(\"Values count in Balanced dependent dataset for mild severity\",balanced_msy.value_counts())"
   ]
  },
  {
   "cell_type": "code",
   "execution_count": 10,
   "id": "b31cae9c",
   "metadata": {},
   "outputs": [
    {
     "data": {
      "text/plain": [
       "(475200, 15)"
      ]
     },
     "execution_count": 10,
     "metadata": {},
     "output_type": "execute_result"
    }
   ],
   "source": [
    "pca=PCA(0.95)\n",
    "x_red=pca.fit_transform(scale_x)\n",
    "x_red.shape"
   ]
  },
  {
   "cell_type": "markdown",
   "id": "34452d49",
   "metadata": {},
   "source": [
    "## Splitting the Dataset for Training "
   ]
  },
  {
   "cell_type": "code",
   "execution_count": 11,
   "id": "a5e74ccd",
   "metadata": {},
   "outputs": [
    {
     "name": "stdout",
     "output_type": "stream",
     "text": [
      "(332640, 19)\n",
      "(332640,)\n",
      "(142560, 19)\n",
      "(142560,)\n"
     ]
    }
   ],
   "source": [
    "train_x,test_x,train_y,test_y=train_test_split(scale_x,balanced_msy,test_size=0.30,random_state=123)\n",
    "print(train_x.shape)\n",
    "print(train_y.shape)\n",
    "print(test_x.shape)\n",
    "print(test_y.shape)"
   ]
  },
  {
   "cell_type": "markdown",
   "id": "0890ac9f",
   "metadata": {},
   "source": [
    "## Training Models"
   ]
  },
  {
   "cell_type": "code",
   "execution_count": 12,
   "id": "44138a12",
   "metadata": {},
   "outputs": [
    {
     "name": "stdout",
     "output_type": "stream",
     "text": [
      "The confussion metrix for Logistic Regression is:\n",
      " [[30375 41025]\n",
      " [30642 40518]]\n",
      "The accuracy of Logistic Regression is:\t\t 0.4972853535353535\n",
      "The recal score of Logistic Regression is is:\t\t 0.5693929173693086\n",
      "The precision of Logistic Regression is:\t\t 0.4968912107722306\n",
      "The f1 score of Logistic Regression is:\t\t 0.530677196911652\n"
     ]
    }
   ],
   "source": [
    "lr=LogisticRegression()\n",
    "lr.fit(train_x,train_y)\n",
    "pred_lr=lr.predict(test_x)\n",
    "print(\"The confussion metrix for Logistic Regression is:\\n\",metrics.confusion_matrix(test_y,pred_lr))\n",
    "print(\"The accuracy of Logistic Regression is:\\t\\t\",metrics.accuracy_score(test_y,pred_lr))\n",
    "print(\"The recal score of Logistic Regression is is:\\t\\t\",metrics.recall_score(test_y,pred_lr))\n",
    "print(\"The precision of Logistic Regression is:\\t\\t\",metrics.precision_score(test_y,pred_lr))\n",
    "print(\"The f1 score of Logistic Regression is:\\t\\t\",metrics.f1_score(test_y,pred_lr))"
   ]
  },
  {
   "cell_type": "code",
   "execution_count": 13,
   "id": "8321cad7",
   "metadata": {},
   "outputs": [
    {
     "name": "stdout",
     "output_type": "stream",
     "text": [
      "The confussion metrix for Random forest is:\n",
      " [[32956 38444]\n",
      " [35906 35254]]\n",
      "The accuracy of Random Forest Classifier is:\t\t 0.4784652076318743\n",
      "The recal score of Random Forest Classifier is:\t\t 0.4954187745924677\n",
      "The precision of Random Forest Classifier is:\t\t 0.47835762164509216\n",
      "The f1 score of Random Forest Classifier is:\t\t 0.48673873724613076\n"
     ]
    }
   ],
   "source": [
    "rf=RandomForestClassifier()\n",
    "rf.fit(train_x,train_y)\n",
    "pred=rf.predict(test_x)\n",
    "print(\"The confussion metrix for Random forest is:\\n\",metrics.confusion_matrix(test_y,pred))\n",
    "print(\"The accuracy of Random Forest Classifier is:\\t\\t\",metrics.accuracy_score(test_y,pred))\n",
    "print(\"The recal score of Random Forest Classifier is:\\t\\t\",metrics.recall_score(test_y,pred))\n",
    "print(\"The precision of Random Forest Classifier is:\\t\\t\",metrics.precision_score(test_y,pred))\n",
    "print(\"The f1 score of Random Forest Classifier is:\\t\\t\",metrics.f1_score(test_y,pred))"
   ]
  },
  {
   "cell_type": "code",
   "execution_count": 14,
   "id": "2c7ecb06",
   "metadata": {},
   "outputs": [
    {
     "name": "stdout",
     "output_type": "stream",
     "text": [
      "The confussion metrix for AdaBoost is:\n",
      " [[30347 41053]\n",
      " [30624 40536]]\n",
      "The accuracy of AdaBoost Classifier is:\t\t 0.4972152076318743\n",
      "The recal score of AdaBoost Classifier is is:\t\t 0.56964586846543\n",
      "The precision of AdaBoost Classifier is:\t\t 0.49683168074127637\n",
      "The f1 score of AdaBoost Classifier is:\t\t 0.5307530654865171\n"
     ]
    }
   ],
   "source": [
    "ada=AdaBoostClassifier()\n",
    "ada.fit(train_x,train_y)\n",
    "pred_ada=ada.predict(test_x)\n",
    "print(\"The confussion metrix for AdaBoost is:\\n\",metrics.confusion_matrix(test_y,pred_ada))\n",
    "print(\"The accuracy of AdaBoost Classifier is:\\t\\t\",metrics.accuracy_score(test_y,pred_ada))\n",
    "print(\"The recal score of AdaBoost Classifier is is:\\t\\t\",metrics.recall_score(test_y,pred_ada))\n",
    "print(\"The precision of AdaBoost Classifier is:\\t\\t\",metrics.precision_score(test_y,pred_ada))\n",
    "print(\"The f1 score of AdaBoost Classifier is:\\t\\t\",metrics.f1_score(test_y,pred_ada))"
   ]
  },
  {
   "cell_type": "code",
   "execution_count": 15,
   "id": "12d7555c",
   "metadata": {},
   "outputs": [
    {
     "name": "stdout",
     "output_type": "stream",
     "text": [
      "The confussion metrix for Decision Tree is:\n",
      " [[35185 36215]\n",
      " [38305 32855]]\n",
      "The accuracy of Decision Tree Classifier is:\t\t 0.4772727272727273\n",
      "The recal score of Decision Tree Classifier is is:\t\t 0.4617060146149522\n",
      "The precision of Decision Tree Classifier is:\t\t 0.4756768495728971\n",
      "The f1 score of Decision Tree Classifier is:\t\t 0.46858732083006494\n"
     ]
    }
   ],
   "source": [
    "dsc=DecisionTreeClassifier()\n",
    "dsc.fit(train_x,train_y)\n",
    "pred_dsc=dsc.predict(test_x)\n",
    "print(\"The confussion metrix for Decision Tree is:\\n\",metrics.confusion_matrix(test_y,pred_dsc))\n",
    "print(\"The accuracy of Decision Tree Classifier is:\\t\\t\",metrics.accuracy_score(test_y,pred_dsc))\n",
    "print(\"The recal score of Decision Tree Classifier is is:\\t\\t\",metrics.recall_score(test_y,pred_dsc))\n",
    "print(\"The precision of Decision Tree Classifier is:\\t\\t\",metrics.precision_score(test_y,pred_dsc))\n",
    "print(\"The f1 score of Decision Tree Classifier is:\\t\\t\",metrics.f1_score(test_y,pred_dsc))"
   ]
  },
  {
   "cell_type": "markdown",
   "id": "c2d33cc7",
   "metadata": {},
   "source": [
    "# For Moderate Severity"
   ]
  },
  {
   "cell_type": "code",
   "execution_count": 16,
   "id": "4f469e49",
   "metadata": {},
   "outputs": [
    {
     "name": "stdout",
     "output_type": "stream",
     "text": [
      "(475200, 19)\n",
      "(475200,)\n"
     ]
    }
   ],
   "source": [
    "balanced_mosx,balanced_mosy=smote.fit_resample(dataset1.iloc[:,0:19],dataset1.iloc[:,20])\n",
    "print(balanced_msx.shape)\n",
    "print(balanced_msy.shape)"
   ]
  },
  {
   "cell_type": "markdown",
   "id": "bf47053a",
   "metadata": {},
   "source": [
    "## Training Models"
   ]
  },
  {
   "cell_type": "code",
   "execution_count": 17,
   "id": "b01eb891",
   "metadata": {},
   "outputs": [
    {
     "name": "stdout",
     "output_type": "stream",
     "text": [
      "(332640, 19)\n",
      "(332640,)\n",
      "(142560, 19)\n",
      "(142560,)\n"
     ]
    }
   ],
   "source": [
    "train_mox,test_mox,train_moy,test_moy=train_test_split(balanced_mosx,balanced_mosy,test_size=0.30,random_state=123)\n",
    "print(train_mox.shape)\n",
    "print(train_moy.shape)\n",
    "print(test_mox.shape)\n",
    "print(test_moy.shape)"
   ]
  },
  {
   "cell_type": "markdown",
   "id": "28feb139",
   "metadata": {},
   "source": [
    "### Using AdaBoost Classifier "
   ]
  },
  {
   "cell_type": "code",
   "execution_count": 18,
   "id": "e1c74129",
   "metadata": {},
   "outputs": [
    {
     "name": "stdout",
     "output_type": "stream",
     "text": [
      "The confussion metrix for AdaBoost is:\n",
      " [[29379 42021]\n",
      " [29206 41954]]\n",
      "The accuracy of AdaBoost Classifier is:\t\t 0.50037177328844\n",
      "The recal score of AdaBoost Classifier is is:\t\t 0.5895727937043282\n",
      "The precision of AdaBoost Classifier is:\t\t 0.4996010717475439\n",
      "The f1 score of AdaBoost Classifier is:\t\t 0.5408708544171206\n"
     ]
    }
   ],
   "source": [
    "ada_mo=AdaBoostClassifier()\n",
    "ada_mo.fit(train_mox,train_moy)\n",
    "pred_ada_mo=ada_mo.predict(test_mox)\n",
    "print(\"The confussion metrix for AdaBoost is:\\n\",metrics.confusion_matrix(test_y,pred_ada_mo))\n",
    "print(\"The accuracy of AdaBoost Classifier is:\\t\\t\",metrics.accuracy_score(test_y,pred_ada_mo))\n",
    "print(\"The recal score of AdaBoost Classifier is is:\\t\\t\",metrics.recall_score(test_y,pred_ada_mo))\n",
    "print(\"The precision of AdaBoost Classifier is:\\t\\t\",metrics.precision_score(test_y,pred_ada_mo))\n",
    "print(\"The f1 score of AdaBoost Classifier is:\\t\\t\",metrics.f1_score(test_y,pred_ada_mo))"
   ]
  },
  {
   "cell_type": "markdown",
   "id": "0fdde250",
   "metadata": {},
   "source": [
    "### Using Random Forest Classifier"
   ]
  },
  {
   "cell_type": "code",
   "execution_count": 19,
   "id": "6200bcc8",
   "metadata": {},
   "outputs": [
    {
     "name": "stdout",
     "output_type": "stream",
     "text": [
      "The confussion metrix for Decision Tree Classifier is:\n",
      " [[35770 35630]\n",
      " [35550 35610]]\n",
      "The accuracy of Decision Tree Classifier is:\t\t 0.5007014590347924\n",
      "The recal score of Decision Tree Classifier is is:\t\t 0.5004215851602024\n",
      "The precision of Decision Tree Classifier is:\t\t 0.4998596294216732\n",
      "The f1 score of Decision Tree Classifier is:\t\t 0.5001404494382024\n"
     ]
    }
   ],
   "source": [
    "rf_mo=RandomForestClassifier()\n",
    "rf_mo.fit(train_mox,train_moy)\n",
    "pred_rf_mo=rf_mo.predict(test_mox)\n",
    "print(\"The confussion metrix for Decision Tree Classifier is:\\n\",metrics.confusion_matrix(test_y,pred_rf_mo))\n",
    "print(\"The accuracy of Decision Tree Classifier is:\\t\\t\",metrics.accuracy_score(test_y,pred_rf_mo))\n",
    "print(\"The recal score of Decision Tree Classifier is is:\\t\\t\",metrics.recall_score(test_y,pred_rf_mo))\n",
    "print(\"The precision of Decision Tree Classifier is:\\t\\t\",metrics.precision_score(test_y,pred_rf_mo))\n",
    "print(\"The f1 score of Decision Tree Classifier is:\\t\\t\",metrics.f1_score(test_y,pred_rf_mo))"
   ]
  },
  {
   "cell_type": "markdown",
   "id": "f9972a99",
   "metadata": {},
   "source": [
    "### Using Decision Tree Classifier"
   ]
  },
  {
   "cell_type": "code",
   "execution_count": 20,
   "id": "6795d76c",
   "metadata": {},
   "outputs": [
    {
     "name": "stdout",
     "output_type": "stream",
     "text": [
      "The confussion metrix for Decision Tree is:\n",
      " [[36131 35269]\n",
      " [36918 34242]]\n",
      "The accuracy of Decision Tree Classifier is:\t\t 0.4936377665544332\n",
      "The recal score of Decision Tree Classifier is is:\t\t 0.4811973018549747\n",
      "The precision of Decision Tree Classifier is:\t\t 0.4926126800074808\n",
      "The f1 score of Decision Tree Classifier is:\t\t 0.48683808318701083\n"
     ]
    }
   ],
   "source": [
    "dsc_mo=DecisionTreeClassifier()\n",
    "dsc_mo.fit(train_mox,train_moy)\n",
    "pred_dsc_mo=dsc.predict(test_mox)\n",
    "print(\"The confussion metrix for Decision Tree is:\\n\",metrics.confusion_matrix(test_y,pred_dsc_mo))\n",
    "print(\"The accuracy of Decision Tree Classifier is:\\t\\t\",metrics.accuracy_score(test_y,pred_dsc_mo))\n",
    "print(\"The recal score of Decision Tree Classifier is is:\\t\\t\",metrics.recall_score(test_y,pred_dsc_mo))\n",
    "print(\"The precision of Decision Tree Classifier is:\\t\\t\",metrics.precision_score(test_y,pred_dsc_mo))\n",
    "print(\"The f1 score of Decision Tree Classifier is:\\t\\t\",metrics.f1_score(test_y,pred_dsc_mo))"
   ]
  },
  {
   "cell_type": "markdown",
   "id": "eb5d9ec8",
   "metadata": {},
   "source": [
    "### Using Logistic Regression "
   ]
  },
  {
   "cell_type": "code",
   "execution_count": 21,
   "id": "99c0b660",
   "metadata": {},
   "outputs": [
    {
     "name": "stdout",
     "output_type": "stream",
     "text": [
      "The confussion metrix for Logistic Regression is:\n",
      " [[29306 42094]\n",
      " [29118 42042]]\n",
      "The accuracy of Logistic Regression is:\t\t 0.5004769921436588\n",
      "The recal score of Logistic Regression is is:\t\t 0.5908094435075886\n",
      "The precision of Logistic Regression is:\t\t 0.49969097651421507\n",
      "The f1 score of Logistic Regression is:\t\t 0.5414434370492479\n"
     ]
    }
   ],
   "source": [
    "lr_mo=LogisticRegression()\n",
    "lr_mo.fit(train_mox,train_moy)\n",
    "pred_lr_mo=lr_mo.predict(test_mox)\n",
    "print(\"The confussion metrix for Logistic Regression is:\\n\",metrics.confusion_matrix(test_y,pred_lr_mo))\n",
    "print(\"The accuracy of Logistic Regression is:\\t\\t\",metrics.accuracy_score(test_y,pred_lr_mo))\n",
    "print(\"The recal score of Logistic Regression is is:\\t\\t\",metrics.recall_score(test_y,pred_lr_mo))\n",
    "print(\"The precision of Logistic Regression is:\\t\\t\",metrics.precision_score(test_y,pred_lr_mo))\n",
    "print(\"The f1 score of Logistic Regression is:\\t\\t\",metrics.f1_score(test_y,pred_lr_mo))"
   ]
  },
  {
   "cell_type": "markdown",
   "id": "b9d83550",
   "metadata": {},
   "source": [
    "# For Severe Severity"
   ]
  },
  {
   "cell_type": "code",
   "execution_count": 22,
   "id": "c0cdf0c5",
   "metadata": {},
   "outputs": [
    {
     "name": "stdout",
     "output_type": "stream",
     "text": [
      "(475200, 19)\n",
      "(475200,)\n"
     ]
    }
   ],
   "source": [
    "balanced_sesx,balanced_sesy=smote.fit_resample(dataset1.iloc[:,0:19],dataset1.iloc[:,22])\n",
    "print(balanced_sesx.shape)\n",
    "print(balanced_sesy.shape)"
   ]
  },
  {
   "cell_type": "markdown",
   "id": "755b497b",
   "metadata": {},
   "source": [
    "## Splitting the Dateset for Training "
   ]
  },
  {
   "cell_type": "code",
   "execution_count": 23,
   "id": "f3ae8a48",
   "metadata": {},
   "outputs": [
    {
     "name": "stdout",
     "output_type": "stream",
     "text": [
      "(332640, 19)\n",
      "(332640,)\n",
      "(142560, 19)\n",
      "(142560,)\n"
     ]
    }
   ],
   "source": [
    "train_sx,test_sx,train_sy,test_sy=train_test_split(balanced_sesx,balanced_sesy,test_size=0.30,random_state=123)\n",
    "print(train_sx.shape)\n",
    "print(train_sy.shape)\n",
    "print(test_sx.shape)\n",
    "print(test_sy.shape)"
   ]
  },
  {
   "cell_type": "markdown",
   "id": "73a869e6",
   "metadata": {},
   "source": [
    "# Training Models"
   ]
  },
  {
   "cell_type": "markdown",
   "id": "21e8f454",
   "metadata": {},
   "source": [
    "### Using AdaBoost Classifier"
   ]
  },
  {
   "cell_type": "code",
   "execution_count": 24,
   "id": "def3a7ac",
   "metadata": {},
   "outputs": [
    {
     "name": "stdout",
     "output_type": "stream",
     "text": [
      "The confussion metrix for AdaBoost is:\n",
      " [[33111 38289]\n",
      " [32972 38188]]\n",
      "The accuracy of AdaBoost Classifier is:\t\t 0.5001332772166105\n",
      "The recal score of AdaBoost Classifier is is:\t\t 0.5366498032602586\n",
      "The precision of AdaBoost Classifier is:\t\t 0.4993396707506832\n",
      "The f1 score of AdaBoost Classifier is:\t\t 0.5173228933126519\n"
     ]
    }
   ],
   "source": [
    "ada_se=AdaBoostClassifier()\n",
    "ada_se.fit(train_sx,train_sy)\n",
    "pred_ada_se=ada_se.predict(test_sx)\n",
    "print(\"The confussion metrix for AdaBoost is:\\n\",metrics.confusion_matrix(test_y,pred_ada_se))\n",
    "print(\"The accuracy of AdaBoost Classifier is:\\t\\t\",metrics.accuracy_score(test_y,pred_ada_se))\n",
    "print(\"The recal score of AdaBoost Classifier is is:\\t\\t\",metrics.recall_score(test_y,pred_ada_se))\n",
    "print(\"The precision of AdaBoost Classifier is:\\t\\t\",metrics.precision_score(test_y,pred_ada_se))\n",
    "print(\"The f1 score of AdaBoost Classifier is:\\t\\t\",metrics.f1_score(test_y,pred_ada_se))"
   ]
  },
  {
   "cell_type": "markdown",
   "id": "5ed713e1",
   "metadata": {},
   "source": [
    "### Using Random Forest Classifier\n"
   ]
  },
  {
   "cell_type": "code",
   "execution_count": 25,
   "id": "cd18cdfe",
   "metadata": {},
   "outputs": [
    {
     "name": "stdout",
     "output_type": "stream",
     "text": [
      "The confussion metrix for Random Forest Classifier is:\n",
      " [[35770 35630]\n",
      " [35785 35375]]\n",
      "The accuracy of Random Forest Classifier is:\t\t 0.4990530303030303\n",
      "The recal score of Random Forest Classifier is is:\t\t 0.49711916807195056\n",
      "The precision of Random Forest Classifier is:\t\t 0.4982043518062108\n",
      "The f1 score of Random Forest Classifier is:\t\t 0.4976611683607077\n"
     ]
    }
   ],
   "source": [
    "rf_se=RandomForestClassifier()\n",
    "rf_se.fit(train_sx,train_sy)\n",
    "pred_rf_se=rf_mo.predict(test_sx)\n",
    "print(\"The confussion metrix for Random Forest Classifier is:\\n\",metrics.confusion_matrix(test_y,pred_rf_se))\n",
    "print(\"The accuracy of Random Forest Classifier is:\\t\\t\",metrics.accuracy_score(test_y,pred_rf_se))\n",
    "print(\"The recal score of Random Forest Classifier is is:\\t\\t\",metrics.recall_score(test_y,pred_rf_se))\n",
    "print(\"The precision of Random Forest Classifier is:\\t\\t\",metrics.precision_score(test_y,pred_rf_se))\n",
    "print(\"The f1 score of Random Forest Classifier is:\\t\\t\",metrics.f1_score(test_y,pred_rf_se))"
   ]
  },
  {
   "cell_type": "markdown",
   "id": "5057c6d7",
   "metadata": {},
   "source": [
    "### Using Logistic Regression "
   ]
  },
  {
   "cell_type": "code",
   "execution_count": 26,
   "id": "4f258ee3",
   "metadata": {},
   "outputs": [
    {
     "name": "stdout",
     "output_type": "stream",
     "text": [
      "The confussion metrix for Logistic Regression is:\n",
      " [[33165 38235]\n",
      " [33030 38130]]\n",
      "The accuracy of Logistic Regression is:\t\t 0.5001052188552189\n",
      "The recal score of Logistic Regression is is:\t\t 0.5358347386172007\n",
      "The precision of Logistic Regression is:\t\t 0.4993125122765665\n",
      "The f1 score of Logistic Regression is:\t\t 0.5169293340111846\n"
     ]
    }
   ],
   "source": [
    "lr_se=LogisticRegression()\n",
    "lr_se.fit(train_sx,train_sy)\n",
    "pred_lr_se=lr_se.predict(test_sx)\n",
    "print(\"The confussion metrix for Logistic Regression is:\\n\",metrics.confusion_matrix(test_y,pred_lr_se))\n",
    "print(\"The accuracy of Logistic Regression is:\\t\\t\",metrics.accuracy_score(test_y,pred_lr_se))\n",
    "print(\"The recal score of Logistic Regression is is:\\t\\t\",metrics.recall_score(test_y,pred_lr_se))\n",
    "print(\"The precision of Logistic Regression is:\\t\\t\",metrics.precision_score(test_y,pred_lr_se))\n",
    "print(\"The f1 score of Logistic Regression is:\\t\\t\",metrics.f1_score(test_y,pred_lr_se))"
   ]
  },
  {
   "cell_type": "markdown",
   "id": "e13ab33f",
   "metadata": {},
   "source": [
    "### Using Decision Tree Classifier"
   ]
  },
  {
   "cell_type": "code",
   "execution_count": 27,
   "id": "e72fd3ae",
   "metadata": {},
   "outputs": [
    {
     "name": "stdout",
     "output_type": "stream",
     "text": [
      "The confussion metrix for Decision Tree is:\n",
      " [[37511 33889]\n",
      " [37276 33884]]\n",
      "The accuracy of Decision Tree Classifier is:\t\t 0.5008066778900112\n",
      "The recal score of Decision Tree Classifier is is:\t\t 0.4761663856098932\n",
      "The precision of Decision Tree Classifier is:\t\t 0.49996311215380757\n",
      "The f1 score of Decision Tree Classifier is:\t\t 0.4877746827607552\n"
     ]
    }
   ],
   "source": [
    "dsc_se=DecisionTreeClassifier()\n",
    "dsc_se.fit(train_sx,train_sy)\n",
    "pred_dsc_se=dsc_se.predict(test_sx)\n",
    "print(\"The confussion metrix for Decision Tree is:\\n\",metrics.confusion_matrix(test_y,pred_dsc_se))\n",
    "print(\"The accuracy of Decision Tree Classifier is:\\t\\t\",metrics.accuracy_score(test_y,pred_dsc_se))\n",
    "print(\"The recal score of Decision Tree Classifier is is:\\t\\t\",metrics.recall_score(test_y,pred_dsc_se))\n",
    "print(\"The precision of Decision Tree Classifier is:\\t\\t\",metrics.precision_score(test_y,pred_dsc_se))\n",
    "print(\"The f1 score of Decision Tree Classifier is:\\t\\t\",metrics.f1_score(test_y,pred_dsc_se))"
   ]
  },
  {
   "cell_type": "code",
   "execution_count": 28,
   "id": "442564c2",
   "metadata": {},
   "outputs": [],
   "source": [
    "severe=dataset1.iloc[:,19]|dataset1.iloc[:,20]|dataset1.iloc[:,22]\n"
   ]
  },
  {
   "cell_type": "code",
   "execution_count": 29,
   "id": "16c984c4",
   "metadata": {},
   "outputs": [
    {
     "name": "stdout",
     "output_type": "stream",
     "text": [
      "0         1\n",
      "1         1\n",
      "2         1\n",
      "3         1\n",
      "4         1\n",
      "         ..\n",
      "316795    1\n",
      "316796    1\n",
      "316797    0\n",
      "316798    0\n",
      "316799    0\n",
      "Length: 316800, dtype: int64\n"
     ]
    }
   ],
   "source": [
    "print(severe)"
   ]
  },
  {
   "cell_type": "code",
   "execution_count": 30,
   "id": "20a750de",
   "metadata": {},
   "outputs": [
    {
     "name": "stdout",
     "output_type": "stream",
     "text": [
      "1    237600\n",
      "0     79200\n",
      "dtype: int64\n"
     ]
    }
   ],
   "source": [
    "print(severe.value_counts())"
   ]
  },
  {
   "cell_type": "code",
   "execution_count": 31,
   "id": "a889496a",
   "metadata": {},
   "outputs": [
    {
     "name": "stdout",
     "output_type": "stream",
     "text": [
      "(475200, 19)\n",
      "(475200,)\n"
     ]
    }
   ],
   "source": [
    "smote=SMOTE()\n",
    "fx,fy=smote.fit_resample(dataset1.iloc[:,0:19],severe)\n",
    "print(fx.shape)\n",
    "print(fy.shape)"
   ]
  },
  {
   "cell_type": "code",
   "execution_count": 32,
   "id": "724ab591",
   "metadata": {},
   "outputs": [
    {
     "data": {
      "text/plain": [
       "0    237600\n",
       "1    237600\n",
       "dtype: int64"
      ]
     },
     "execution_count": 32,
     "metadata": {},
     "output_type": "execute_result"
    }
   ],
   "source": [
    "fy.value_counts()"
   ]
  },
  {
   "cell_type": "code",
   "execution_count": 33,
   "id": "2cb60474",
   "metadata": {},
   "outputs": [
    {
     "name": "stdout",
     "output_type": "stream",
     "text": [
      "(332640, 19)\n",
      "(332640,)\n",
      "(142560, 19)\n",
      "(142560,)\n"
     ]
    }
   ],
   "source": [
    "train_fx,test_fx,train_fy,test_fy=train_test_split(fx,fy,test_size=0.30,random_state=123)\n",
    "print(train_fx.shape)\n",
    "print(train_fy.shape)\n",
    "print(test_fx.shape)\n",
    "print(test_fy.shape)"
   ]
  },
  {
   "cell_type": "code",
   "execution_count": 34,
   "id": "2969441b",
   "metadata": {},
   "outputs": [
    {
     "name": "stdout",
     "output_type": "stream",
     "text": [
      "The confussion metrix for Random Forest Classifier is:\n",
      " [[34589 36593]\n",
      " [37740 33638]]\n",
      "The accuracy of Random Forest Classifier is:\t\t 0.478584455667789\n",
      "The recal score of Random Forest Classifier is is:\t\t 0.4712656560845078\n",
      "The precision of Random Forest Classifier is:\t\t 0.4789622816135325\n",
      "The f1 score of Random Forest Classifier is:\t\t 0.47508279840970563\n"
     ]
    }
   ],
   "source": [
    "rf_f=RandomForestClassifier()\n",
    "rf_f.fit(train_fx,train_fy)\n",
    "pred_rf_f=rf_f.predict(test_fx)\n",
    "print(\"The confussion metrix for Random Forest Classifier is:\\n\",metrics.confusion_matrix(test_fy,pred_rf_f))\n",
    "print(\"The accuracy of Random Forest Classifier is:\\t\\t\",metrics.accuracy_score(test_fy,pred_rf_f))\n",
    "print(\"The recal score of Random Forest Classifier is is:\\t\\t\",metrics.recall_score(test_fy,pred_rf_f))\n",
    "print(\"The precision of Random Forest Classifier is:\\t\\t\",metrics.precision_score(test_fy,pred_rf_f))\n",
    "print(\"The f1 score of Random Forest Classifier is:\\t\\t\",metrics.f1_score(test_fy,pred_rf_f))"
   ]
  },
  {
   "cell_type": "code",
   "execution_count": 35,
   "id": "7c948661",
   "metadata": {},
   "outputs": [
    {
     "data": {
      "text/plain": [
       "(142560,)"
      ]
     },
     "execution_count": 35,
     "metadata": {},
     "output_type": "execute_result"
    }
   ],
   "source": [
    "pred_rf_f.shape"
   ]
  }
 ],
 "metadata": {
  "kernelspec": {
   "display_name": "Python 3",
   "language": "python",
   "name": "python3"
  },
  "language_info": {
   "codemirror_mode": {
    "name": "ipython",
    "version": 3
   },
   "file_extension": ".py",
   "mimetype": "text/x-python",
   "name": "python",
   "nbconvert_exporter": "python",
   "pygments_lexer": "ipython3",
   "version": "3.8.8"
  }
 },
 "nbformat": 4,
 "nbformat_minor": 5
}
