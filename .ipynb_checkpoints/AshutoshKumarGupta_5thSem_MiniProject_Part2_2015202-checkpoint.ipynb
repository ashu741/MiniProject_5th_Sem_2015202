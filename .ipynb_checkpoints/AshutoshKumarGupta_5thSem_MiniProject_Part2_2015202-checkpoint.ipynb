{
 "cells": [
  {
   "cell_type": "markdown",
   "id": "3f9c884d",
   "metadata": {},
   "source": [
    "# Importing Libraries"
   ]
  },
  {
   "cell_type": "code",
   "execution_count": 2,
   "id": "912ed154",
   "metadata": {},
   "outputs": [],
   "source": [
    "import pandas as pd\n",
    "import matplotlib.pyplot as plt\n",
    "import numpy as np\n",
    "import seaborn as sns\n",
    "from sklearn.model_selection import train_test_split\n",
    "from sklearn import metrics\n",
    "from sklearn.ensemble import RandomForestClassifier\n",
    "from imblearn.over_sampling import SMOTE\n",
    "from sklearn.linear_model import LogisticRegression\n",
    "from sklearn.tree import DecisionTreeClassifier\n",
    "from sklearn.ensemble import AdaBoostClassifier\n",
    "from sklearn.preprocessing import StandardScaler\n",
    "from sklearn.neighbors import KNeighborsClassifier\n",
    "from sklearn.decomposition import PCA"
   ]
  },
  {
   "cell_type": "code",
   "execution_count": 3,
   "id": "f8a7b906",
   "metadata": {},
   "outputs": [
    {
     "data": {
      "text/html": [
       "<div>\n",
       "<style scoped>\n",
       "    .dataframe tbody tr th:only-of-type {\n",
       "        vertical-align: middle;\n",
       "    }\n",
       "\n",
       "    .dataframe tbody tr th {\n",
       "        vertical-align: top;\n",
       "    }\n",
       "\n",
       "    .dataframe thead th {\n",
       "        text-align: right;\n",
       "    }\n",
       "</style>\n",
       "<table border=\"1\" class=\"dataframe\">\n",
       "  <thead>\n",
       "    <tr style=\"text-align: right;\">\n",
       "      <th></th>\n",
       "      <th>Fever</th>\n",
       "      <th>Tiredness</th>\n",
       "      <th>Dry-Cough</th>\n",
       "      <th>Difficulty-in-Breathing</th>\n",
       "      <th>Sore-Throat</th>\n",
       "      <th>None_Sympton</th>\n",
       "      <th>Pains</th>\n",
       "      <th>Nasal-Congestion</th>\n",
       "      <th>Runny-Nose</th>\n",
       "      <th>Diarrhea</th>\n",
       "      <th>...</th>\n",
       "      <th>Gender_Female</th>\n",
       "      <th>Gender_Male</th>\n",
       "      <th>Gender_Transgender</th>\n",
       "      <th>Severity_Mild</th>\n",
       "      <th>Severity_Moderate</th>\n",
       "      <th>Severity_None</th>\n",
       "      <th>Severity_Severe</th>\n",
       "      <th>Contact_Dont-Know</th>\n",
       "      <th>Contact_No</th>\n",
       "      <th>Contact_Yes</th>\n",
       "    </tr>\n",
       "  </thead>\n",
       "  <tbody>\n",
       "    <tr>\n",
       "      <th>0</th>\n",
       "      <td>1</td>\n",
       "      <td>1</td>\n",
       "      <td>1</td>\n",
       "      <td>1</td>\n",
       "      <td>1</td>\n",
       "      <td>0</td>\n",
       "      <td>1</td>\n",
       "      <td>1</td>\n",
       "      <td>1</td>\n",
       "      <td>1</td>\n",
       "      <td>...</td>\n",
       "      <td>0</td>\n",
       "      <td>1</td>\n",
       "      <td>0</td>\n",
       "      <td>1</td>\n",
       "      <td>0</td>\n",
       "      <td>0</td>\n",
       "      <td>0</td>\n",
       "      <td>0</td>\n",
       "      <td>0</td>\n",
       "      <td>1</td>\n",
       "    </tr>\n",
       "    <tr>\n",
       "      <th>1</th>\n",
       "      <td>1</td>\n",
       "      <td>1</td>\n",
       "      <td>1</td>\n",
       "      <td>1</td>\n",
       "      <td>1</td>\n",
       "      <td>0</td>\n",
       "      <td>1</td>\n",
       "      <td>1</td>\n",
       "      <td>1</td>\n",
       "      <td>1</td>\n",
       "      <td>...</td>\n",
       "      <td>0</td>\n",
       "      <td>1</td>\n",
       "      <td>0</td>\n",
       "      <td>1</td>\n",
       "      <td>0</td>\n",
       "      <td>0</td>\n",
       "      <td>0</td>\n",
       "      <td>0</td>\n",
       "      <td>1</td>\n",
       "      <td>0</td>\n",
       "    </tr>\n",
       "    <tr>\n",
       "      <th>2</th>\n",
       "      <td>1</td>\n",
       "      <td>1</td>\n",
       "      <td>1</td>\n",
       "      <td>1</td>\n",
       "      <td>1</td>\n",
       "      <td>0</td>\n",
       "      <td>1</td>\n",
       "      <td>1</td>\n",
       "      <td>1</td>\n",
       "      <td>1</td>\n",
       "      <td>...</td>\n",
       "      <td>0</td>\n",
       "      <td>1</td>\n",
       "      <td>0</td>\n",
       "      <td>1</td>\n",
       "      <td>0</td>\n",
       "      <td>0</td>\n",
       "      <td>0</td>\n",
       "      <td>1</td>\n",
       "      <td>0</td>\n",
       "      <td>0</td>\n",
       "    </tr>\n",
       "    <tr>\n",
       "      <th>3</th>\n",
       "      <td>1</td>\n",
       "      <td>1</td>\n",
       "      <td>1</td>\n",
       "      <td>1</td>\n",
       "      <td>1</td>\n",
       "      <td>0</td>\n",
       "      <td>1</td>\n",
       "      <td>1</td>\n",
       "      <td>1</td>\n",
       "      <td>1</td>\n",
       "      <td>...</td>\n",
       "      <td>0</td>\n",
       "      <td>1</td>\n",
       "      <td>0</td>\n",
       "      <td>0</td>\n",
       "      <td>1</td>\n",
       "      <td>0</td>\n",
       "      <td>0</td>\n",
       "      <td>0</td>\n",
       "      <td>0</td>\n",
       "      <td>1</td>\n",
       "    </tr>\n",
       "    <tr>\n",
       "      <th>4</th>\n",
       "      <td>1</td>\n",
       "      <td>1</td>\n",
       "      <td>1</td>\n",
       "      <td>1</td>\n",
       "      <td>1</td>\n",
       "      <td>0</td>\n",
       "      <td>1</td>\n",
       "      <td>1</td>\n",
       "      <td>1</td>\n",
       "      <td>1</td>\n",
       "      <td>...</td>\n",
       "      <td>0</td>\n",
       "      <td>1</td>\n",
       "      <td>0</td>\n",
       "      <td>0</td>\n",
       "      <td>1</td>\n",
       "      <td>0</td>\n",
       "      <td>0</td>\n",
       "      <td>0</td>\n",
       "      <td>1</td>\n",
       "      <td>0</td>\n",
       "    </tr>\n",
       "  </tbody>\n",
       "</table>\n",
       "<p>5 rows × 26 columns</p>\n",
       "</div>"
      ],
      "text/plain": [
       "   Fever  Tiredness  Dry-Cough  Difficulty-in-Breathing  Sore-Throat  \\\n",
       "0      1          1          1                        1            1   \n",
       "1      1          1          1                        1            1   \n",
       "2      1          1          1                        1            1   \n",
       "3      1          1          1                        1            1   \n",
       "4      1          1          1                        1            1   \n",
       "\n",
       "   None_Sympton  Pains  Nasal-Congestion  Runny-Nose  Diarrhea  ...  \\\n",
       "0             0      1                 1           1         1  ...   \n",
       "1             0      1                 1           1         1  ...   \n",
       "2             0      1                 1           1         1  ...   \n",
       "3             0      1                 1           1         1  ...   \n",
       "4             0      1                 1           1         1  ...   \n",
       "\n",
       "   Gender_Female  Gender_Male  Gender_Transgender  Severity_Mild  \\\n",
       "0              0            1                   0              1   \n",
       "1              0            1                   0              1   \n",
       "2              0            1                   0              1   \n",
       "3              0            1                   0              0   \n",
       "4              0            1                   0              0   \n",
       "\n",
       "   Severity_Moderate  Severity_None  Severity_Severe  Contact_Dont-Know  \\\n",
       "0                  0              0                0                  0   \n",
       "1                  0              0                0                  0   \n",
       "2                  0              0                0                  1   \n",
       "3                  1              0                0                  0   \n",
       "4                  1              0                0                  0   \n",
       "\n",
       "   Contact_No  Contact_Yes  \n",
       "0           0            1  \n",
       "1           1            0  \n",
       "2           0            0  \n",
       "3           0            1  \n",
       "4           1            0  \n",
       "\n",
       "[5 rows x 26 columns]"
      ]
     },
     "execution_count": 3,
     "metadata": {},
     "output_type": "execute_result"
    }
   ],
   "source": [
    "dataset1=pd.read_csv(\"Cleaned_Data.csv\")\n",
    "dataset1.head()"
   ]
  },
  {
   "cell_type": "code",
   "execution_count": 3,
   "id": "1c6cb025",
   "metadata": {},
   "outputs": [
    {
     "data": {
      "text/plain": [
       "(316800, 26)"
      ]
     },
     "execution_count": 3,
     "metadata": {},
     "output_type": "execute_result"
    }
   ],
   "source": [
    "dataset1.shape"
   ]
  },
  {
   "cell_type": "code",
   "execution_count": 4,
   "id": "528fe093",
   "metadata": {},
   "outputs": [
    {
     "name": "stdout",
     "output_type": "stream",
     "text": [
      "<class 'pandas.core.frame.DataFrame'>\n",
      "RangeIndex: 316800 entries, 0 to 316799\n",
      "Data columns (total 26 columns):\n",
      " #   Column                   Non-Null Count   Dtype\n",
      "---  ------                   --------------   -----\n",
      " 0   Fever                    316800 non-null  int64\n",
      " 1   Tiredness                316800 non-null  int64\n",
      " 2   Dry-Cough                316800 non-null  int64\n",
      " 3   Difficulty-in-Breathing  316800 non-null  int64\n",
      " 4   Sore-Throat              316800 non-null  int64\n",
      " 5   None_Sympton             316800 non-null  int64\n",
      " 6   Pains                    316800 non-null  int64\n",
      " 7   Nasal-Congestion         316800 non-null  int64\n",
      " 8   Runny-Nose               316800 non-null  int64\n",
      " 9   Diarrhea                 316800 non-null  int64\n",
      " 10  None_Experiencing        316800 non-null  int64\n",
      " 11  Age_0-9                  316800 non-null  int64\n",
      " 12  Age_10-19                316800 non-null  int64\n",
      " 13  Age_20-24                316800 non-null  int64\n",
      " 14  Age_25-59                316800 non-null  int64\n",
      " 15  Age_60+                  316800 non-null  int64\n",
      " 16  Gender_Female            316800 non-null  int64\n",
      " 17  Gender_Male              316800 non-null  int64\n",
      " 18  Gender_Transgender       316800 non-null  int64\n",
      " 19  Severity_Mild            316800 non-null  int64\n",
      " 20  Severity_Moderate        316800 non-null  int64\n",
      " 21  Severity_None            316800 non-null  int64\n",
      " 22  Severity_Severe          316800 non-null  int64\n",
      " 23  Contact_Dont-Know        316800 non-null  int64\n",
      " 24  Contact_No               316800 non-null  int64\n",
      " 25  Contact_Yes              316800 non-null  int64\n",
      "dtypes: int64(26)\n",
      "memory usage: 62.8 MB\n"
     ]
    }
   ],
   "source": [
    "dataset1.info()"
   ]
  },
  {
   "cell_type": "code",
   "execution_count": 5,
   "id": "1ecd8333",
   "metadata": {},
   "outputs": [
    {
     "data": {
      "text/plain": [
       "Fever                      0\n",
       "Tiredness                  0\n",
       "Dry-Cough                  0\n",
       "Difficulty-in-Breathing    0\n",
       "Sore-Throat                0\n",
       "None_Sympton               0\n",
       "Pains                      0\n",
       "Nasal-Congestion           0\n",
       "Runny-Nose                 0\n",
       "Diarrhea                   0\n",
       "None_Experiencing          0\n",
       "Age_0-9                    0\n",
       "Age_10-19                  0\n",
       "Age_20-24                  0\n",
       "Age_25-59                  0\n",
       "Age_60+                    0\n",
       "Gender_Female              0\n",
       "Gender_Male                0\n",
       "Gender_Transgender         0\n",
       "Severity_Mild              0\n",
       "Severity_Moderate          0\n",
       "Severity_None              0\n",
       "Severity_Severe            0\n",
       "Contact_Dont-Know          0\n",
       "Contact_No                 0\n",
       "Contact_Yes                0\n",
       "dtype: int64"
      ]
     },
     "execution_count": 5,
     "metadata": {},
     "output_type": "execute_result"
    }
   ],
   "source": [
    "dataset1.isnull().sum()"
   ]
  },
  {
   "cell_type": "markdown",
   "id": "521d5a0e",
   "metadata": {},
   "source": [
    "# For Mild Severity"
   ]
  },
  {
   "cell_type": "code",
   "execution_count": 6,
   "id": "82589850",
   "metadata": {},
   "outputs": [
    {
     "name": "stdout",
     "output_type": "stream",
     "text": [
      "(475200, 19)\n",
      "(475200,)\n"
     ]
    }
   ],
   "source": [
    "smote=SMOTE()\n",
    "balanced_msx,balanced_msy=smote.fit_resample(dataset1.iloc[:,0:19],dataset1.iloc[:,19])\n",
    "print(balanced_msx.shape)\n",
    "print(balanced_msy.shape)"
   ]
  },
  {
   "cell_type": "code",
   "execution_count": 7,
   "id": "b988547f",
   "metadata": {},
   "outputs": [
    {
     "data": {
      "text/plain": [
       "array([[ 1.48206373,  0.99965494,  0.88216977, ..., -0.70702978,\n",
       "         1.41481642, -0.70748514],\n",
       "       [ 1.48206373,  0.99965494,  0.88216977, ..., -0.70702978,\n",
       "         1.41481642, -0.70748514],\n",
       "       [ 1.48206373,  0.99965494,  0.88216977, ..., -0.70702978,\n",
       "         1.41481642, -0.70748514],\n",
       "       ...,\n",
       "       [-0.67473482, -1.00034518, -1.13356866, ..., -0.70702978,\n",
       "         1.41481642, -0.70748514],\n",
       "       [ 1.48206373,  0.99965494,  0.88216977, ..., -0.70702978,\n",
       "         1.41481642, -0.70748514],\n",
       "       [-0.67473482, -1.00034518,  0.88216977, ...,  1.41436759,\n",
       "        -0.70680548, -0.70748514]])"
      ]
     },
     "execution_count": 7,
     "metadata": {},
     "output_type": "execute_result"
    }
   ],
   "source": [
    "scaler=StandardScaler()\n",
    "scale_x=scaler.fit_transform(balanced_msx)\n",
    "scale_x"
   ]
  },
  {
   "cell_type": "code",
   "execution_count": 8,
   "id": "31bd3bcf",
   "metadata": {},
   "outputs": [
    {
     "name": "stdout",
     "output_type": "stream",
     "text": [
      "Values count in Balanced dependent dataset for mild severity 0    237600\n",
      "1    237600\n",
      "Name: Severity_Mild, dtype: int64\n"
     ]
    }
   ],
   "source": [
    "print(\"Values count in Balanced dependent dataset for mild severity\",balanced_msy.value_counts())"
   ]
  },
  {
   "cell_type": "code",
   "execution_count": 9,
   "id": "b31cae9c",
   "metadata": {},
   "outputs": [
    {
     "data": {
      "text/plain": [
       "(475200, 15)"
      ]
     },
     "execution_count": 9,
     "metadata": {},
     "output_type": "execute_result"
    }
   ],
   "source": [
    "pca=PCA(0.95)\n",
    "x_red=pca.fit_transform(scale_x)\n",
    "x_red.shape"
   ]
  },
  {
   "cell_type": "markdown",
   "id": "34452d49",
   "metadata": {},
   "source": [
    "## Splitting the Dataset for Training "
   ]
  },
  {
   "cell_type": "code",
   "execution_count": 10,
   "id": "a5e74ccd",
   "metadata": {},
   "outputs": [
    {
     "name": "stdout",
     "output_type": "stream",
     "text": [
      "(332640, 19)\n",
      "(332640,)\n",
      "(142560, 19)\n",
      "(142560,)\n"
     ]
    }
   ],
   "source": [
    "train_x,test_x,train_y,test_y=train_test_split(scale_x,balanced_msy,test_size=0.30,random_state=123)\n",
    "print(train_x.shape)\n",
    "print(train_y.shape)\n",
    "print(test_x.shape)\n",
    "print(test_y.shape)"
   ]
  },
  {
   "cell_type": "markdown",
   "id": "0890ac9f",
   "metadata": {},
   "source": [
    "## Training Models"
   ]
  },
  {
   "cell_type": "code",
   "execution_count": 11,
   "id": "44138a12",
   "metadata": {},
   "outputs": [
    {
     "name": "stdout",
     "output_type": "stream",
     "text": [
      "The confussion metrix for Logistic Regression is:\n",
      " [[28853 42547]\n",
      " [28935 42225]]\n",
      "The accuracy of Logistic Regression is:\t\t 0.4985830527497194\n",
      "The recal score of Logistic Regression is is:\t\t 0.593381112984823\n",
      "The precision of Logistic Regression is:\t\t 0.4981007879960364\n",
      "The f1 score of Logistic Regression is:\t\t 0.5415822281507324\n"
     ]
    }
   ],
   "source": [
    "lr=LogisticRegression()\n",
    "lr.fit(train_x,train_y)\n",
    "pred_lr=lr.predict(test_x)\n",
    "print(\"The confussion metrix for Logistic Regression is:\\n\",metrics.confusion_matrix(test_y,pred_lr))\n",
    "print(\"The accuracy of Logistic Regression is:\\t\\t\",metrics.accuracy_score(test_y,pred_lr))\n",
    "print(\"The recal score of Logistic Regression is is:\\t\\t\",metrics.recall_score(test_y,pred_lr))\n",
    "print(\"The precision of Logistic Regression is:\\t\\t\",metrics.precision_score(test_y,pred_lr))\n",
    "print(\"The f1 score of Logistic Regression is:\\t\\t\",metrics.f1_score(test_y,pred_lr))"
   ]
  },
  {
   "cell_type": "code",
   "execution_count": 12,
   "id": "8321cad7",
   "metadata": {},
   "outputs": [
    {
     "name": "stdout",
     "output_type": "stream",
     "text": [
      "The confussion metrix for Random forest is:\n",
      " [[33348 38052]\n",
      " [36256 34904]]\n",
      "The accuracy of Random Forest Classifier is:\t\t 0.47875982042648707\n",
      "The recal score of Random Forest Classifier is:\t\t 0.49050028105677346\n",
      "The precision of Random Forest Classifier is:\t\t 0.4784253522671199\n",
      "The f1 score of Random Forest Classifier is:\t\t 0.4843875766743457\n"
     ]
    }
   ],
   "source": [
    "rf=RandomForestClassifier()\n",
    "rf.fit(train_x,train_y)\n",
    "pred=rf.predict(test_x)\n",
    "print(\"The confussion metrix for Random forest is:\\n\",metrics.confusion_matrix(test_y,pred))\n",
    "print(\"The accuracy of Random Forest Classifier is:\\t\\t\",metrics.accuracy_score(test_y,pred))\n",
    "print(\"The recal score of Random Forest Classifier is:\\t\\t\",metrics.recall_score(test_y,pred))\n",
    "print(\"The precision of Random Forest Classifier is:\\t\\t\",metrics.precision_score(test_y,pred))\n",
    "print(\"The f1 score of Random Forest Classifier is:\\t\\t\",metrics.f1_score(test_y,pred))"
   ]
  },
  {
   "cell_type": "code",
   "execution_count": 13,
   "id": "2c7ecb06",
   "metadata": {},
   "outputs": [
    {
     "name": "stdout",
     "output_type": "stream",
     "text": [
      "The confussion metrix for AdaBoost is:\n",
      " [[28907 42493]\n",
      " [29014 42146]]\n",
      "The accuracy of AdaBoost Classifier is:\t\t 0.4984076879910213\n",
      "The recal score of AdaBoost Classifier is is:\t\t 0.5922709387296233\n",
      "The precision of AdaBoost Classifier is:\t\t 0.4979501175580997\n",
      "The f1 score of AdaBoost Classifier is:\t\t 0.5410304302338268\n"
     ]
    }
   ],
   "source": [
    "ada=AdaBoostClassifier()\n",
    "ada.fit(train_x,train_y)\n",
    "pred_ada=ada.predict(test_x)\n",
    "print(\"The confussion metrix for AdaBoost is:\\n\",metrics.confusion_matrix(test_y,pred_ada))\n",
    "print(\"The accuracy of AdaBoost Classifier is:\\t\\t\",metrics.accuracy_score(test_y,pred_ada))\n",
    "print(\"The recal score of AdaBoost Classifier is is:\\t\\t\",metrics.recall_score(test_y,pred_ada))\n",
    "print(\"The precision of AdaBoost Classifier is:\\t\\t\",metrics.precision_score(test_y,pred_ada))\n",
    "print(\"The f1 score of AdaBoost Classifier is:\\t\\t\",metrics.f1_score(test_y,pred_ada))"
   ]
  },
  {
   "cell_type": "code",
   "execution_count": 14,
   "id": "12d7555c",
   "metadata": {},
   "outputs": [
    {
     "name": "stdout",
     "output_type": "stream",
     "text": [
      "The confussion metrix for Decision Tree is:\n",
      " [[35206 36194]\n",
      " [38088 33072]]\n",
      "The accuracy of Decision Tree Classifier is:\t\t 0.4789421997755331\n",
      "The recal score of Decision Tree Classifier is is:\t\t 0.4647554806070826\n",
      "The precision of Decision Tree Classifier is:\t\t 0.47746369069962175\n",
      "The f1 score of Decision Tree Classifier is:\t\t 0.4710238844658397\n"
     ]
    }
   ],
   "source": [
    "dsc=DecisionTreeClassifier()\n",
    "dsc.fit(train_x,train_y)\n",
    "pred_dsc=dsc.predict(test_x)\n",
    "print(\"The confussion metrix for Decision Tree is:\\n\",metrics.confusion_matrix(test_y,pred_dsc))\n",
    "print(\"The accuracy of Decision Tree Classifier is:\\t\\t\",metrics.accuracy_score(test_y,pred_dsc))\n",
    "print(\"The recal score of Decision Tree Classifier is is:\\t\\t\",metrics.recall_score(test_y,pred_dsc))\n",
    "print(\"The precision of Decision Tree Classifier is:\\t\\t\",metrics.precision_score(test_y,pred_dsc))\n",
    "print(\"The f1 score of Decision Tree Classifier is:\\t\\t\",metrics.f1_score(test_y,pred_dsc))"
   ]
  },
  {
   "cell_type": "markdown",
   "id": "c2d33cc7",
   "metadata": {},
   "source": [
    "# For Moderate Severity"
   ]
  },
  {
   "cell_type": "code",
   "execution_count": 15,
   "id": "4f469e49",
   "metadata": {},
   "outputs": [
    {
     "name": "stdout",
     "output_type": "stream",
     "text": [
      "(475200, 19)\n",
      "(475200,)\n"
     ]
    }
   ],
   "source": [
    "balanced_mosx,balanced_mosy=smote.fit_resample(dataset1.iloc[:,0:19],dataset1.iloc[:,20])\n",
    "print(balanced_msx.shape)\n",
    "print(balanced_msy.shape)"
   ]
  },
  {
   "cell_type": "markdown",
   "id": "bf47053a",
   "metadata": {},
   "source": [
    "## Training Models"
   ]
  },
  {
   "cell_type": "code",
   "execution_count": 16,
   "id": "b01eb891",
   "metadata": {},
   "outputs": [
    {
     "name": "stdout",
     "output_type": "stream",
     "text": [
      "(332640, 19)\n",
      "(332640,)\n",
      "(142560, 19)\n",
      "(142560,)\n"
     ]
    }
   ],
   "source": [
    "train_mox,test_mox,train_moy,test_moy=train_test_split(balanced_mosx,balanced_mosy,test_size=0.30,random_state=123)\n",
    "print(train_mox.shape)\n",
    "print(train_moy.shape)\n",
    "print(test_mox.shape)\n",
    "print(test_moy.shape)"
   ]
  },
  {
   "cell_type": "markdown",
   "id": "28feb139",
   "metadata": {},
   "source": [
    "### Using AdaBoost Classifier "
   ]
  },
  {
   "cell_type": "code",
   "execution_count": 17,
   "id": "e1c74129",
   "metadata": {},
   "outputs": [
    {
     "name": "stdout",
     "output_type": "stream",
     "text": [
      "The confussion metrix for AdaBoost is:\n",
      " [[29850 41550]\n",
      " [29916 41244]]\n",
      "The accuracy of AdaBoost Classifier is:\t\t 0.4986952861952862\n",
      "The recal score of AdaBoost Classifier is is:\t\t 0.5795952782462057\n",
      "The precision of AdaBoost Classifier is:\t\t 0.49815204000289875\n",
      "The f1 score of AdaBoost Classifier is:\t\t 0.5357964067188902\n"
     ]
    }
   ],
   "source": [
    "ada_mo=AdaBoostClassifier()\n",
    "ada_mo.fit(train_mox,train_moy)\n",
    "pred_ada_mo=ada_mo.predict(test_mox)\n",
    "print(\"The confussion metrix for AdaBoost is:\\n\",metrics.confusion_matrix(test_y,pred_ada_mo))\n",
    "print(\"The accuracy of AdaBoost Classifier is:\\t\\t\",metrics.accuracy_score(test_y,pred_ada_mo))\n",
    "print(\"The recal score of AdaBoost Classifier is is:\\t\\t\",metrics.recall_score(test_y,pred_ada_mo))\n",
    "print(\"The precision of AdaBoost Classifier is:\\t\\t\",metrics.precision_score(test_y,pred_ada_mo))\n",
    "print(\"The f1 score of AdaBoost Classifier is:\\t\\t\",metrics.f1_score(test_y,pred_ada_mo))"
   ]
  },
  {
   "cell_type": "markdown",
   "id": "0fdde250",
   "metadata": {},
   "source": [
    "### Using Random Forest Classifier"
   ]
  },
  {
   "cell_type": "code",
   "execution_count": 18,
   "id": "6200bcc8",
   "metadata": {},
   "outputs": [
    {
     "name": "stdout",
     "output_type": "stream",
     "text": [
      "The confussion metrix for Decision Tree Classifier is:\n",
      " [[34691 36709]\n",
      " [34812 36348]]\n",
      "The accuracy of Decision Tree Classifier is:\t\t 0.4983094837261504\n",
      "The recal score of Decision Tree Classifier is is:\t\t 0.5107925801011804\n",
      "The precision of Decision Tree Classifier is:\t\t 0.49752932641635983\n",
      "The f1 score of Decision Tree Classifier is:\t\t 0.5040737222380164\n"
     ]
    }
   ],
   "source": [
    "rf_mo=RandomForestClassifier()\n",
    "rf_mo.fit(train_mox,train_moy)\n",
    "pred_rf_mo=rf_mo.predict(test_mox)\n",
    "print(\"The confussion metrix for Decision Tree Classifier is:\\n\",metrics.confusion_matrix(test_y,pred_rf_mo))\n",
    "print(\"The accuracy of Decision Tree Classifier is:\\t\\t\",metrics.accuracy_score(test_y,pred_rf_mo))\n",
    "print(\"The recal score of Decision Tree Classifier is is:\\t\\t\",metrics.recall_score(test_y,pred_rf_mo))\n",
    "print(\"The precision of Decision Tree Classifier is:\\t\\t\",metrics.precision_score(test_y,pred_rf_mo))\n",
    "print(\"The f1 score of Decision Tree Classifier is:\\t\\t\",metrics.f1_score(test_y,pred_rf_mo))"
   ]
  },
  {
   "cell_type": "markdown",
   "id": "f9972a99",
   "metadata": {},
   "source": [
    "### Using Decision Tree Classifier"
   ]
  },
  {
   "cell_type": "code",
   "execution_count": 19,
   "id": "6795d76c",
   "metadata": {},
   "outputs": [
    {
     "name": "stdout",
     "output_type": "stream",
     "text": [
      "The confussion metrix for Decision Tree is:\n",
      " [[37869 33531]\n",
      " [38106 33054]]\n",
      "The accuracy of Decision Tree Classifier is:\t\t 0.49749579124579124\n",
      "The recal score of Decision Tree Classifier is is:\t\t 0.4645025295109612\n",
      "The precision of Decision Tree Classifier is:\t\t 0.4964181121874296\n",
      "The f1 score of Decision Tree Classifier is:\t\t 0.47993030600021774\n"
     ]
    }
   ],
   "source": [
    "dsc_mo=DecisionTreeClassifier()\n",
    "dsc_mo.fit(train_mox,train_moy)\n",
    "pred_dsc_mo=dsc.predict(test_mox)\n",
    "print(\"The confussion metrix for Decision Tree is:\\n\",metrics.confusion_matrix(test_y,pred_dsc_mo))\n",
    "print(\"The accuracy of Decision Tree Classifier is:\\t\\t\",metrics.accuracy_score(test_y,pred_dsc_mo))\n",
    "print(\"The recal score of Decision Tree Classifier is is:\\t\\t\",metrics.recall_score(test_y,pred_dsc_mo))\n",
    "print(\"The precision of Decision Tree Classifier is:\\t\\t\",metrics.precision_score(test_y,pred_dsc_mo))\n",
    "print(\"The f1 score of Decision Tree Classifier is:\\t\\t\",metrics.f1_score(test_y,pred_dsc_mo))"
   ]
  },
  {
   "cell_type": "markdown",
   "id": "eb5d9ec8",
   "metadata": {},
   "source": [
    "### Using Logistic Regression "
   ]
  },
  {
   "cell_type": "code",
   "execution_count": 20,
   "id": "99c0b660",
   "metadata": {},
   "outputs": [
    {
     "name": "stdout",
     "output_type": "stream",
     "text": [
      "The confussion metrix for Logistic Regression is:\n",
      " [[29823 41577]\n",
      " [29879 41281]]\n",
      "The accuracy of Logistic Regression is:\t\t 0.49876543209876545\n",
      "The recal score of Logistic Regression is is:\t\t 0.580115233277122\n",
      "The precision of Logistic Regression is:\t\t 0.4982138115812595\n",
      "The f1 score of Logistic Regression is:\t\t 0.5360542274279629\n"
     ]
    }
   ],
   "source": [
    "lr_mo=LogisticRegression()\n",
    "lr_mo.fit(train_mox,train_moy)\n",
    "pred_lr_mo=lr_mo.predict(test_mox)\n",
    "print(\"The confussion metrix for Logistic Regression is:\\n\",metrics.confusion_matrix(test_y,pred_lr_mo))\n",
    "print(\"The accuracy of Logistic Regression is:\\t\\t\",metrics.accuracy_score(test_y,pred_lr_mo))\n",
    "print(\"The recal score of Logistic Regression is is:\\t\\t\",metrics.recall_score(test_y,pred_lr_mo))\n",
    "print(\"The precision of Logistic Regression is:\\t\\t\",metrics.precision_score(test_y,pred_lr_mo))\n",
    "print(\"The f1 score of Logistic Regression is:\\t\\t\",metrics.f1_score(test_y,pred_lr_mo))"
   ]
  },
  {
   "cell_type": "markdown",
   "id": "b9d83550",
   "metadata": {},
   "source": [
    "# For Severe Severity"
   ]
  },
  {
   "cell_type": "code",
   "execution_count": 21,
   "id": "c0cdf0c5",
   "metadata": {},
   "outputs": [
    {
     "name": "stdout",
     "output_type": "stream",
     "text": [
      "(475200, 19)\n",
      "(475200,)\n"
     ]
    }
   ],
   "source": [
    "balanced_sesx,balanced_sesy=smote.fit_resample(dataset1.iloc[:,0:19],dataset1.iloc[:,22])\n",
    "print(balanced_sesx.shape)\n",
    "print(balanced_sesy.shape)"
   ]
  },
  {
   "cell_type": "markdown",
   "id": "755b497b",
   "metadata": {},
   "source": [
    "## Splitting the Dateset for Training "
   ]
  },
  {
   "cell_type": "code",
   "execution_count": 22,
   "id": "f3ae8a48",
   "metadata": {},
   "outputs": [
    {
     "name": "stdout",
     "output_type": "stream",
     "text": [
      "(332640, 19)\n",
      "(332640,)\n",
      "(142560, 19)\n",
      "(142560,)\n"
     ]
    }
   ],
   "source": [
    "train_sx,test_sx,train_sy,test_sy=train_test_split(balanced_sesx,balanced_sesy,test_size=0.30,random_state=123)\n",
    "print(train_sx.shape)\n",
    "print(train_sy.shape)\n",
    "print(test_sx.shape)\n",
    "print(test_sy.shape)"
   ]
  },
  {
   "cell_type": "markdown",
   "id": "73a869e6",
   "metadata": {},
   "source": [
    "# Training Models"
   ]
  },
  {
   "cell_type": "markdown",
   "id": "21e8f454",
   "metadata": {},
   "source": [
    "### Using AdaBoost Classifier"
   ]
  },
  {
   "cell_type": "code",
   "execution_count": 23,
   "id": "def3a7ac",
   "metadata": {},
   "outputs": [
    {
     "name": "stdout",
     "output_type": "stream",
     "text": [
      "The confussion metrix for AdaBoost is:\n",
      " [[38534 32866]\n",
      " [38107 33053]]\n",
      "The accuracy of AdaBoost Classifier is:\t\t 0.5021534792368125\n",
      "The recal score of AdaBoost Classifier is is:\t\t 0.4644884766722878\n",
      "The precision of AdaBoost Classifier is:\t\t 0.5014184074394332\n",
      "The f1 score of AdaBoost Classifier is:\t\t 0.482247463141692\n"
     ]
    }
   ],
   "source": [
    "ada_se=AdaBoostClassifier()\n",
    "ada_se.fit(train_sx,train_sy)\n",
    "pred_ada_se=ada_se.predict(test_sx)\n",
    "print(\"The confussion metrix for AdaBoost is:\\n\",metrics.confusion_matrix(test_y,pred_ada_se))\n",
    "print(\"The accuracy of AdaBoost Classifier is:\\t\\t\",metrics.accuracy_score(test_y,pred_ada_se))\n",
    "print(\"The recal score of AdaBoost Classifier is is:\\t\\t\",metrics.recall_score(test_y,pred_ada_se))\n",
    "print(\"The precision of AdaBoost Classifier is:\\t\\t\",metrics.precision_score(test_y,pred_ada_se))\n",
    "print(\"The f1 score of AdaBoost Classifier is:\\t\\t\",metrics.f1_score(test_y,pred_ada_se))"
   ]
  },
  {
   "cell_type": "markdown",
   "id": "5ed713e1",
   "metadata": {},
   "source": [
    "### Using Random Forest Classifier\n"
   ]
  },
  {
   "cell_type": "code",
   "execution_count": 24,
   "id": "cd18cdfe",
   "metadata": {},
   "outputs": [
    {
     "name": "stdout",
     "output_type": "stream",
     "text": [
      "The confussion metrix for Decision Tree Classifier is:\n",
      " [[34691 36709]\n",
      " [34689 36471]]\n",
      "The accuracy of Decision Tree Classifier is:\t\t 0.499172278338945\n",
      "The recal score of Decision Tree Classifier is is:\t\t 0.5125210792580102\n",
      "The precision of Decision Tree Classifier is:\t\t 0.4983738726427986\n",
      "The f1 score of Decision Tree Classifier is:\t\t 0.5053484827490647\n"
     ]
    }
   ],
   "source": [
    "rf_se=RandomForestClassifier()\n",
    "rf_se.fit(train_sx,train_sy)\n",
    "pred_rf_se=rf_mo.predict(test_sx)\n",
    "print(\"The confussion metrix for Decision Tree Classifier is:\\n\",metrics.confusion_matrix(test_y,pred_rf_se))\n",
    "print(\"The accuracy of Decision Tree Classifier is:\\t\\t\",metrics.accuracy_score(test_y,pred_rf_se))\n",
    "print(\"The recal score of Decision Tree Classifier is is:\\t\\t\",metrics.recall_score(test_y,pred_rf_se))\n",
    "print(\"The precision of Decision Tree Classifier is:\\t\\t\",metrics.precision_score(test_y,pred_rf_se))\n",
    "print(\"The f1 score of Decision Tree Classifier is:\\t\\t\",metrics.f1_score(test_y,pred_rf_se))"
   ]
  },
  {
   "cell_type": "markdown",
   "id": "5057c6d7",
   "metadata": {},
   "source": [
    "### Using Logistic Regression "
   ]
  },
  {
   "cell_type": "code",
   "execution_count": 25,
   "id": "4f258ee3",
   "metadata": {},
   "outputs": [
    {
     "name": "stdout",
     "output_type": "stream",
     "text": [
      "The confussion metrix for Logistic Regression is:\n",
      " [[38584 32816]\n",
      " [38168 32992]]\n",
      "The accuracy of Logistic Regression is:\t\t 0.5020763187429854\n",
      "The recal score of Logistic Regression is is:\t\t 0.46363125351320966\n",
      "The precision of Logistic Regression is:\t\t 0.5013372234378799\n",
      "The f1 score of Logistic Regression is:\t\t 0.48174756147421294\n"
     ]
    }
   ],
   "source": [
    "lr_se=LogisticRegression()\n",
    "lr_se.fit(train_sx,train_sy)\n",
    "pred_lr_se=lr_se.predict(test_sx)\n",
    "print(\"The confussion metrix for Logistic Regression is:\\n\",metrics.confusion_matrix(test_y,pred_lr_se))\n",
    "print(\"The accuracy of Logistic Regression is:\\t\\t\",metrics.accuracy_score(test_y,pred_lr_se))\n",
    "print(\"The recal score of Logistic Regression is is:\\t\\t\",metrics.recall_score(test_y,pred_lr_se))\n",
    "print(\"The precision of Logistic Regression is:\\t\\t\",metrics.precision_score(test_y,pred_lr_se))\n",
    "print(\"The f1 score of Logistic Regression is:\\t\\t\",metrics.f1_score(test_y,pred_lr_se))"
   ]
  },
  {
   "cell_type": "markdown",
   "id": "e13ab33f",
   "metadata": {},
   "source": [
    "### Using Decision Tree Classifier"
   ]
  },
  {
   "cell_type": "code",
   "execution_count": 26,
   "id": "e72fd3ae",
   "metadata": {},
   "outputs": [
    {
     "name": "stdout",
     "output_type": "stream",
     "text": [
      "The confussion metrix for Decision Tree is:\n",
      " [[37715 33685]\n",
      " [37646 33514]]\n",
      "The accuracy of Decision Tree Classifier is:\t\t 0.4996422558922559\n",
      "The recal score of Decision Tree Classifier is is:\t\t 0.47096683530073075\n",
      "The precision of Decision Tree Classifier is:\t\t 0.49872765963779225\n",
      "The f1 score of Decision Tree Classifier is:\t\t 0.484449873156065\n"
     ]
    }
   ],
   "source": [
    "dsc_se=DecisionTreeClassifier()\n",
    "dsc_se.fit(train_sx,train_sy)\n",
    "pred_dsc_se=dsc_se.predict(test_sx)\n",
    "print(\"The confussion metrix for Decision Tree is:\\n\",metrics.confusion_matrix(test_y,pred_dsc_se))\n",
    "print(\"The accuracy of Decision Tree Classifier is:\\t\\t\",metrics.accuracy_score(test_y,pred_dsc_se))\n",
    "print(\"The recal score of Decision Tree Classifier is is:\\t\\t\",metrics.recall_score(test_y,pred_dsc_se))\n",
    "print(\"The precision of Decision Tree Classifier is:\\t\\t\",metrics.precision_score(test_y,pred_dsc_se))\n",
    "print(\"The f1 score of Decision Tree Classifier is:\\t\\t\",metrics.f1_score(test_y,pred_dsc_se))"
   ]
  },
  {
   "cell_type": "code",
   "execution_count": 4,
   "id": "442564c2",
   "metadata": {},
   "outputs": [],
   "source": [
    "severe=dataset1.iloc[:,19]|dataset1.iloc[:20]|dataset1.iloc[:,22]"
   ]
  },
  {
   "cell_type": "code",
   "execution_count": null,
   "id": "20a750de",
   "metadata": {},
   "outputs": [],
   "source": [
    "print(severe.value_counts())"
   ]
  }
 ],
 "metadata": {
  "kernelspec": {
   "display_name": "Python 3",
   "language": "python",
   "name": "python3"
  },
  "language_info": {
   "codemirror_mode": {
    "name": "ipython",
    "version": 3
   },
   "file_extension": ".py",
   "mimetype": "text/x-python",
   "name": "python",
   "nbconvert_exporter": "python",
   "pygments_lexer": "ipython3",
   "version": "3.8.8"
  }
 },
 "nbformat": 4,
 "nbformat_minor": 5
}
